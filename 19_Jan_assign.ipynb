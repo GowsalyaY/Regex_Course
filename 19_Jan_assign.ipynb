{
 "cells": [
  {
   "cell_type": "markdown",
   "metadata": {},
   "source": [
    "Star Pattern"
   ]
  },
  {
   "cell_type": "code",
   "execution_count": 1,
   "metadata": {},
   "outputs": [
    {
     "name": "stdout",
     "output_type": "stream",
     "text": [
      "Enter the number : 5\n",
      "*\n",
      "\n",
      "**\n",
      "\n",
      "***\n",
      "\n",
      "****\n",
      "\n",
      "*****\n",
      "\n"
     ]
    }
   ],
   "source": [
    "num=int(input(\"Enter the number : \"))\n",
    "for i in range(0,num):\n",
    "    for j in range(0,i+1):\n",
    "        print(\"*\",end=\"\")\n",
    "    print(\"\\n\")"
   ]
  },
  {
   "cell_type": "markdown",
   "metadata": {},
   "source": [
    "Palindrom"
   ]
  },
  {
   "cell_type": "code",
   "execution_count": 2,
   "metadata": {},
   "outputs": [
    {
     "name": "stdout",
     "output_type": "stream",
     "text": [
      "Enter thes string : Madam\n",
      "The given string is palindrom\n"
     ]
    }
   ],
   "source": [
    "string=input(\"Enter thes string : \")\n",
    "res_string=\"\"\n",
    "string=string.lower()\n",
    "for i in string:\n",
    "    res_string=i+res_string\n",
    "if string==res_string:\n",
    "    print(\"The given string is palindrom\")\n",
    "else:\n",
    "    print(\"The given string is not palindrom\")\n"
   ]
  },
  {
   "cell_type": "markdown",
   "metadata": {},
   "source": [
    "Checking the password"
   ]
  },
  {
   "cell_type": "code",
   "execution_count": 3,
   "metadata": {},
   "outputs": [
    {
     "name": "stdout",
     "output_type": "stream",
     "text": [
      "Enter the password : Girl@12345\n",
      "Valid Password\n"
     ]
    }
   ],
   "source": [
    "Password=input(\"Enter the password : \")\n",
    "low,cap,dig,spl=0,0,0,0\n",
    "if 6<=len(Password)<=15:\n",
    "    if \"@\"or \"#\"or \"$\" in Password:\n",
    "        spl+=1\n",
    "    for char in Password:\n",
    "        if char.isupper():\n",
    "            cap+=1\n",
    "        elif char.islower():\n",
    "            low+=1\n",
    "        elif char.isdigit():\n",
    "            dig+=1\n",
    "            \n",
    "    if cap>=1 and low>=1 and dig>=1 and spl>=1:\n",
    "        print(\"Valid Password\")\n",
    "else:\n",
    "    print(\"Invalid Password\")"
   ]
  },
  {
   "cell_type": "code",
   "execution_count": null,
   "metadata": {},
   "outputs": [],
   "source": []
  }
 ],
 "metadata": {
  "kernelspec": {
   "display_name": "Python 3",
   "language": "python",
   "name": "python3"
  },
  "language_info": {
   "codemirror_mode": {
    "name": "ipython",
    "version": 3
   },
   "file_extension": ".py",
   "mimetype": "text/x-python",
   "name": "python",
   "nbconvert_exporter": "python",
   "pygments_lexer": "ipython3",
   "version": "3.8.5"
  }
 },
 "nbformat": 4,
 "nbformat_minor": 4
}
