{
 "cells": [
  {
   "cell_type": "markdown",
   "metadata": {
    "id": "3mwNQmEczYIi"
   },
   "source": [
    "Q1. Write a lambda expression to extract first word of a string."
   ]
  },
  {
   "cell_type": "code",
   "execution_count": 1,
   "metadata": {
    "id": "DuDh9lCezavk"
   },
   "outputs": [
    {
     "name": "stdout",
     "output_type": "stream",
     "text": [
      "<function <lambda> at 0x0000019F5CA1DCA0>\n"
     ]
    }
   ],
   "source": [
    "string=\"This is my car which i bought last year\"\n",
    "result=(lambda string:string.split()[0])\n",
    "print(result)"
   ]
  },
  {
   "cell_type": "markdown",
   "metadata": {
    "id": "6vj61nwizber"
   },
   "source": [
    "Q2. Write a function to extract first word of a string (with many words separated by space)."
   ]
  },
  {
   "cell_type": "code",
   "execution_count": 2,
   "metadata": {
    "id": "lJ-u2RSdziQB"
   },
   "outputs": [],
   "source": [
    "def extract_first(string):\n",
    "    for word in string.split():\n",
    "        return word"
   ]
  },
  {
   "cell_type": "code",
   "execution_count": 3,
   "metadata": {
    "id": "WCHUO4qZAszT"
   },
   "outputs": [
    {
     "data": {
      "text/plain": [
       "'This'"
      ]
     },
     "execution_count": 3,
     "metadata": {},
     "output_type": "execute_result"
    }
   ],
   "source": [
    "extract_first(\"This is my car which i bought last year\")"
   ]
  },
  {
   "cell_type": "markdown",
   "metadata": {
    "id": "x1Qr_gQTzjHe"
   },
   "source": [
    "Q3. Extract the first word from every string from a list of strings by using map function."
   ]
  },
  {
   "cell_type": "code",
   "execution_count": 4,
   "metadata": {
    "id": "K-iMfYgkzugo"
   },
   "outputs": [
    {
     "data": {
      "text/plain": [
       "['This', 'Find', 'Make', 'cost', 'Understand']"
      ]
     },
     "execution_count": 4,
     "metadata": {},
     "output_type": "execute_result"
    }
   ],
   "source": [
    "string=[\"This is a book\",\"Find the keys\",\"Make a coffee\",\"cost of quality\",\"Understand the flow of work\"]\n",
    "result=list(map(lambda string:string.split()[0],string))\n",
    "result"
   ]
  },
  {
   "cell_type": "markdown",
   "metadata": {
    "id": "dgTDebouzvF2"
   },
   "source": [
    "Q4. Write a function to return a list of prime factors of a given number."
   ]
  },
  {
   "cell_type": "code",
   "execution_count": 5,
   "metadata": {
    "executionInfo": {
     "elapsed": 493,
     "status": "ok",
     "timestamp": 1644056134005,
     "user": {
      "displayName": "Gowsalya Y",
      "photoUrl": "https://lh3.googleusercontent.com/a-/AOh14GhhGYuQWdGu2YbvKvI-fyt8SFNRfVtIBHTa1tN0Sg=s64",
      "userId": "18322451228739925466"
     },
     "user_tz": -330
    },
    "id": "-HiJRIOHWOQR"
   },
   "outputs": [],
   "source": [
    "def prime_factor(n):\n",
    "    lst=[]\n",
    "    i=2\n",
    "    while n>=i:\n",
    "        if n%i==0:\n",
    "            lst.append(i)\n",
    "            n=n//i\n",
    "        i+=1\n",
    "    return lst\n"
   ]
  },
  {
   "cell_type": "code",
   "execution_count": 6,
   "metadata": {
    "colab": {
     "base_uri": "https://localhost:8080/"
    },
    "executionInfo": {
     "elapsed": 14,
     "status": "ok",
     "timestamp": 1644056146735,
     "user": {
      "displayName": "Gowsalya Y",
      "photoUrl": "https://lh3.googleusercontent.com/a-/AOh14GhhGYuQWdGu2YbvKvI-fyt8SFNRfVtIBHTa1tN0Sg=s64",
      "userId": "18322451228739925466"
     },
     "user_tz": -330
    },
    "id": "ecBuf0naW2Xp",
    "outputId": "51c443bb-df08-4c60-d840-ec08e580a81c"
   },
   "outputs": [
    {
     "data": {
      "text/plain": [
       "[2, 3, 17]"
      ]
     },
     "execution_count": 6,
     "metadata": {},
     "output_type": "execute_result"
    }
   ],
   "source": [
    "res=prime_factor(102)\n",
    "res"
   ]
  },
  {
   "cell_type": "markdown",
   "metadata": {
    "id": "q7Kw5Bdlz1Ld"
   },
   "source": [
    "Q5. Write a function that finds 2nd largest among 4 numbers (Repetitions are allowed,\n",
    "without sorting)."
   ]
  },
  {
   "cell_type": "code",
   "execution_count": 7,
   "metadata": {
    "id": "SUtP3Vsvz5rb"
   },
   "outputs": [],
   "source": [
    "def find_second_largest(lst):\n",
    "    res=[]\n",
    "    lst=list(set(lst))\n",
    "    while len(lst)>0:\n",
    "        val=lst[0]\n",
    "        for i in lst:\n",
    "            if i>val:\n",
    "                val=i\n",
    "        res.append(val)\n",
    "        lst.remove(val)\n",
    "    return res[1]"
   ]
  },
  {
   "cell_type": "code",
   "execution_count": 8,
   "metadata": {
    "colab": {
     "base_uri": "https://localhost:8080/"
    },
    "executionInfo": {
     "elapsed": 18,
     "status": "ok",
     "timestamp": 1643976718518,
     "user": {
      "displayName": "Gowsalya Y",
      "photoUrl": "https://lh3.googleusercontent.com/a-/AOh14GhhGYuQWdGu2YbvKvI-fyt8SFNRfVtIBHTa1tN0Sg=s64",
      "userId": "18322451228739925466"
     },
     "user_tz": -330
    },
    "id": "31yfF0gw5JAy",
    "outputId": "6deeac8d-8d44-49ea-9074-556387abc78c"
   },
   "outputs": [
    {
     "data": {
      "text/plain": [
       "70"
      ]
     },
     "execution_count": 8,
     "metadata": {},
     "output_type": "execute_result"
    }
   ],
   "source": [
    "find_second_largest([60,40,80,80,70,20,20,40,50])"
   ]
  },
  {
   "cell_type": "markdown",
   "metadata": {
    "id": "Q3T3Hky-z6Sg"
   },
   "source": [
    "Q6. Take an input from the user as string and find out all the non duplicate words from the\n",
    "input\n",
    "\" hello I am good hello user , user welcome\"\n",
    "- Output \" hello I am good user welcome\n",
    "Note: don't use the inbuilt method for finding the non duplicates words"
   ]
  },
  {
   "cell_type": "code",
   "execution_count": 9,
   "metadata": {
    "id": "tXwMqF9y0DZy"
   },
   "outputs": [
    {
     "name": "stdout",
     "output_type": "stream",
     "text": [
      "Enter the string : hello I am good hello user , user welcome\n",
      "hello I am good user welcome\n"
     ]
    }
   ],
   "source": [
    "string=input(\"Enter the string : \")\n",
    "string=string.split()\n",
    "string.remove(\",\")\n",
    "result=[]\n",
    "for word in string:\n",
    "    if word not in result:\n",
    "        result.append(word)\n",
    "result=\" \".join(result)\n",
    "print(result)\n"
   ]
  },
  {
   "cell_type": "markdown",
   "metadata": {
    "id": "DLLVYDWJ0Exu"
   },
   "source": [
    "Q7. Take a input from the user and verify the data is a palindrome or not\n",
    "\"NAMAN\""
   ]
  },
  {
   "cell_type": "code",
   "execution_count": 10,
   "metadata": {
    "id": "KKeTLqJo0LvM"
   },
   "outputs": [
    {
     "name": "stdout",
     "output_type": "stream",
     "text": [
      "Enter the string : NAMAN\n",
      "The string is Palindrom\n"
     ]
    }
   ],
   "source": [
    "string=input(\"Enter the string : \")\n",
    "result=\"\"\n",
    "string=string.lower()\n",
    "for i in string:\n",
    "    result=i+result\n",
    "if string==result:\n",
    "    print(\"The string is Palindrom\")\n",
    "else:\n",
    "    print(\"The string is not Palindrom\")"
   ]
  },
  {
   "cell_type": "markdown",
   "metadata": {
    "id": "-HLnp_lK0QQI"
   },
   "source": [
    "Q8. Use exception handling to find out the LCM & HCF of two numbers\n",
    "- Input of two numbers has to be given by the user"
   ]
  },
  {
   "cell_type": "code",
   "execution_count": 11,
   "metadata": {
    "colab": {
     "base_uri": "https://localhost:8080/"
    },
    "executionInfo": {
     "elapsed": 7734,
     "status": "ok",
     "timestamp": 1644058636913,
     "user": {
      "displayName": "Gowsalya Y",
      "photoUrl": "https://lh3.googleusercontent.com/a-/AOh14GhhGYuQWdGu2YbvKvI-fyt8SFNRfVtIBHTa1tN0Sg=s64",
      "userId": "18322451228739925466"
     },
     "user_tz": -330
    },
    "id": "WvxD1tsF0Wla",
    "outputId": "371df5e2-99a6-4922-94ac-ba4661e982ae"
   },
   "outputs": [
    {
     "name": "stdout",
     "output_type": "stream",
     "text": [
      "Enter the first number : 125\n",
      "Enter the second number : 25\n",
      "LCM : 125,HCF : 25\n"
     ]
    }
   ],
   "source": [
    "try:\n",
    "    f_num=int(input(\"Enter the first number : \"))\n",
    "    s_num=int(input(\"Enter the second number : \"))\n",
    "    i=f_num\n",
    "    j=s_num\n",
    "    while j!=0:\n",
    "        temp=j\n",
    "        j=i%j\n",
    "        i=temp\n",
    "    HCF=i\n",
    "    LCM=int((f_num*s_num)/HCF)\n",
    "    print(f\"LCM : {LCM},HCF : {HCF}\")    \n",
    "except:\n",
    "    print(\"Value Error\") "
   ]
  },
  {
   "cell_type": "code",
   "execution_count": null,
   "metadata": {
    "id": "LPYixW-0NUOh"
   },
   "outputs": [],
   "source": []
  }
 ],
 "metadata": {
  "colab": {
   "authorship_tag": "ABX9TyNWmZfSL2+Iydnc9m4Xourl",
   "collapsed_sections": [],
   "name": "Assignment 2-Functions.ipynb",
   "provenance": []
  },
  "kernelspec": {
   "display_name": "Python 3",
   "language": "python",
   "name": "python3"
  },
  "language_info": {
   "codemirror_mode": {
    "name": "ipython",
    "version": 3
   },
   "file_extension": ".py",
   "mimetype": "text/x-python",
   "name": "python",
   "nbconvert_exporter": "python",
   "pygments_lexer": "ipython3",
   "version": "3.8.5"
  }
 },
 "nbformat": 4,
 "nbformat_minor": 1
}
