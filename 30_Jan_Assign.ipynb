{
 "cells": [
  {
   "cell_type": "markdown",
   "metadata": {},
   "source": [
    "Q1 : Take an input from the user as string and find out all the non duplicate words from the input\n",
    "\t\"hello I am good hello user , user welcome\"\n",
    "\t- Output \" hello I am good user welcome\n"
   ]
  },
  {
   "cell_type": "code",
   "execution_count": 4,
   "metadata": {},
   "outputs": [
    {
     "name": "stdout",
     "output_type": "stream",
     "text": [
      "Enter the string : hello I am good hello user , user welcome\n",
      "hello I am good user welcome\n"
     ]
    }
   ],
   "source": [
    "string=input(\"Enter the string : \")\n",
    "result=[]\n",
    "string=string.split(\" \")\n",
    "string.remove(\",\")\n",
    "for word in string:\n",
    "    if word not in result:\n",
    "        result.append(word)   \n",
    "result=\" \".join(result)\n",
    "print(result)"
   ]
  },
  {
   "cell_type": "markdown",
   "metadata": {},
   "source": [
    "Q2: Take a input from the user and verify the data is a palindrome or not\n",
    "\t\"NAMAN\""
   ]
  },
  {
   "cell_type": "code",
   "execution_count": 2,
   "metadata": {},
   "outputs": [
    {
     "name": "stdout",
     "output_type": "stream",
     "text": [
      "Enter the string : NAMAN\n",
      "The given string is palindrom\n"
     ]
    }
   ],
   "source": [
    "string=input(\"Enter the string : \")\n",
    "res_string=\"\"\n",
    "string=string.lower()\n",
    "for i in string:\n",
    "    res_string=i+res_string\n",
    "if string==res_string:\n",
    "    print(\"The given string is palindrom\")\n",
    "else:\n",
    "    print(\"The given string is not palindrom\")\n"
   ]
  },
  {
   "cell_type": "markdown",
   "metadata": {},
   "source": [
    "Q3 Use exception handling to find out the LCM & HCF of two numbers\n",
    "\t- Input of two numbers has to be given by the user\n"
   ]
  },
  {
   "cell_type": "code",
   "execution_count": 1,
   "metadata": {},
   "outputs": [
    {
     "name": "stdout",
     "output_type": "stream",
     "text": [
      "Enter the first number : 3\n",
      "Enter the second number : 4\n",
      "LCM : 12,HCF : 1\n"
     ]
    }
   ],
   "source": [
    "try:\n",
    "    f_num=int(input(\"Enter the first number : \"))\n",
    "    s_num=int(input(\"Enter the second number : \"))\n",
    "    i=f_num\n",
    "    j=s_num\n",
    "    while j!=0:\n",
    "        temp=j\n",
    "        j=i%j\n",
    "        i=temp\n",
    "    HCF=i\n",
    "    LCM=int((f_num*s_num)/HCF)\n",
    "    print(f\"LCM : {LCM},HCF : {HCF}\")    \n",
    "except:\n",
    "    print(\"Value Error\") "
   ]
  },
  {
   "cell_type": "code",
   "execution_count": null,
   "metadata": {},
   "outputs": [],
   "source": []
  }
 ],
 "metadata": {
  "kernelspec": {
   "display_name": "Python 3",
   "language": "python",
   "name": "python3"
  },
  "language_info": {
   "codemirror_mode": {
    "name": "ipython",
    "version": 3
   },
   "file_extension": ".py",
   "mimetype": "text/x-python",
   "name": "python",
   "nbconvert_exporter": "python",
   "pygments_lexer": "ipython3",
   "version": "3.8.5"
  }
 },
 "nbformat": 4,
 "nbformat_minor": 4
}
