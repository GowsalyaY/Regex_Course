{
 "cells": [
  {
   "cell_type": "markdown",
   "metadata": {
    "id": "26qrrW_tVB0w"
   },
   "source": [
    "Q1 Write your short introduction in a text file. Your introduction consists of Name, Id, contact\n",
    "number, Address, Stream, Joining date, Qualification, Hobbies, Strength and weakness. Pass\n",
    "this file to python. Your task is to calculate total characters, numbers, words and lines used\n",
    "in this introduction file."
   ]
  },
  {
   "cell_type": "code",
   "execution_count": 1,
   "metadata": {
    "id": "68GH5fFwVEIb"
   },
   "outputs": [
    {
     "name": "stdout",
     "output_type": "stream",
     "text": [
      "Gowsalya\n",
      "DIRSS3128\n",
      "8010000575\n",
      "No.59, XYZ street\n",
      "Python\n",
      "January,7,2022\n",
      "Bachelor of Engineering\n",
      "Gardening\n",
      "Positive Thinking\n",
      "Short Temper\n",
      "\n",
      "Total characters in the text file :  135\n",
      "Total numbers in the text file :  21\n",
      "Total words in the text file :  16\n"
     ]
    }
   ],
   "source": [
    "with open(\"Introduction.txt\",\"r\") as f:\n",
    "    data= f.read()\n",
    "    print(data)\n",
    "    Total_char=len(data)\n",
    "    print(\"Total characters in the text file : \",Total_char)\n",
    "    Total_num=0\n",
    "    for i in data:\n",
    "        if i.isdigit():\n",
    "            Total_num+=1\n",
    "    print(\"Total numbers in the text file : \",Total_num)\n",
    "    Total_word=len(data.split())\n",
    "    print(\"Total words in the text file : \",Total_word)\n",
    "    f.close()"
   ]
  },
  {
   "cell_type": "code",
   "execution_count": 2,
   "metadata": {},
   "outputs": [
    {
     "name": "stdout",
     "output_type": "stream",
     "text": [
      "Total lines in the text file :  10\n"
     ]
    }
   ],
   "source": [
    "with open(\"Introduction.txt\",\"r\") as f:\n",
    "    Total_lines=len(f.readlines())\n",
    "    print(\"Total lines in the text file : \",Total_lines)\n",
    "    f.close()"
   ]
  },
  {
   "cell_type": "markdown",
   "metadata": {
    "id": "h1eRpaN7VG2V"
   },
   "source": [
    "Q2 Create a file in read only mode. Open this file using python and try to write your contact\n",
    "number in that file. As this file is write protected so an exception should occur. Handle this\n",
    "exception using python script with user-defined exception classes"
   ]
  },
  {
   "cell_type": "code",
   "execution_count": 3,
   "metadata": {
    "id": "OX3XeyxXVKs8"
   },
   "outputs": [
    {
     "name": "stdout",
     "output_type": "stream",
     "text": [
      "File in read mode\n"
     ]
    }
   ],
   "source": [
    "with open(\"Protected.txt\",\"r\") as f:\n",
    "    try:\n",
    "        f.write(\"Test file for exception handling in read mode \")\n",
    "    except IOError:\n",
    "        print(\"File in read mode\")\n",
    "    else:\n",
    "        print(\"Written content is added\")\n",
    "    f.close()"
   ]
  },
  {
   "cell_type": "markdown",
   "metadata": {
    "id": "gnaP394hVLxO"
   },
   "source": [
    "Q3 A truck runs a distance of N kms per day. Write a program to calculate how many days will\n",
    "be taken to cover M kms.\n"
   ]
  },
  {
   "cell_type": "code",
   "execution_count": 4,
   "metadata": {
    "id": "FlWTt8e7VPWv"
   },
   "outputs": [
    {
     "name": "stdin",
     "output_type": "stream",
     "text": [
      "Enter the distance in kms:  1500\n",
      "Enter the speed in km/hr :  50\n"
     ]
    },
    {
     "name": "stdout",
     "output_type": "stream",
     "text": [
      "Time taken to cover a 1500.0 kms in 1.25 day\n"
     ]
    }
   ],
   "source": [
    "distance=float(input(\"Enter the distance in kms: \"))\n",
    "speed=float(input(\"Enter the speed in km/hr : \"))\n",
    "time=distance/speed                             # Formula: distance=speed *time\n",
    "time=time/24                                    # Converting time hrs into day\n",
    "print(f\"Time taken to cover a {distance} kms in {time:.2f} day\")\n"
   ]
  },
  {
   "cell_type": "markdown",
   "metadata": {
    "id": "7jay0HQ2VP_8"
   },
   "source": [
    "Q4 Create a function that performs division of numbers. Since divide by zero gives an infinite\n",
    "so if a number which is denominator and 0 must give an exception while performing\n",
    "division operation.\n",
    " - Handle the exception of the above class & also any other exception that are generated"
   ]
  },
  {
   "cell_type": "code",
   "execution_count": 5,
   "metadata": {
    "executionInfo": {
     "elapsed": 370,
     "status": "ok",
     "timestamp": 1643955286701,
     "user": {
      "displayName": "Gowsalya Y",
      "photoUrl": "https://lh3.googleusercontent.com/a-/AOh14GhhGYuQWdGu2YbvKvI-fyt8SFNRfVtIBHTa1tN0Sg=s64",
      "userId": "18322451228739925466"
     },
     "user_tz": -330
    },
    "id": "aW85DgNiVc2U"
   },
   "outputs": [],
   "source": [
    "def division(a,b):\n",
    "    try:\n",
    "        return a/b\n",
    "    except Exception as e:\n",
    "        print(\"ZeroDivisionError \")\n"
   ]
  },
  {
   "cell_type": "code",
   "execution_count": 6,
   "metadata": {
    "colab": {
     "base_uri": "https://localhost:8080/"
    },
    "executionInfo": {
     "elapsed": 352,
     "status": "ok",
     "timestamp": 1643955290318,
     "user": {
      "displayName": "Gowsalya Y",
      "photoUrl": "https://lh3.googleusercontent.com/a-/AOh14GhhGYuQWdGu2YbvKvI-fyt8SFNRfVtIBHTa1tN0Sg=s64",
      "userId": "18322451228739925466"
     },
     "user_tz": -330
    },
    "id": "aTV2tFS1WMpv",
    "outputId": "cddd74fa-351c-4a6a-fff6-422214cca2bd"
   },
   "outputs": [
    {
     "name": "stdout",
     "output_type": "stream",
     "text": [
      "ZeroDivisionError \n"
     ]
    },
    {
     "data": {
      "text/plain": [
       "20.0"
      ]
     },
     "execution_count": 6,
     "metadata": {},
     "output_type": "execute_result"
    }
   ],
   "source": [
    "division(10,0)\n",
    "division(100,5)"
   ]
  },
  {
   "cell_type": "code",
   "execution_count": null,
   "metadata": {
    "id": "YlRHF37ZWPTR"
   },
   "outputs": [],
   "source": []
  }
 ],
 "metadata": {
  "colab": {
   "authorship_tag": "ABX9TyODuAIQAqTO4N9fIwBfWFlm",
   "collapsed_sections": [],
   "name": "Assignment 3-Exceptional_handling.ipynb",
   "provenance": []
  },
  "kernelspec": {
   "display_name": "Python 3",
   "language": "python",
   "name": "python3"
  },
  "language_info": {
   "codemirror_mode": {
    "name": "ipython",
    "version": 3
   },
   "file_extension": ".py",
   "mimetype": "text/x-python",
   "name": "python",
   "nbconvert_exporter": "python",
   "pygments_lexer": "ipython3",
   "version": "3.8.5"
  }
 },
 "nbformat": 4,
 "nbformat_minor": 4
}
