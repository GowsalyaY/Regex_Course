{
 "cells": [
  {
   "cell_type": "code",
   "execution_count": 2,
   "metadata": {},
   "outputs": [
    {
     "name": "stdout",
     "output_type": "stream",
     "text": [
      "[4, 16, 36, 64]\n"
     ]
    }
   ],
   "source": [
    "lst=[1,2,3,4,5,6,7,8,9]\n",
    "res=[]\n",
    "for i in lst:\n",
    "    if i %2==0:\n",
    "        res.append(i*i)\n",
    "print(res)"
   ]
  },
  {
   "cell_type": "code",
   "execution_count": 3,
   "metadata": {},
   "outputs": [
    {
     "name": "stdout",
     "output_type": "stream",
     "text": [
      "5 5 5 5 5 \n",
      "\n",
      "4 4 4 4 \n",
      "\n",
      "3 3 3 \n",
      "\n",
      "2 2 \n",
      "\n",
      "1 \n",
      "\n"
     ]
    }
   ],
   "source": [
    "n=5\n",
    "for i in range(n,0,-1):\n",
    "    for j in range(i):\n",
    "        print(i,end=\" \")\n",
    "    print(\"\\n\")"
   ]
  },
  {
   "cell_type": "code",
   "execution_count": 5,
   "metadata": {},
   "outputs": [
    {
     "name": "stdout",
     "output_type": "stream",
     "text": [
      "Enter the string : madam\n",
      "ma"
     ]
    }
   ],
   "source": [
    "string=input(\"Enter the string : \")\n",
    "string=string.lower()\n",
    "res={}\n",
    "for i in string:\n",
    "    if i in res:\n",
    "        res[i]+=1\n",
    "    else:\n",
    "        res[i]=1\n",
    "for key,val in res.items():\n",
    "    if val>1:\n",
    "        print(key,end=\"\")"
   ]
  },
  {
   "cell_type": "code",
   "execution_count": 6,
   "metadata": {},
   "outputs": [
    {
     "name": "stdout",
     "output_type": "stream",
     "text": [
      "Enter the string : hello world good morning good day \n",
      "hello world good morning day\n"
     ]
    }
   ],
   "source": [
    "string=input(\"Enter the string : \")\n",
    "string=string.split()\n",
    "res=[]\n",
    "for word in string:\n",
    "    if word not in res:\n",
    "        res.append(word)\n",
    "print(\" \".join(res))"
   ]
  },
  {
   "cell_type": "code",
   "execution_count": 9,
   "metadata": {},
   "outputs": [
    {
     "name": "stdout",
     "output_type": "stream",
     "text": [
      "[11, 5, 1, 3]\n",
      "Maximun Key value in dict :  501\n",
      "Miniimun Key value in dict :  503\n"
     ]
    }
   ],
   "source": [
    "dct={501:\"Hello world\",502:[1,2,3,4,5],503:{3},504:(4.4,6.6,8.8)}\n",
    "v=list(dct.values())\n",
    "value=[]\n",
    "for i in v:\n",
    "    value.append(len(i))\n",
    "print(value)\n",
    "key=list(dct.keys())\n",
    "print(\"Maximun Key value in dict : \",key[value.index(max(value))])\n",
    "print(\"Miniimun Key value in dict : \",key[value.index(min(value))])"
   ]
  },
  {
   "cell_type": "code",
   "execution_count": null,
   "metadata": {},
   "outputs": [],
   "source": []
  }
 ],
 "metadata": {
  "kernelspec": {
   "display_name": "Python 3",
   "language": "python",
   "name": "python3"
  },
  "language_info": {
   "codemirror_mode": {
    "name": "ipython",
    "version": 3
   },
   "file_extension": ".py",
   "mimetype": "text/x-python",
   "name": "python",
   "nbconvert_exporter": "python",
   "pygments_lexer": "ipython3",
   "version": "3.8.5"
  }
 },
 "nbformat": 4,
 "nbformat_minor": 4
}
