{
 "cells": [
  {
   "cell_type": "markdown",
   "metadata": {
    "id": "7lkHheJae_N0"
   },
   "source": [
    "1. Take any value from the user, print “odd” if the value entered is odd and print “even”\n",
    "otherwise."
   ]
  },
  {
   "cell_type": "code",
   "execution_count": 1,
   "metadata": {
    "colab": {
     "base_uri": "https://localhost:8080/"
    },
    "executionInfo": {
     "elapsed": 3040,
     "status": "ok",
     "timestamp": 1644047350604,
     "user": {
      "displayName": "Gowsalya Y",
      "photoUrl": "https://lh3.googleusercontent.com/a-/AOh14GhhGYuQWdGu2YbvKvI-fyt8SFNRfVtIBHTa1tN0Sg=s64",
      "userId": "18322451228739925466"
     },
     "user_tz": -330
    },
    "id": "HCY8_aO2hA_B",
    "outputId": "3ed5fecc-80aa-4e1f-9ce9-559a7bbaa542"
   },
   "outputs": [
    {
     "name": "stdin",
     "output_type": "stream",
     "text": [
      "Enter the number :  36\n"
     ]
    },
    {
     "name": "stdout",
     "output_type": "stream",
     "text": [
      "Even number\n"
     ]
    }
   ],
   "source": [
    "num=int(input(\"Enter the number : \"))\n",
    "if num%2==0:\n",
    "    print(\"Even number\")\n",
    "else:\n",
    "    print(\"Odd number\")"
   ]
  },
  {
   "cell_type": "markdown",
   "metadata": {
    "id": "NrdO1vx_fETL"
   },
   "source": [
    "2. Take input from the user and check if the number is a complex number. a complex\n",
    "number is the sum of a real number and an imaginary number. \n",
    "For example: 5+2i.\n"
   ]
  },
  {
   "cell_type": "code",
   "execution_count": 2,
   "metadata": {
    "colab": {
     "base_uri": "https://localhost:8080/"
    },
    "executionInfo": {
     "elapsed": 9078,
     "status": "ok",
     "timestamp": 1644051181899,
     "user": {
      "displayName": "Gowsalya Y",
      "photoUrl": "https://lh3.googleusercontent.com/a-/AOh14GhhGYuQWdGu2YbvKvI-fyt8SFNRfVtIBHTa1tN0Sg=s64",
      "userId": "18322451228739925466"
     },
     "user_tz": -330
    },
    "id": "SdYK60wctx2E",
    "outputId": "fa3bd63e-ab17-4e41-fec0-322373c12857"
   },
   "outputs": [
    {
     "name": "stdin",
     "output_type": "stream",
     "text": [
      "Real number :  5\n",
      "Imaginary number :  6j\n"
     ]
    },
    {
     "name": "stdout",
     "output_type": "stream",
     "text": [
      "Complex number\n"
     ]
    }
   ],
   "source": [
    "real_num=input(\"Real number : \")\n",
    "img_num=complex(input(\"Imaginary number : \"))\n",
    "if isinstance(img_num,complex):\n",
    "    print(\"Complex number\")\n",
    "else:\n",
    "    print(\"Not a complex number\")"
   ]
  },
  {
   "cell_type": "markdown",
   "metadata": {
    "id": "QnIDJbWTfI9X"
   },
   "source": [
    "3. Create a program to enter marks from the user out of 100 and display grades as per\n",
    "the following 90-100 (A), 75 to 90 (B), 60 to 75 (C), 45 to 60 (D), 33 to 45 (E) and\n",
    "remaining all are F."
   ]
  },
  {
   "cell_type": "code",
   "execution_count": 3,
   "metadata": {
    "colab": {
     "base_uri": "https://localhost:8080/"
    },
    "executionInfo": {
     "elapsed": 8335,
     "status": "ok",
     "timestamp": 1644045631358,
     "user": {
      "displayName": "Gowsalya Y",
      "photoUrl": "https://lh3.googleusercontent.com/a-/AOh14GhhGYuQWdGu2YbvKvI-fyt8SFNRfVtIBHTa1tN0Sg=s64",
      "userId": "18322451228739925466"
     },
     "user_tz": -330
    },
    "id": "ftg7ZvFLty6M",
    "outputId": "0038b735-bedd-44f0-fd2d-6868b630d523"
   },
   "outputs": [
    {
     "name": "stdin",
     "output_type": "stream",
     "text": [
      "Enter the mark :  56\n"
     ]
    },
    {
     "name": "stdout",
     "output_type": "stream",
     "text": [
      "Grade-D\n"
     ]
    }
   ],
   "source": [
    "mark=int(input(\"Enter the mark : \"))\n",
    "if 90<mark<=100:\n",
    "    print(\"Grade-A\")\n",
    "elif 75<mark<=90:\n",
    "    print(\"Grade-B\")\n",
    "elif 60<mark<=75:\n",
    "    print(\"Grade-C\")\n",
    "elif 45<mark<=60:\n",
    "    print(\"Grade-D\")\n",
    "elif 33<mark<=45:\n",
    "    print(\"Grade-E\")\n",
    "else:\n",
    "    print(\"Grade-F\")"
   ]
  },
  {
   "cell_type": "markdown",
   "metadata": {
    "id": "-K4INROtfYBf"
   },
   "source": [
    "4. Say three integers have been given. Determine how many of them are equal to each\n",
    "other. Create a program to print 3 (if all 3 are same), 2 (if 2 are same) and 0 (if all\n",
    "numbers are different)"
   ]
  },
  {
   "cell_type": "code",
   "execution_count": 4,
   "metadata": {
    "colab": {
     "base_uri": "https://localhost:8080/"
    },
    "executionInfo": {
     "elapsed": 12681,
     "status": "ok",
     "timestamp": 1644047265042,
     "user": {
      "displayName": "Gowsalya Y",
      "photoUrl": "https://lh3.googleusercontent.com/a-/AOh14GhhGYuQWdGu2YbvKvI-fyt8SFNRfVtIBHTa1tN0Sg=s64",
      "userId": "18322451228739925466"
     },
     "user_tz": -330
    },
    "id": "CSYQagdXt0CS",
    "outputId": "3538310d-77a9-4c79-dc55-aa6f17250704"
   },
   "outputs": [
    {
     "name": "stdout",
     "output_type": "stream",
     "text": [
      "Enter three integers\n"
     ]
    },
    {
     "name": "stdin",
     "output_type": "stream",
     "text": [
      "n1 :  8\n",
      "n2 :  8\n",
      "n3 :  7\n"
     ]
    },
    {
     "name": "stdout",
     "output_type": "stream",
     "text": [
      "2 intergers are same\n"
     ]
    }
   ],
   "source": [
    "print(\"Enter three integers\")\n",
    "n1=int(input(\"n1 : \"))\n",
    "n2=int(input(\"n2 : \"))\n",
    "n3=int(input(\"n3 : \"))\n",
    "if n1==n2==n3:\n",
    "    print(\"All 3 intergers are same\")\n",
    "elif n1==n2 or n2==n3 or n3==n1:\n",
    "    print(\"2 intergers are same\")\n",
    "else:\n",
    "    print(\"All intergers are different\")"
   ]
  },
  {
   "cell_type": "markdown",
   "metadata": {
    "id": "tFzpdVJWfbu6"
   },
   "source": [
    "5. A truck runs a distance of N kms per day. Write a program to calculate how many\n",
    "days will be taken to cover M kms."
   ]
  },
  {
   "cell_type": "code",
   "execution_count": 5,
   "metadata": {
    "id": "hxq-w_xg2_fK"
   },
   "outputs": [
    {
     "name": "stdin",
     "output_type": "stream",
     "text": [
      "Enter the distance in kms:  1500\n",
      "Enter the speed in km/hr :  50\n"
     ]
    },
    {
     "name": "stdout",
     "output_type": "stream",
     "text": [
      "Time taken to cover a 1500.0 kms in 1.25 day\n"
     ]
    }
   ],
   "source": [
    "distance=float(input(\"Enter the distance in kms: \"))\n",
    "speed=float(input(\"Enter the speed in km/hr : \"))\n",
    "time=distance/speed                             # Formula: distance=speed *time\n",
    "time=time/24                                    # Converting time hrs into day\n",
    "print(f\"Time taken to cover a {distance} kms in {time:.2f} day\")"
   ]
  },
  {
   "cell_type": "markdown",
   "metadata": {
    "id": "89sbWASBfn2c"
   },
   "source": [
    "6. Pass your name, surname, phone_no, hobbies in a python script and get all the\n",
    "passed values in a line without space."
   ]
  },
  {
   "cell_type": "code",
   "execution_count": 6,
   "metadata": {
    "colab": {
     "base_uri": "https://localhost:8080/"
    },
    "executionInfo": {
     "elapsed": 15890,
     "status": "ok",
     "timestamp": 1644048812514,
     "user": {
      "displayName": "Gowsalya Y",
      "photoUrl": "https://lh3.googleusercontent.com/a-/AOh14GhhGYuQWdGu2YbvKvI-fyt8SFNRfVtIBHTa1tN0Sg=s64",
      "userId": "18322451228739925466"
     },
     "user_tz": -330
    },
    "id": "p9_DNYLm64ec",
    "outputId": "906d404e-8f1f-44e2-d93d-1c112c72694d"
   },
   "outputs": [
    {
     "name": "stdin",
     "output_type": "stream",
     "text": [
      "name :  Gowsalya\n",
      "surname :  Yogalingam\n",
      "Phone number :  8015000075\n",
      "your hobbies: gardening\n"
     ]
    },
    {
     "name": "stdout",
     "output_type": "stream",
     "text": [
      "GowsalyaYogalingam8015000075gardening\n"
     ]
    }
   ],
   "source": [
    "name=input(\"name : \")\n",
    "s_name=input(\"surname : \")\n",
    "ph_no=int(input(\"Phone number : \"))\n",
    "hob=input(\"your hobbies:\")\n",
    "print(name,s_name,ph_no,hob,sep=\"\")"
   ]
  },
  {
   "cell_type": "markdown",
   "metadata": {
    "id": "VOVQaC98fvNQ"
   },
   "source": [
    "7. Write a python script to\n",
    "a. separate 2,3,6 characters from your ID.\n",
    "b. To print character 2 to 5 in your name and surname.\n",
    "c. Print all the characters of your name and surname"
   ]
  },
  {
   "cell_type": "code",
   "execution_count": 7,
   "metadata": {
    "id": "xKWBN6ip8k-G"
   },
   "outputs": [
    {
     "name": "stdin",
     "output_type": "stream",
     "text": [
      "Enter 10 character ID :  DIRSS3128\n",
      "Name : Gowsalya\n",
      "Surname :  Yogalingam\n"
     ]
    },
    {
     "name": "stdout",
     "output_type": "stream",
     "text": [
      "2nd character of ID :I,3rd character of ID :R,6th character of ID :3\n",
      "Character 2 to 5 in Name :owsa,Character 2 to 5 in Surname :ogal\n",
      "Character of Name:  G\n",
      "Character of Name:  o\n",
      "Character of Name:  w\n",
      "Character of Name:  s\n",
      "Character of Name:  a\n",
      "Character of Name:  l\n",
      "Character of Name:  y\n",
      "Character of Name:  a\n",
      "Character of Surname:  Y\n",
      "Character of Surname:  o\n",
      "Character of Surname:  g\n",
      "Character of Surname:  a\n",
      "Character of Surname:  l\n",
      "Character of Surname:  i\n",
      "Character of Surname:  n\n",
      "Character of Surname:  g\n",
      "Character of Surname:  a\n",
      "Character of Surname:  m\n"
     ]
    }
   ],
   "source": [
    "id=input(\"Enter 10 character ID : \")\n",
    "name=input(\"Name :\")\n",
    "s_name=input(\"Surname : \")\n",
    "print(f\"2nd character of ID :{id[1]},3rd character of ID :{id[2]},6th character of ID :{id[5]}\")\n",
    "print(f\"Character 2 to 5 in Name :{name[1:5]},Character 2 to 5 in Surname :{s_name[1:5]}\")\n",
    "for char in name:\n",
    "    print(\"Character of Name: \",char)\n",
    "for char in s_name:\n",
    "    print(\"Character of Surname: \",char)"
   ]
  },
  {
   "cell_type": "markdown",
   "metadata": {
    "id": "PwfzF9JbgPM2"
   },
   "source": [
    "8. Write your short introduction in a text file. Your introduction consists of Name, Id,\n",
    "contact number, Address, Stream, Joining date, Qualification, Hobbies, Strength\n",
    "and weakness. Pass this file to python. Your task is to calculate total characters,\n",
    "numbers, words and lines used in this introduction file."
   ]
  },
  {
   "cell_type": "code",
   "execution_count": 8,
   "metadata": {},
   "outputs": [
    {
     "name": "stdout",
     "output_type": "stream",
     "text": [
      "Gowsalya\n",
      "DIRSS3128\n",
      "8010000575\n",
      "No.59, XYZ street\n",
      "Python\n",
      "January,7,2022\n",
      "Bachelor of Engineering\n",
      "Gardening\n",
      "Positive Thinking\n",
      "Short Temper\n",
      "\n",
      "Total characters in the text file :  135\n",
      "Total numbers in the text file :  21\n",
      "Total words in the text file :  16\n"
     ]
    }
   ],
   "source": [
    "with open(\"Introduction.txt\",\"r\") as f:\n",
    "    data= f.read()\n",
    "    print(data)\n",
    "    Total_char=len(data)\n",
    "    print(\"Total characters in the text file : \",Total_char)\n",
    "    Total_num=0\n",
    "    for i in data:\n",
    "        if i.isdigit():\n",
    "            Total_num+=1\n",
    "    print(\"Total numbers in the text file : \",Total_num)\n",
    "    Total_word=len(data.split())\n",
    "    print(\"Total words in the text file : \",Total_word)\n",
    "    f.close()    "
   ]
  },
  {
   "cell_type": "code",
   "execution_count": 9,
   "metadata": {},
   "outputs": [
    {
     "name": "stdout",
     "output_type": "stream",
     "text": [
      "Total lines in the text file :  10\n"
     ]
    }
   ],
   "source": [
    "with open(\"Introduction.txt\",\"r\") as f:\n",
    "    Total_lines=len(f.readlines())\n",
    "    print(\"Total lines in the text file : \",Total_lines)\n",
    "    f.close()"
   ]
  },
  {
   "cell_type": "markdown",
   "metadata": {
    "id": "D6X1cu3MgTEg"
   },
   "source": [
    "9. Create a function that performs division of numbers. Since divide by zero gives an\n",
    "infinite so if a number which is denominator and 0 must give an exception while\n",
    "performing division operation."
   ]
  },
  {
   "cell_type": "code",
   "execution_count": 10,
   "metadata": {},
   "outputs": [],
   "source": [
    "def division(a,b):\n",
    "    try:\n",
    "        return a/b\n",
    "    except ZeroDivisionError:  \n",
    "        print (\"Zero Division Exception Raised.\" )\n",
    "    "
   ]
  },
  {
   "cell_type": "code",
   "execution_count": 11,
   "metadata": {},
   "outputs": [
    {
     "name": "stdout",
     "output_type": "stream",
     "text": [
      "Zero Division Exception Raised.\n"
     ]
    },
    {
     "data": {
      "text/plain": [
       "5.0"
      ]
     },
     "execution_count": 11,
     "metadata": {},
     "output_type": "execute_result"
    }
   ],
   "source": [
    "division(10,0)\n",
    "division(100,20)"
   ]
  },
  {
   "cell_type": "markdown",
   "metadata": {
    "id": "DLtL0y0kgacA"
   },
   "source": [
    "10. Create a file in read only mode. Open this file using python and try to write your\n",
    "contact number in that file. As this file is write protected so an exception should\n",
    "occur. Handle this exception using python script."
   ]
  },
  {
   "cell_type": "code",
   "execution_count": 12,
   "metadata": {},
   "outputs": [
    {
     "name": "stdout",
     "output_type": "stream",
     "text": [
      "File content can't be modified.Check the file mode\n"
     ]
    }
   ],
   "source": [
    "with open(\"Protected.txt\",\"r\") as f:\n",
    "    try:\n",
    "        f.write(\"Test file for exception handling in read mode \")\n",
    "    except IOError:\n",
    "        print(\"File content can't be modified.Check the file mode\")\n",
    "    else:\n",
    "        print(\"Written content is added\")\n",
    "    f.close()"
   ]
  },
  {
   "cell_type": "markdown",
   "metadata": {
    "id": "4pchclOUgbv3"
   },
   "source": [
    "11. Create an html generator using:\n",
    "a. A base class with a couple methods\n",
    "b. Subclass overriding class attributes\n",
    "c. Subclass overriding a method\n",
    "d. Subclass overriding the ___init__"
   ]
  },
  {
   "cell_type": "code",
   "execution_count": 13,
   "metadata": {},
   "outputs": [],
   "source": [
    "#a. A base class with a couple methods\n",
    "\n",
    "class A:\n",
    "    def __init__(self,x,y):\n",
    "        self.x=x\n",
    "        self.y=y\n",
    "    def add(self):\n",
    "        return self.x+self.y\n",
    "    def sub(self):\n",
    "        return self.x-self.y   "
   ]
  },
  {
   "cell_type": "code",
   "execution_count": 14,
   "metadata": {},
   "outputs": [
    {
     "data": {
      "text/plain": [
       "25"
      ]
     },
     "execution_count": 14,
     "metadata": {},
     "output_type": "execute_result"
    }
   ],
   "source": [
    "obj1=A(15,10)\n",
    "obj1.add()"
   ]
  },
  {
   "cell_type": "code",
   "execution_count": 15,
   "metadata": {},
   "outputs": [],
   "source": [
    "#b. Subclass overriding class attributes\n",
    "\n",
    "class A:\n",
    "    def __init__(self,x,y):\n",
    "        self.x=x\n",
    "        self.y=y\n",
    "    def add(self):\n",
    "        return self.x+self.y\n",
    "    def sub(self):\n",
    "        return self.x-self.y   \n",
    "    \n",
    "class B(A):\n",
    "\n",
    "    def __init__(self,x,y):\n",
    "        super().__init__(x,y)\n",
    "        \n",
    "    def multiply(self):\n",
    "        return self.x*self.y"
   ]
  },
  {
   "cell_type": "code",
   "execution_count": 16,
   "metadata": {},
   "outputs": [
    {
     "data": {
      "text/plain": [
       "60"
      ]
     },
     "execution_count": 16,
     "metadata": {},
     "output_type": "execute_result"
    }
   ],
   "source": [
    "obj2=B(20,3)\n",
    "obj2.multiply()"
   ]
  },
  {
   "cell_type": "code",
   "execution_count": 17,
   "metadata": {},
   "outputs": [],
   "source": [
    "# c. Subclass overriding a method \n",
    "\n",
    "class A:\n",
    "    def __init__(self,x,y):\n",
    "        self.x=x\n",
    "        self.y=y\n",
    "    def add(self):\n",
    "        return self.x+self.y\n",
    "    def sub(self):\n",
    "        return self.x-self.y   \n",
    "    \n",
    "class B(A):     \n",
    "    def add(self):\n",
    "        A.add(self)\n",
    "        print(\"B class\")\n",
    "        return self.x+self.y"
   ]
  },
  {
   "cell_type": "code",
   "execution_count": 18,
   "metadata": {},
   "outputs": [
    {
     "name": "stdout",
     "output_type": "stream",
     "text": [
      "B class\n"
     ]
    },
    {
     "data": {
      "text/plain": [
       "50"
      ]
     },
     "execution_count": 18,
     "metadata": {},
     "output_type": "execute_result"
    }
   ],
   "source": [
    "obj2=B(20,30)\n",
    "obj2.add()"
   ]
  },
  {
   "cell_type": "code",
   "execution_count": 19,
   "metadata": {},
   "outputs": [],
   "source": [
    "#d. Subclass overriding the _init_\n",
    "\n",
    "class A:\n",
    "    def __init__(self,x,y):\n",
    "        self.x=x\n",
    "        self.y=y\n",
    "        self.parent_name = 'A Class'\n",
    "    def add(self):\n",
    "        return self.x+self.y\n",
    "    def sub(self):\n",
    "        return self.x-self.y   \n",
    "\n",
    "class B(A):\n",
    "\n",
    "    def __init__(self,x,y):\n",
    "        super().__init__(x,y)\n",
    "      "
   ]
  },
  {
   "cell_type": "code",
   "execution_count": 20,
   "metadata": {},
   "outputs": [
    {
     "data": {
      "text/plain": [
       "70"
      ]
     },
     "execution_count": 20,
     "metadata": {},
     "output_type": "execute_result"
    }
   ],
   "source": [
    "obj2=B(30,40)\n",
    "obj2.add()"
   ]
  },
  {
   "cell_type": "markdown",
   "metadata": {
    "id": "j2xFv2glgnZg"
   },
   "source": [
    "12. Create an html generator using:\n",
    "a. A base class with a couple methods\n",
    "b. Subclass overriding class attributes\n",
    "c. Subclass overriding a method\n",
    "d. Subclass overriding the ___init__"
   ]
  },
  {
   "cell_type": "code",
   "execution_count": 21,
   "metadata": {
    "id": "rfSrUzitgsFq"
   },
   "outputs": [],
   "source": [
    "#a. A base class with a couple methods\n",
    "\n",
    "class square:\n",
    "    def __init__(self,x):\n",
    "        self.x=x\n",
    "    def area(self):\n",
    "        return self.x**2\n",
    "    def perimeter(self):\n",
    "        return 4*self.x"
   ]
  },
  {
   "cell_type": "code",
   "execution_count": 22,
   "metadata": {},
   "outputs": [
    {
     "data": {
      "text/plain": [
       "25"
      ]
     },
     "execution_count": 22,
     "metadata": {},
     "output_type": "execute_result"
    }
   ],
   "source": [
    "s1=square(5)\n",
    "s1.area()"
   ]
  },
  {
   "cell_type": "code",
   "execution_count": 23,
   "metadata": {},
   "outputs": [],
   "source": [
    "#b. Subclass overriding class attributes\n",
    "\n",
    "class square:\n",
    "    def __init__(self,x):\n",
    "        self.x=x\n",
    "    def area(self):\n",
    "        return self.x**2\n",
    "    def perimeter(self):\n",
    "        return 4*self.x\n",
    "\n",
    "class cube(square):\n",
    "    def __init__(self,x):\n",
    "        super().__init__(x)\n",
    "        \n",
    "    def volume(self):\n",
    "        return self.x**3\n",
    "    "
   ]
  },
  {
   "cell_type": "code",
   "execution_count": 24,
   "metadata": {},
   "outputs": [
    {
     "data": {
      "text/plain": [
       "125"
      ]
     },
     "execution_count": 24,
     "metadata": {},
     "output_type": "execute_result"
    }
   ],
   "source": [
    "s2=cube(5)\n",
    "s2.volume()"
   ]
  },
  {
   "cell_type": "code",
   "execution_count": 25,
   "metadata": {},
   "outputs": [],
   "source": [
    "# c. Subclass overriding a method \n",
    "\n",
    "class square:\n",
    "    def __init__(self,x):\n",
    "        self.x=x\n",
    "    def area(self):\n",
    "        return self.x**2\n",
    "    def perimeter(self):\n",
    "        return 4*self.x   \n",
    "    \n",
    "class cube(square):\n",
    "    def area(self):\n",
    "        square.area(self)\n",
    "        print(\"cube class\")\n",
    "        return self.x**2\n",
    "        \n",
    "    def volume(self):\n",
    "        return self.area()*self.x"
   ]
  },
  {
   "cell_type": "code",
   "execution_count": 26,
   "metadata": {},
   "outputs": [
    {
     "name": "stdout",
     "output_type": "stream",
     "text": [
      "cube class\n",
      "25\n",
      "cube class\n"
     ]
    },
    {
     "data": {
      "text/plain": [
       "125"
      ]
     },
     "execution_count": 26,
     "metadata": {},
     "output_type": "execute_result"
    }
   ],
   "source": [
    "s2=cube(5)\n",
    "print(s2.area())\n",
    "s2.volume()"
   ]
  },
  {
   "cell_type": "code",
   "execution_count": 27,
   "metadata": {},
   "outputs": [],
   "source": [
    "#d. Subclass overriding the _init\n",
    "\n",
    "class square:\n",
    "    def __init__(self,x):\n",
    "        self.x=x\n",
    "    def area(self):\n",
    "        return self.x**2\n",
    "    def perimeter(self):\n",
    "        return 4*self.x  \n",
    "    \n",
    "class cube(square):\n",
    "\n",
    "    def __init__(self,x):\n",
    "        super().__init__(x)\n",
    "        \n",
    "    def volume(self):\n",
    "        return self.area()*self.x\n",
    "        "
   ]
  },
  {
   "cell_type": "code",
   "execution_count": 28,
   "metadata": {},
   "outputs": [
    {
     "name": "stdout",
     "output_type": "stream",
     "text": [
      "25\n"
     ]
    },
    {
     "data": {
      "text/plain": [
       "125"
      ]
     },
     "execution_count": 28,
     "metadata": {},
     "output_type": "execute_result"
    }
   ],
   "source": [
    "s3=cube(5)\n",
    "print(s3.area())\n",
    "s3.volume()"
   ]
  },
  {
   "cell_type": "code",
   "execution_count": null,
   "metadata": {},
   "outputs": [],
   "source": []
  }
 ],
 "metadata": {
  "colab": {
   "authorship_tag": "ABX9TyMGmZFr4wDNuFDWeIIc9FLQ",
   "collapsed_sections": [],
   "name": "Assignment-Python.ipynb",
   "provenance": []
  },
  "kernelspec": {
   "display_name": "Python 3",
   "language": "python",
   "name": "python3"
  },
  "language_info": {
   "codemirror_mode": {
    "name": "ipython",
    "version": 3
   },
   "file_extension": ".py",
   "mimetype": "text/x-python",
   "name": "python",
   "nbconvert_exporter": "python",
   "pygments_lexer": "ipython3",
   "version": "3.8.5"
  }
 },
 "nbformat": 4,
 "nbformat_minor": 4
}
