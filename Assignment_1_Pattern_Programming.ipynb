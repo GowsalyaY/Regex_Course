{
 "cells": [
  {
   "cell_type": "code",
   "execution_count": 1,
   "metadata": {
    "colab": {
     "base_uri": "https://localhost:8080/"
    },
    "executionInfo": {
     "elapsed": 563,
     "status": "ok",
     "timestamp": 1644074957427,
     "user": {
      "displayName": "Gowsalya Y",
      "photoUrl": "https://lh3.googleusercontent.com/a-/AOh14GhhGYuQWdGu2YbvKvI-fyt8SFNRfVtIBHTa1tN0Sg=s64",
      "userId": "18322451228739925466"
     },
     "user_tz": -330
    },
    "id": "YnKEd1qH33ua",
    "outputId": "74d1534d-63cc-4bbf-836d-70165e3514cb"
   },
   "outputs": [
    {
     "name": "stdout",
     "output_type": "stream",
     "text": [
      "5 5 5 5 5 \n",
      "\n",
      "5 5 5 5 \n",
      "\n",
      "5 5 5 \n",
      "\n",
      "5 5 \n",
      "\n",
      "5 \n",
      "\n"
     ]
    }
   ],
   "source": [
    "#Q1\n",
    "\n",
    "n=5\n",
    "for i in range(n,0,-1):\n",
    "    for j in range (i):\n",
    "        print(\"5\",end =\" \")\n",
    "    print(\"\\n\")\n"
   ]
  },
  {
   "cell_type": "code",
   "execution_count": 2,
   "metadata": {
    "colab": {
     "base_uri": "https://localhost:8080/"
    },
    "executionInfo": {
     "elapsed": 24,
     "status": "ok",
     "timestamp": 1644074957786,
     "user": {
      "displayName": "Gowsalya Y",
      "photoUrl": "https://lh3.googleusercontent.com/a-/AOh14GhhGYuQWdGu2YbvKvI-fyt8SFNRfVtIBHTa1tN0Sg=s64",
      "userId": "18322451228739925466"
     },
     "user_tz": -330
    },
    "id": "IBaSdJjs4Zv_",
    "outputId": "c94238d9-f83b-40b1-eeac-50b6c86cea52"
   },
   "outputs": [
    {
     "name": "stdout",
     "output_type": "stream",
     "text": [
      "0 1 2 3 4 5 \n",
      "\n",
      "0 1 2 3 4 \n",
      "\n",
      "0 1 2 3 \n",
      "\n",
      "0 1 2 \n",
      "\n",
      "0 1 \n",
      "\n"
     ]
    }
   ],
   "source": [
    "#Q2\n",
    "\n",
    "n=5\n",
    "for i in range(n,0,-1):\n",
    "    for j in range(i+1):\n",
    "        print(j,end=\" \")\n",
    "    print(\"\\n\")"
   ]
  },
  {
   "cell_type": "code",
   "execution_count": 3,
   "metadata": {
    "colab": {
     "base_uri": "https://localhost:8080/"
    },
    "executionInfo": {
     "elapsed": 21,
     "status": "ok",
     "timestamp": 1644074957788,
     "user": {
      "displayName": "Gowsalya Y",
      "photoUrl": "https://lh3.googleusercontent.com/a-/AOh14GhhGYuQWdGu2YbvKvI-fyt8SFNRfVtIBHTa1tN0Sg=s64",
      "userId": "18322451228739925466"
     },
     "user_tz": -330
    },
    "id": "0bFTiwJlPOsn",
    "outputId": "9f50ba23-44c7-4289-c24f-cf55ee373d36"
   },
   "outputs": [
    {
     "name": "stdout",
     "output_type": "stream",
     "text": [
      "1 \n",
      "\n",
      "3 3 \n",
      "\n",
      "5 5 5 \n",
      "\n",
      "7 7 7 7 \n",
      "\n",
      "9 9 9 9 9 \n",
      "\n"
     ]
    }
   ],
   "source": [
    "#Q3\n",
    "\n",
    "n=5\n",
    "num=1\n",
    "for i in range(1,n+1):\n",
    "    for j in range(i):\n",
    "        print(num,end=\" \")\n",
    "    num+=2\n",
    "    print(\"\\n\")\n",
    "\n"
   ]
  },
  {
   "cell_type": "code",
   "execution_count": 4,
   "metadata": {
    "colab": {
     "base_uri": "https://localhost:8080/"
    },
    "executionInfo": {
     "elapsed": 18,
     "status": "ok",
     "timestamp": 1644074957790,
     "user": {
      "displayName": "Gowsalya Y",
      "photoUrl": "https://lh3.googleusercontent.com/a-/AOh14GhhGYuQWdGu2YbvKvI-fyt8SFNRfVtIBHTa1tN0Sg=s64",
      "userId": "18322451228739925466"
     },
     "user_tz": -330
    },
    "id": "M-7T_pSyQr_n",
    "outputId": "7546d4f5-faa1-4537-ff8c-2ba0263e3d85"
   },
   "outputs": [
    {
     "name": "stdout",
     "output_type": "stream",
     "text": [
      "1 \n",
      "\n",
      "2 1 \n",
      "\n",
      "3 2 1 \n",
      "\n",
      "4 3 2 1 \n",
      "\n",
      "5 4 3 2 1 \n",
      "\n"
     ]
    }
   ],
   "source": [
    "#Q4\n",
    "\n",
    "n=5\n",
    "for i in range(1,n+1):\n",
    "    for j in range(i,0,-1): \n",
    "        print(j,end=\" \")\n",
    "    print(\"\\n\")"
   ]
  },
  {
   "cell_type": "code",
   "execution_count": 5,
   "metadata": {
    "colab": {
     "base_uri": "https://localhost:8080/"
    },
    "executionInfo": {
     "elapsed": 366,
     "status": "ok",
     "timestamp": 1644075364673,
     "user": {
      "displayName": "Gowsalya Y",
      "photoUrl": "https://lh3.googleusercontent.com/a-/AOh14GhhGYuQWdGu2YbvKvI-fyt8SFNRfVtIBHTa1tN0Sg=s64",
      "userId": "18322451228739925466"
     },
     "user_tz": -330
    },
    "id": "z4Ddk7Ztcy5d",
    "outputId": "3e8c1659-a31c-4672-a0f7-b75ea61ed1cb"
   },
   "outputs": [
    {
     "name": "stdout",
     "output_type": "stream",
     "text": [
      "1 \n",
      "\n",
      "3 2 \n",
      "\n",
      "6 5 4 \n",
      "\n",
      "10 9 8 7 \n",
      "\n"
     ]
    }
   ],
   "source": [
    "# Q5\n",
    "n=4\n",
    "start=1\n",
    "stop=2\n",
    "num=stop\n",
    "for i in range (2,n+2):\n",
    "    for j in range(start,stop):\n",
    "        num-=1\n",
    "        print(num,end=\" \")\n",
    "    print(\"\\n\")\n",
    "    start=stop\n",
    "    stop+=i\n",
    "    num=stop\n",
    "  "
   ]
  },
  {
   "cell_type": "code",
   "execution_count": 6,
   "metadata": {
    "colab": {
     "base_uri": "https://localhost:8080/"
    },
    "executionInfo": {
     "elapsed": 68,
     "status": "ok",
     "timestamp": 1644074958547,
     "user": {
      "displayName": "Gowsalya Y",
      "photoUrl": "https://lh3.googleusercontent.com/a-/AOh14GhhGYuQWdGu2YbvKvI-fyt8SFNRfVtIBHTa1tN0Sg=s64",
      "userId": "18322451228739925466"
     },
     "user_tz": -330
    },
    "id": "9M2DQmKWfHzw",
    "outputId": "3c89a5df-bda9-498e-abb1-2e68f931ecd3"
   },
   "outputs": [
    {
     "name": "stdout",
     "output_type": "stream",
     "text": [
      "1 \n",
      "\n",
      "1 1 \n",
      "\n",
      "1 2 1 \n",
      "\n",
      "1 3 3 1 \n",
      "\n",
      "1 4 6 4 1 \n",
      "\n",
      "1 5 10 10 5 1 \n",
      "\n",
      "1 6 15 20 15 6 1 \n",
      "\n"
     ]
    }
   ],
   "source": [
    "#Q6\n",
    "\n",
    "n=7\n",
    "for i in range(1,n+1):\n",
    "    k=1\n",
    "    for j in range(1,i+1):\n",
    "        print(k,end=\" \")\n",
    "        k=k*(i-j)//j\n",
    "    print(\"\\n\")"
   ]
  },
  {
   "cell_type": "code",
   "execution_count": 7,
   "metadata": {
    "colab": {
     "base_uri": "https://localhost:8080/"
    },
    "executionInfo": {
     "elapsed": 64,
     "status": "ok",
     "timestamp": 1644074958548,
     "user": {
      "displayName": "Gowsalya Y",
      "photoUrl": "https://lh3.googleusercontent.com/a-/AOh14GhhGYuQWdGu2YbvKvI-fyt8SFNRfVtIBHTa1tN0Sg=s64",
      "userId": "18322451228739925466"
     },
     "user_tz": -330
    },
    "id": "7Ogb_JP-RzLz",
    "outputId": "c2a1170d-a624-4968-df27-a0fbbce4567d"
   },
   "outputs": [
    {
     "name": "stdout",
     "output_type": "stream",
     "text": [
      "1 2 3 4 5 \n",
      "\n",
      "2 2 3 4 5 \n",
      "\n",
      "3 3 3 4 5 \n",
      "\n",
      "4 4 4 4 5 \n",
      "\n",
      "5 5 5 5 5 \n",
      "\n"
     ]
    }
   ],
   "source": [
    "#Q7\n",
    "\n",
    "n=5\n",
    "for i in range(1,n+1):\n",
    "    for j in range(1,n+1):\n",
    "        if j<=i:\n",
    "            print(i,end=\" \")\n",
    "        else:\n",
    "            print(j,end=\" \")\n",
    "            \n",
    "    print(\"\\n\")"
   ]
  },
  {
   "cell_type": "code",
   "execution_count": 8,
   "metadata": {
    "colab": {
     "base_uri": "https://localhost:8080/"
    },
    "executionInfo": {
     "elapsed": 60,
     "status": "ok",
     "timestamp": 1644074958550,
     "user": {
      "displayName": "Gowsalya Y",
      "photoUrl": "https://lh3.googleusercontent.com/a-/AOh14GhhGYuQWdGu2YbvKvI-fyt8SFNRfVtIBHTa1tN0Sg=s64",
      "userId": "18322451228739925466"
     },
     "user_tz": -330
    },
    "id": "afhSnAdjSjbv",
    "outputId": "1b656bfa-25e4-411c-ae1c-343479dd005b"
   },
   "outputs": [
    {
     "name": "stdout",
     "output_type": "stream",
     "text": [
      "1 \n",
      "\n",
      "2 4 \n",
      "\n",
      "3 6 9 \n",
      "\n",
      "4 8 12 16 \n",
      "\n",
      "5 10 15 20 25 \n",
      "\n",
      "6 12 18 24 30 36 \n",
      "\n",
      "7 14 21 28 35 42 49 \n",
      "\n",
      "8 16 24 32 40 48 56 64 \n",
      "\n"
     ]
    }
   ],
   "source": [
    "#Q8\n",
    "\n",
    "n=8\n",
    "for i in range(1,n+1):\n",
    "    for j in range(1,i+1):\n",
    "        print(i*j,end=\" \")\n",
    "    print(\"\\n\")"
   ]
  },
  {
   "cell_type": "code",
   "execution_count": 9,
   "metadata": {
    "colab": {
     "base_uri": "https://localhost:8080/"
    },
    "executionInfo": {
     "elapsed": 55,
     "status": "ok",
     "timestamp": 1644074958551,
     "user": {
      "displayName": "Gowsalya Y",
      "photoUrl": "https://lh3.googleusercontent.com/a-/AOh14GhhGYuQWdGu2YbvKvI-fyt8SFNRfVtIBHTa1tN0Sg=s64",
      "userId": "18322451228739925466"
     },
     "user_tz": -330
    },
    "id": "GfSGUL45Ga6P",
    "outputId": "252a409a-832c-417f-fb72-0c16b9d18b0d"
   },
   "outputs": [
    {
     "name": "stdout",
     "output_type": "stream",
     "text": [
      "    * * * * * \n",
      "\n",
      "     * * * * \n",
      "\n",
      "      * * * \n",
      "\n",
      "       * * \n",
      "\n",
      "        * \n",
      "\n"
     ]
    }
   ],
   "source": [
    "#Q9\n",
    "\n",
    "n=5\n",
    "k=n-1\n",
    "for i in range(n,0,-1):\n",
    "    for j in range(k):\n",
    "        print(end=\" \")\n",
    "    k=k+1\n",
    "    for j in range(i):\n",
    "        print(\"*\",end=\" \")\n",
    "    print(\"\\n\")"
   ]
  },
  {
   "cell_type": "code",
   "execution_count": 10,
   "metadata": {
    "colab": {
     "base_uri": "https://localhost:8080/"
    },
    "executionInfo": {
     "elapsed": 51,
     "status": "ok",
     "timestamp": 1644074958552,
     "user": {
      "displayName": "Gowsalya Y",
      "photoUrl": "https://lh3.googleusercontent.com/a-/AOh14GhhGYuQWdGu2YbvKvI-fyt8SFNRfVtIBHTa1tN0Sg=s64",
      "userId": "18322451228739925466"
     },
     "user_tz": -330
    },
    "id": "IemFuX7O65dE",
    "outputId": "48747a6d-9125-4255-f7ce-62ad9cef5286"
   },
   "outputs": [
    {
     "name": "stdout",
     "output_type": "stream",
     "text": [
      "      *  \n",
      "\n",
      "     *  *  \n",
      "\n",
      "    *  *  *  \n",
      "\n",
      "   *  *  *  *  \n",
      "\n",
      "  *  *  *  *  *  \n",
      "\n",
      " *  *  *  *  *  *  \n",
      "\n",
      "*  *  *  *  *  *  *  \n",
      "\n"
     ]
    }
   ],
   "source": [
    "#Q10\n",
    "\n",
    "n=7\n",
    "k=n-1\n",
    "for i in range(n):\n",
    "    for j in range(k):\n",
    "        print(end=\" \")\n",
    "    k=k-1\n",
    "    for j in range(i+1):\n",
    "        print(\"*\",end=\"  \")\n",
    "    print(\"\\n\")"
   ]
  },
  {
   "cell_type": "code",
   "execution_count": 11,
   "metadata": {
    "colab": {
     "base_uri": "https://localhost:8080/"
    },
    "executionInfo": {
     "elapsed": 46,
     "status": "ok",
     "timestamp": 1644074958553,
     "user": {
      "displayName": "Gowsalya Y",
      "photoUrl": "https://lh3.googleusercontent.com/a-/AOh14GhhGYuQWdGu2YbvKvI-fyt8SFNRfVtIBHTa1tN0Sg=s64",
      "userId": "18322451228739925466"
     },
     "user_tz": -330
    },
    "id": "xn0DnV6E7cre",
    "outputId": "e7951428-70a2-482d-dda2-bf64f54b92a9"
   },
   "outputs": [
    {
     "name": "stdout",
     "output_type": "stream",
     "text": [
      "* \n",
      "\n",
      "* * \n",
      "\n",
      "* * * \n",
      "\n",
      "* * * * \n",
      "\n",
      "* * * * * \n",
      "\n",
      "* * * * * * \n",
      "\n",
      "\n",
      "\n",
      "* * * * * * \n",
      "\n",
      "* * * * * \n",
      "\n",
      "* * * * \n",
      "\n",
      "* * * \n",
      "\n",
      "* * \n",
      "\n",
      "* \n",
      "\n"
     ]
    }
   ],
   "source": [
    "#Q11\n",
    "\n",
    "n=6\n",
    "for i in range(n):\n",
    "    for j in range(i+1):\n",
    "        print(\"*\",end=\" \")\n",
    "    print(\"\\n\")\n",
    "print(\"\\n\")\n",
    "for i in range(n,0,-1):\n",
    "    for j in range(i):\n",
    "        print(\"*\",end=\" \")\n",
    "    print(\"\\n\")"
   ]
  },
  {
   "cell_type": "code",
   "execution_count": 12,
   "metadata": {
    "colab": {
     "base_uri": "https://localhost:8080/"
    },
    "executionInfo": {
     "elapsed": 43,
     "status": "ok",
     "timestamp": 1644074958555,
     "user": {
      "displayName": "Gowsalya Y",
      "photoUrl": "https://lh3.googleusercontent.com/a-/AOh14GhhGYuQWdGu2YbvKvI-fyt8SFNRfVtIBHTa1tN0Sg=s64",
      "userId": "18322451228739925466"
     },
     "user_tz": -330
    },
    "id": "xSQa1oUYHl4R",
    "outputId": "228923db-8ebf-447e-8bbd-0c32ce0b20f1"
   },
   "outputs": [
    {
     "name": "stdout",
     "output_type": "stream",
     "text": [
      "\n",
      "\n",
      "* \n",
      "\n",
      "* * \n",
      "\n",
      "* * * \n",
      "\n",
      "* * * * \n",
      "\n",
      "* * * * * \n",
      "\n",
      "* * * * \n",
      "\n",
      "* * * \n",
      "\n",
      "* * \n",
      "\n",
      "* \n",
      "\n"
     ]
    }
   ],
   "source": [
    "#Q12\n",
    "\n",
    "n=5\n",
    "for i in range(n):\n",
    "    for j in range(i):\n",
    "        print(\"*\",end=\" \")\n",
    "    print(\"\\n\")\n",
    "for i in range(n,0,-1):\n",
    "    for j in range(i):\n",
    "        print(\"*\",end=\" \")\n",
    "    print(\"\\n\")"
   ]
  },
  {
   "cell_type": "code",
   "execution_count": 13,
   "metadata": {
    "colab": {
     "base_uri": "https://localhost:8080/"
    },
    "executionInfo": {
     "elapsed": 39,
     "status": "ok",
     "timestamp": 1644074958557,
     "user": {
      "displayName": "Gowsalya Y",
      "photoUrl": "https://lh3.googleusercontent.com/a-/AOh14GhhGYuQWdGu2YbvKvI-fyt8SFNRfVtIBHTa1tN0Sg=s64",
      "userId": "18322451228739925466"
     },
     "user_tz": -330
    },
    "id": "9pC0bc2WI5pS",
    "outputId": "8f817d53-bdd1-4f64-acef-e145920bd654"
   },
   "outputs": [
    {
     "name": "stdout",
     "output_type": "stream",
     "text": [
      "          \n",
      "\n",
      "        * \n",
      "\n",
      "      * * \n",
      "\n",
      "    * * * \n",
      "\n",
      "  * * * * \n",
      "\n",
      "* * * * * \n",
      "\n",
      "  * * * * \n",
      "\n",
      "    * * * \n",
      "\n",
      "      * * \n",
      "\n",
      "        * \n",
      "\n"
     ]
    }
   ],
   "source": [
    "#Q13\n",
    "\n",
    "n=5\n",
    "k=2*n\n",
    "for i in range(n):\n",
    "    for j in range(k):\n",
    "        print(end=\" \")\n",
    "    k=k-2\n",
    "    for j in range(i):\n",
    "        print(\"*\",end=\" \")  \n",
    "    print(\"\\n\")\n",
    "for i in range(n,0,-1):\n",
    "    for j in range(k):\n",
    "        print(end=\" \")\n",
    "    k=k+2\n",
    "    for j in range(i):\n",
    "        print(\"*\",end=\" \")\n",
    "    print(\"\\n\")"
   ]
  },
  {
   "cell_type": "code",
   "execution_count": 14,
   "metadata": {
    "colab": {
     "base_uri": "https://localhost:8080/"
    },
    "executionInfo": {
     "elapsed": 33,
     "status": "ok",
     "timestamp": 1644074958558,
     "user": {
      "displayName": "Gowsalya Y",
      "photoUrl": "https://lh3.googleusercontent.com/a-/AOh14GhhGYuQWdGu2YbvKvI-fyt8SFNRfVtIBHTa1tN0Sg=s64",
      "userId": "18322451228739925466"
     },
     "user_tz": -330
    },
    "id": "yQ5esFeCHupC",
    "outputId": "967dadbb-638f-42d5-a3ff-2b4f0fed0906"
   },
   "outputs": [
    {
     "name": "stdout",
     "output_type": "stream",
     "text": [
      "* * * * * \n",
      "\n",
      " * * * * \n",
      "\n",
      "  * * * \n",
      "\n",
      "   * * \n",
      "\n",
      "    * \n",
      "\n",
      "     * \n",
      "\n",
      "    * * \n",
      "\n",
      "   * * * \n",
      "\n",
      "  * * * * \n",
      "\n",
      " * * * * * \n",
      "\n"
     ]
    }
   ],
   "source": [
    "#Q14\n",
    "\n",
    "n=5\n",
    "k=0\n",
    "for i in range(n,0,-1):\n",
    "    for j in range(k):\n",
    "        print(end=\" \")\n",
    "    k=k+1\n",
    "    for j in range(i):\n",
    "        print(\"*\",end=\" \")\n",
    "    print(\"\\n\")\n",
    "for i in range(n):\n",
    "    for j in range(k):\n",
    "        print(end=\" \")\n",
    "    k=k-1\n",
    "    for j in range(i+1):\n",
    "        print(\"*\",end=\" \")\n",
    "    print(\"\\n\")"
   ]
  },
  {
   "cell_type": "code",
   "execution_count": 15,
   "metadata": {
    "colab": {
     "base_uri": "https://localhost:8080/"
    },
    "executionInfo": {
     "elapsed": 357,
     "status": "ok",
     "timestamp": 1644077486013,
     "user": {
      "displayName": "Gowsalya Y",
      "photoUrl": "https://lh3.googleusercontent.com/a-/AOh14GhhGYuQWdGu2YbvKvI-fyt8SFNRfVtIBHTa1tN0Sg=s64",
      "userId": "18322451228739925466"
     },
     "user_tz": -330
    },
    "id": "BTD8GZrkIe2l",
    "outputId": "0334e66c-e6fe-4774-9d35-7b08309acfd6"
   },
   "outputs": [
    {
     "name": "stdout",
     "output_type": "stream",
     "text": [
      "******************\n",
      "******* __ *******\n",
      "****** ____ ******\n",
      "***** ______ *****\n",
      "**** ________ ****\n",
      "*** __________ ***\n",
      "** ____________ **\n",
      "* ______________ *\n"
     ]
    }
   ],
   "source": [
    "#Q15\n",
    "\n",
    "n=16\n",
    "print(\"*\"*(n+2),end=\"\\n\")\n",
    "i=(n//2)-1\n",
    "j=2\n",
    "while i!=0:\n",
    "    while j<=(n-2):\n",
    "        print(\"*\"*i,end=\" \")\n",
    "        print(\"_\"*j,end=\" \")\n",
    "        print(\"*\"*i,end=\"\\n\")\n",
    "        i-=1\n",
    "        j+=2"
   ]
  },
  {
   "cell_type": "code",
   "execution_count": null,
   "metadata": {
    "id": "rKGKS6hoo_kH"
   },
   "outputs": [],
   "source": []
  }
 ],
 "metadata": {
  "colab": {
   "authorship_tag": "ABX9TyNh+93FehtedNeFZCz3g06E",
   "collapsed_sections": [],
   "name": "Assignment 1 -Pattern_Programming.ipynb",
   "provenance": []
  },
  "kernelspec": {
   "display_name": "Python 3",
   "language": "python",
   "name": "python3"
  },
  "language_info": {
   "codemirror_mode": {
    "name": "ipython",
    "version": 3
   },
   "file_extension": ".py",
   "mimetype": "text/x-python",
   "name": "python",
   "nbconvert_exporter": "python",
   "pygments_lexer": "ipython3",
   "version": "3.8.5"
  }
 },
 "nbformat": 4,
 "nbformat_minor": 1
}
