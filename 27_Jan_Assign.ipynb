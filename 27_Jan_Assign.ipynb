{
 "cells": [
  {
   "cell_type": "markdown",
   "metadata": {},
   "source": [
    "1. Create a class initialize 3 variable x,y,z.\n",
    "\n",
    "- create two object of the class\n",
    "s1(10,20,30) s2(5,10,15)\n",
    "\n",
    "    Perform operator overloading (10+10 , 20+15, 30+5)"
   ]
  },
  {
   "cell_type": "code",
   "execution_count": 1,
   "metadata": {},
   "outputs": [],
   "source": [
    "class operator_overloading:\n",
    "    def __init__(self,x,y,z):\n",
    "        self.x=x\n",
    "        self.y=y\n",
    "        self.z=z\n",
    "        \n",
    "    def __add__(self,other):\n",
    "        return self.x+other.y,self.y+other.z,self.z+other.x      "
   ]
  },
  {
   "cell_type": "code",
   "execution_count": 2,
   "metadata": {},
   "outputs": [
    {
     "data": {
      "text/plain": [
       "(20, 35, 35)"
      ]
     },
     "execution_count": 2,
     "metadata": {},
     "output_type": "execute_result"
    }
   ],
   "source": [
    "s1=operator_overloading(10,20,30)\n",
    "s2=operator_overloading(5,10,15)\n",
    "\n",
    "s1+s2"
   ]
  },
  {
   "cell_type": "markdown",
   "metadata": {},
   "source": [
    "2.Perform Operation overloading in such a way.\n",
    "You will compare if the object of the class is greater than the object of same class based on the square\n",
    "\n",
    "-Find out the square \n",
    "    if the square of first object number is greater than square of second object return true \n",
    "    otherwise return False\n",
    "s1(6)>s2(4)--->True\n"
   ]
  },
  {
   "cell_type": "code",
   "execution_count": 3,
   "metadata": {},
   "outputs": [],
   "source": [
    "class square_compare:\n",
    "    def __init__(self,x):\n",
    "        self.x=x\n",
    "        \n",
    "    def __gt__(self,other):\n",
    "        if (self.x**2)>(other.x**2):\n",
    "            return True\n",
    "        else:\n",
    "            return False"
   ]
  },
  {
   "cell_type": "code",
   "execution_count": 4,
   "metadata": {},
   "outputs": [
    {
     "data": {
      "text/plain": [
       "False"
      ]
     },
     "execution_count": 4,
     "metadata": {},
     "output_type": "execute_result"
    }
   ],
   "source": [
    "s1=square_compare(4)\n",
    "s2=square_compare(6)\n",
    "s1>s2"
   ]
  },
  {
   "cell_type": "code",
   "execution_count": 5,
   "metadata": {},
   "outputs": [
    {
     "data": {
      "text/plain": [
       "True"
      ]
     },
     "execution_count": 5,
     "metadata": {},
     "output_type": "execute_result"
    }
   ],
   "source": [
    "s1=square_compare(10)\n",
    "s2=square_compare(6)\n",
    "s1>s2"
   ]
  },
  {
   "cell_type": "code",
   "execution_count": null,
   "metadata": {},
   "outputs": [],
   "source": []
  }
 ],
 "metadata": {
  "kernelspec": {
   "display_name": "Python 3",
   "language": "python",
   "name": "python3"
  },
  "language_info": {
   "codemirror_mode": {
    "name": "ipython",
    "version": 3
   },
   "file_extension": ".py",
   "mimetype": "text/x-python",
   "name": "python",
   "nbconvert_exporter": "python",
   "pygments_lexer": "ipython3",
   "version": "3.8.5"
  }
 },
 "nbformat": 4,
 "nbformat_minor": 4
}
