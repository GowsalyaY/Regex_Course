{
 "cells": [
  {
   "cell_type": "markdown",
   "id": "823f3ec6",
   "metadata": {},
   "source": [
    "# Multi-Linear Regression"
   ]
  },
  {
   "cell_type": "markdown",
   "id": "9aafb5d1",
   "metadata": {},
   "source": [
    "### 1. Taking “Estimated Shares Outstanding” as the dependent variable, perform multiple linear regression on every other variable except - Period Ending, Total Revenue.\n",
    "### 2. Taking “Total Revenue” as the dependent variable, perform multiple linear regression on every other variable except - Period Ending, Estimated Shares Outstanding."
   ]
  },
  {
   "cell_type": "code",
   "execution_count": 1,
   "id": "f74c5f2b",
   "metadata": {},
   "outputs": [],
   "source": [
    "import numpy as np\n",
    "import pandas as pd\n",
    "import matplotlib.pyplot as plt\n",
    "import seaborn as sns\n",
    "%matplotlib inline"
   ]
  },
  {
   "cell_type": "code",
   "execution_count": 2,
   "id": "cd081e40",
   "metadata": {},
   "outputs": [
    {
     "data": {
      "text/html": [
       "<div>\n",
       "<style scoped>\n",
       "    .dataframe tbody tr th:only-of-type {\n",
       "        vertical-align: middle;\n",
       "    }\n",
       "\n",
       "    .dataframe tbody tr th {\n",
       "        vertical-align: top;\n",
       "    }\n",
       "\n",
       "    .dataframe thead th {\n",
       "        text-align: right;\n",
       "    }\n",
       "</style>\n",
       "<table border=\"1\" class=\"dataframe\">\n",
       "  <thead>\n",
       "    <tr style=\"text-align: right;\">\n",
       "      <th></th>\n",
       "      <th>Unnamed: 0</th>\n",
       "      <th>Ticker Symbol</th>\n",
       "      <th>Period Ending</th>\n",
       "      <th>Accounts Payable</th>\n",
       "      <th>Accounts Receivable</th>\n",
       "      <th>Add'l income/expense items</th>\n",
       "      <th>After Tax ROE</th>\n",
       "      <th>Capital Expenditures</th>\n",
       "      <th>Capital Surplus</th>\n",
       "      <th>Cash Ratio</th>\n",
       "      <th>...</th>\n",
       "      <th>Total Current Assets</th>\n",
       "      <th>Total Current Liabilities</th>\n",
       "      <th>Total Equity</th>\n",
       "      <th>Total Liabilities</th>\n",
       "      <th>Total Liabilities &amp; Equity</th>\n",
       "      <th>Total Revenue</th>\n",
       "      <th>Treasury Stock</th>\n",
       "      <th>For Year</th>\n",
       "      <th>Earnings Per Share</th>\n",
       "      <th>Estimated Shares Outstanding</th>\n",
       "    </tr>\n",
       "  </thead>\n",
       "  <tbody>\n",
       "    <tr>\n",
       "      <th>0</th>\n",
       "      <td>0</td>\n",
       "      <td>AAL</td>\n",
       "      <td>2012-12-31</td>\n",
       "      <td>3.068000e+09</td>\n",
       "      <td>-222000000</td>\n",
       "      <td>-1961000000</td>\n",
       "      <td>23</td>\n",
       "      <td>-1888000000</td>\n",
       "      <td>4.695000e+09</td>\n",
       "      <td>53.0</td>\n",
       "      <td>...</td>\n",
       "      <td>7.072000e+09</td>\n",
       "      <td>9011000000</td>\n",
       "      <td>-7.987000e+09</td>\n",
       "      <td>2.489100e+10</td>\n",
       "      <td>1.690400e+10</td>\n",
       "      <td>2.485500e+10</td>\n",
       "      <td>-367000000.0</td>\n",
       "      <td>2012.0</td>\n",
       "      <td>-5.60</td>\n",
       "      <td>3.350000e+08</td>\n",
       "    </tr>\n",
       "    <tr>\n",
       "      <th>1</th>\n",
       "      <td>1</td>\n",
       "      <td>AAL</td>\n",
       "      <td>2013-12-31</td>\n",
       "      <td>4.975000e+09</td>\n",
       "      <td>-93000000</td>\n",
       "      <td>-2723000000</td>\n",
       "      <td>67</td>\n",
       "      <td>-3114000000</td>\n",
       "      <td>1.059200e+10</td>\n",
       "      <td>75.0</td>\n",
       "      <td>...</td>\n",
       "      <td>1.432300e+10</td>\n",
       "      <td>13806000000</td>\n",
       "      <td>-2.731000e+09</td>\n",
       "      <td>4.500900e+10</td>\n",
       "      <td>4.227800e+10</td>\n",
       "      <td>2.674300e+10</td>\n",
       "      <td>0.0</td>\n",
       "      <td>2013.0</td>\n",
       "      <td>-11.25</td>\n",
       "      <td>1.630222e+08</td>\n",
       "    </tr>\n",
       "    <tr>\n",
       "      <th>2</th>\n",
       "      <td>2</td>\n",
       "      <td>AAL</td>\n",
       "      <td>2014-12-31</td>\n",
       "      <td>4.668000e+09</td>\n",
       "      <td>-160000000</td>\n",
       "      <td>-150000000</td>\n",
       "      <td>143</td>\n",
       "      <td>-5311000000</td>\n",
       "      <td>1.513500e+10</td>\n",
       "      <td>60.0</td>\n",
       "      <td>...</td>\n",
       "      <td>1.175000e+10</td>\n",
       "      <td>13404000000</td>\n",
       "      <td>2.021000e+09</td>\n",
       "      <td>4.120400e+10</td>\n",
       "      <td>4.322500e+10</td>\n",
       "      <td>4.265000e+10</td>\n",
       "      <td>0.0</td>\n",
       "      <td>2014.0</td>\n",
       "      <td>4.02</td>\n",
       "      <td>7.169154e+08</td>\n",
       "    </tr>\n",
       "    <tr>\n",
       "      <th>3</th>\n",
       "      <td>3</td>\n",
       "      <td>AAL</td>\n",
       "      <td>2015-12-31</td>\n",
       "      <td>5.102000e+09</td>\n",
       "      <td>352000000</td>\n",
       "      <td>-708000000</td>\n",
       "      <td>135</td>\n",
       "      <td>-6151000000</td>\n",
       "      <td>1.159100e+10</td>\n",
       "      <td>51.0</td>\n",
       "      <td>...</td>\n",
       "      <td>9.985000e+09</td>\n",
       "      <td>13605000000</td>\n",
       "      <td>5.635000e+09</td>\n",
       "      <td>4.278000e+10</td>\n",
       "      <td>4.841500e+10</td>\n",
       "      <td>4.099000e+10</td>\n",
       "      <td>0.0</td>\n",
       "      <td>2015.0</td>\n",
       "      <td>11.39</td>\n",
       "      <td>6.681299e+08</td>\n",
       "    </tr>\n",
       "    <tr>\n",
       "      <th>4</th>\n",
       "      <td>4</td>\n",
       "      <td>AAP</td>\n",
       "      <td>2012-12-29</td>\n",
       "      <td>2.409453e+09</td>\n",
       "      <td>-89482000</td>\n",
       "      <td>600000</td>\n",
       "      <td>32</td>\n",
       "      <td>-271182000</td>\n",
       "      <td>5.202150e+08</td>\n",
       "      <td>23.0</td>\n",
       "      <td>...</td>\n",
       "      <td>3.184200e+09</td>\n",
       "      <td>2559638000</td>\n",
       "      <td>1.210694e+09</td>\n",
       "      <td>3.403120e+09</td>\n",
       "      <td>4.613814e+09</td>\n",
       "      <td>6.205003e+09</td>\n",
       "      <td>-27095000.0</td>\n",
       "      <td>2012.0</td>\n",
       "      <td>5.29</td>\n",
       "      <td>7.328355e+07</td>\n",
       "    </tr>\n",
       "  </tbody>\n",
       "</table>\n",
       "<p>5 rows × 79 columns</p>\n",
       "</div>"
      ],
      "text/plain": [
       "   Unnamed: 0 Ticker Symbol Period Ending  Accounts Payable  \\\n",
       "0           0           AAL    2012-12-31      3.068000e+09   \n",
       "1           1           AAL    2013-12-31      4.975000e+09   \n",
       "2           2           AAL    2014-12-31      4.668000e+09   \n",
       "3           3           AAL    2015-12-31      5.102000e+09   \n",
       "4           4           AAP    2012-12-29      2.409453e+09   \n",
       "\n",
       "   Accounts Receivable  Add'l income/expense items  After Tax ROE  \\\n",
       "0           -222000000                 -1961000000             23   \n",
       "1            -93000000                 -2723000000             67   \n",
       "2           -160000000                  -150000000            143   \n",
       "3            352000000                  -708000000            135   \n",
       "4            -89482000                      600000             32   \n",
       "\n",
       "   Capital Expenditures  Capital Surplus  Cash Ratio  ...  \\\n",
       "0           -1888000000     4.695000e+09        53.0  ...   \n",
       "1           -3114000000     1.059200e+10        75.0  ...   \n",
       "2           -5311000000     1.513500e+10        60.0  ...   \n",
       "3           -6151000000     1.159100e+10        51.0  ...   \n",
       "4            -271182000     5.202150e+08        23.0  ...   \n",
       "\n",
       "   Total Current Assets  Total Current Liabilities  Total Equity  \\\n",
       "0          7.072000e+09                 9011000000 -7.987000e+09   \n",
       "1          1.432300e+10                13806000000 -2.731000e+09   \n",
       "2          1.175000e+10                13404000000  2.021000e+09   \n",
       "3          9.985000e+09                13605000000  5.635000e+09   \n",
       "4          3.184200e+09                 2559638000  1.210694e+09   \n",
       "\n",
       "   Total Liabilities  Total Liabilities & Equity  Total Revenue  \\\n",
       "0       2.489100e+10                1.690400e+10   2.485500e+10   \n",
       "1       4.500900e+10                4.227800e+10   2.674300e+10   \n",
       "2       4.120400e+10                4.322500e+10   4.265000e+10   \n",
       "3       4.278000e+10                4.841500e+10   4.099000e+10   \n",
       "4       3.403120e+09                4.613814e+09   6.205003e+09   \n",
       "\n",
       "   Treasury Stock  For Year  Earnings Per Share  Estimated Shares Outstanding  \n",
       "0    -367000000.0    2012.0               -5.60                  3.350000e+08  \n",
       "1             0.0    2013.0              -11.25                  1.630222e+08  \n",
       "2             0.0    2014.0                4.02                  7.169154e+08  \n",
       "3             0.0    2015.0               11.39                  6.681299e+08  \n",
       "4     -27095000.0    2012.0                5.29                  7.328355e+07  \n",
       "\n",
       "[5 rows x 79 columns]"
      ]
     },
     "execution_count": 2,
     "metadata": {},
     "output_type": "execute_result"
    }
   ],
   "source": [
    "df = pd.read_csv(\"fundamentals.csv\")\n",
    "df.head(5)"
   ]
  },
  {
   "cell_type": "markdown",
   "id": "56ad360c",
   "metadata": {},
   "source": [
    "### Data preprocessing"
   ]
  },
  {
   "cell_type": "code",
   "execution_count": 3,
   "id": "3ba71f14",
   "metadata": {},
   "outputs": [
    {
     "data": {
      "text/plain": [
       "(1781, 79)"
      ]
     },
     "execution_count": 3,
     "metadata": {},
     "output_type": "execute_result"
    }
   ],
   "source": [
    "df.shape"
   ]
  },
  {
   "cell_type": "code",
   "execution_count": 4,
   "id": "948dadab",
   "metadata": {},
   "outputs": [
    {
     "name": "stdout",
     "output_type": "stream",
     "text": [
      "<class 'pandas.core.frame.DataFrame'>\n",
      "RangeIndex: 1781 entries, 0 to 1780\n",
      "Data columns (total 79 columns):\n",
      " #   Column                                               Non-Null Count  Dtype  \n",
      "---  ------                                               --------------  -----  \n",
      " 0   Unnamed: 0                                           1781 non-null   int64  \n",
      " 1   Ticker Symbol                                        1781 non-null   object \n",
      " 2   Period Ending                                        1781 non-null   object \n",
      " 3   Accounts Payable                                     1781 non-null   float64\n",
      " 4   Accounts Receivable                                  1781 non-null   int64  \n",
      " 5   Add'l income/expense items                           1781 non-null   int64  \n",
      " 6   After Tax ROE                                        1781 non-null   int64  \n",
      " 7   Capital Expenditures                                 1781 non-null   int64  \n",
      " 8   Capital Surplus                                      1781 non-null   float64\n",
      " 9   Cash Ratio                                           1482 non-null   float64\n",
      " 10  Cash and Cash Equivalents                            1781 non-null   float64\n",
      " 11  Changes in Inventories                               1781 non-null   int64  \n",
      " 12  Common Stocks                                        1781 non-null   float64\n",
      " 13  Cost of Revenue                                      1781 non-null   float64\n",
      " 14  Current Ratio                                        1482 non-null   float64\n",
      " 15  Deferred Asset Charges                               1781 non-null   int64  \n",
      " 16  Deferred Liability Charges                           1781 non-null   int64  \n",
      " 17  Depreciation                                         1781 non-null   int64  \n",
      " 18  Earnings Before Interest and Tax                     1781 non-null   int64  \n",
      " 19  Earnings Before Tax                                  1781 non-null   int64  \n",
      " 20  Effect of Exchange Rate                              1781 non-null   int64  \n",
      " 21  Equity Earnings/Loss Unconsolidated Subsidiary       1781 non-null   int64  \n",
      " 22  Fixed Assets                                         1781 non-null   float64\n",
      " 23  Goodwill                                             1781 non-null   float64\n",
      " 24  Gross Margin                                         1781 non-null   int64  \n",
      " 25  Gross Profit                                         1781 non-null   float64\n",
      " 26  Income Tax                                           1781 non-null   int64  \n",
      " 27  Intangible Assets                                    1781 non-null   float64\n",
      " 28  Interest Expense                                     1781 non-null   int64  \n",
      " 29  Inventory                                            1781 non-null   int64  \n",
      " 30  Investments                                          1781 non-null   float64\n",
      " 31  Liabilities                                          1781 non-null   int64  \n",
      " 32  Long-Term Debt                                       1781 non-null   float64\n",
      " 33  Long-Term Investments                                1781 non-null   float64\n",
      " 34  Minority Interest                                    1781 non-null   int64  \n",
      " 35  Misc. Stocks                                         1781 non-null   int64  \n",
      " 36  Net Borrowings                                       1781 non-null   int64  \n",
      " 37  Net Cash Flow                                        1781 non-null   int64  \n",
      " 38  Net Cash Flow-Operating                              1781 non-null   float64\n",
      " 39  Net Cash Flows-Financing                             1781 non-null   float64\n",
      " 40  Net Cash Flows-Investing                             1781 non-null   float64\n",
      " 41  Net Income                                           1781 non-null   int64  \n",
      " 42  Net Income Adjustments                               1781 non-null   int64  \n",
      " 43  Net Income Applicable to Common Shareholders         1781 non-null   int64  \n",
      " 44  Net Income-Cont. Operations                          1781 non-null   int64  \n",
      " 45  Net Receivables                                      1781 non-null   int64  \n",
      " 46  Non-Recurring Items                                  1781 non-null   int64  \n",
      " 47  Operating Income                                     1781 non-null   int64  \n",
      " 48  Operating Margin                                     1781 non-null   int64  \n",
      " 49  Other Assets                                         1781 non-null   float64\n",
      " 50  Other Current Assets                                 1781 non-null   int64  \n",
      " 51  Other Current Liabilities                            1781 non-null   float64\n",
      " 52  Other Equity                                         1781 non-null   int64  \n",
      " 53  Other Financing Activities                           1781 non-null   int64  \n",
      " 54  Other Investing Activities                           1781 non-null   int64  \n",
      " 55  Other Liabilities                                    1781 non-null   float64\n",
      " 56  Other Operating Activities                           1781 non-null   int64  \n",
      " 57  Other Operating Items                                1781 non-null   int64  \n",
      " 58  Pre-Tax Margin                                       1781 non-null   int64  \n",
      " 59  Pre-Tax ROE                                          1781 non-null   int64  \n",
      " 60  Profit Margin                                        1781 non-null   int64  \n",
      " 61  Quick Ratio                                          1482 non-null   float64\n",
      " 62  Research and Development                             1781 non-null   int64  \n",
      " 63  Retained Earnings                                    1781 non-null   float64\n",
      " 64  Sale and Purchase of Stock                           1781 non-null   int64  \n",
      " 65  Sales, General and Admin.                            1781 non-null   int64  \n",
      " 66  Short-Term Debt / Current Portion of Long-Term Debt  1781 non-null   float64\n",
      " 67  Short-Term Investments                               1781 non-null   float64\n",
      " 68  Total Assets                                         1781 non-null   float64\n",
      " 69  Total Current Assets                                 1781 non-null   float64\n",
      " 70  Total Current Liabilities                            1781 non-null   int64  \n",
      " 71  Total Equity                                         1781 non-null   float64\n",
      " 72  Total Liabilities                                    1781 non-null   float64\n",
      " 73  Total Liabilities & Equity                           1781 non-null   float64\n",
      " 74  Total Revenue                                        1781 non-null   float64\n",
      " 75  Treasury Stock                                       1781 non-null   float64\n",
      " 76  For Year                                             1608 non-null   float64\n",
      " 77  Earnings Per Share                                   1562 non-null   float64\n",
      " 78  Estimated Shares Outstanding                         1562 non-null   float64\n",
      "dtypes: float64(34), int64(43), object(2)\n",
      "memory usage: 1.1+ MB\n"
     ]
    }
   ],
   "source": [
    "df.info()"
   ]
  },
  {
   "cell_type": "code",
   "execution_count": 5,
   "id": "eb0e21e4",
   "metadata": {},
   "outputs": [
    {
     "data": {
      "text/plain": [
       "0"
      ]
     },
     "execution_count": 5,
     "metadata": {},
     "output_type": "execute_result"
    }
   ],
   "source": [
    "df.duplicated().sum()"
   ]
  },
  {
   "cell_type": "code",
   "execution_count": 6,
   "id": "8f05d653",
   "metadata": {},
   "outputs": [
    {
     "data": {
      "text/plain": [
       "Unnamed: 0                      1781\n",
       "Ticker Symbol                    448\n",
       "Period Ending                    162\n",
       "Accounts Payable                1676\n",
       "Accounts Receivable             1329\n",
       "                                ... \n",
       "Total Revenue                   1742\n",
       "Treasury Stock                  1015\n",
       "For Year                           6\n",
       "Earnings Per Share               744\n",
       "Estimated Shares Outstanding    1558\n",
       "Length: 79, dtype: int64"
      ]
     },
     "execution_count": 6,
     "metadata": {},
     "output_type": "execute_result"
    }
   ],
   "source": [
    "df.nunique()"
   ]
  },
  {
   "cell_type": "code",
   "execution_count": 7,
   "id": "06508d7b",
   "metadata": {},
   "outputs": [
    {
     "data": {
      "text/plain": [
       "Unnamed: 0                        0\n",
       "Ticker Symbol                     0\n",
       "Period Ending                     0\n",
       "Accounts Payable                  0\n",
       "Accounts Receivable               0\n",
       "                               ... \n",
       "Total Revenue                     0\n",
       "Treasury Stock                    0\n",
       "For Year                        173\n",
       "Earnings Per Share              219\n",
       "Estimated Shares Outstanding    219\n",
       "Length: 79, dtype: int64"
      ]
     },
     "execution_count": 7,
     "metadata": {},
     "output_type": "execute_result"
    }
   ],
   "source": [
    "df.isnull().sum()"
   ]
  },
  {
   "cell_type": "markdown",
   "id": "951c936f",
   "metadata": {},
   "source": [
    "###### Renaming unlabeled column"
   ]
  },
  {
   "cell_type": "code",
   "execution_count": 8,
   "id": "73c47897",
   "metadata": {},
   "outputs": [
    {
     "data": {
      "text/html": [
       "<div>\n",
       "<style scoped>\n",
       "    .dataframe tbody tr th:only-of-type {\n",
       "        vertical-align: middle;\n",
       "    }\n",
       "\n",
       "    .dataframe tbody tr th {\n",
       "        vertical-align: top;\n",
       "    }\n",
       "\n",
       "    .dataframe thead th {\n",
       "        text-align: right;\n",
       "    }\n",
       "</style>\n",
       "<table border=\"1\" class=\"dataframe\">\n",
       "  <thead>\n",
       "    <tr style=\"text-align: right;\">\n",
       "      <th></th>\n",
       "      <th>Si.No</th>\n",
       "      <th>Ticker Symbol</th>\n",
       "      <th>Period Ending</th>\n",
       "      <th>Accounts Payable</th>\n",
       "      <th>Accounts Receivable</th>\n",
       "      <th>Add'l income/expense items</th>\n",
       "      <th>After Tax ROE</th>\n",
       "      <th>Capital Expenditures</th>\n",
       "      <th>Capital Surplus</th>\n",
       "      <th>Cash Ratio</th>\n",
       "      <th>...</th>\n",
       "      <th>Total Current Assets</th>\n",
       "      <th>Total Current Liabilities</th>\n",
       "      <th>Total Equity</th>\n",
       "      <th>Total Liabilities</th>\n",
       "      <th>Total Liabilities &amp; Equity</th>\n",
       "      <th>Total Revenue</th>\n",
       "      <th>Treasury Stock</th>\n",
       "      <th>For Year</th>\n",
       "      <th>Earnings Per Share</th>\n",
       "      <th>Estimated Shares Outstanding</th>\n",
       "    </tr>\n",
       "  </thead>\n",
       "  <tbody>\n",
       "    <tr>\n",
       "      <th>0</th>\n",
       "      <td>0</td>\n",
       "      <td>AAL</td>\n",
       "      <td>2012-12-31</td>\n",
       "      <td>3.068000e+09</td>\n",
       "      <td>-222000000</td>\n",
       "      <td>-1961000000</td>\n",
       "      <td>23</td>\n",
       "      <td>-1888000000</td>\n",
       "      <td>4.695000e+09</td>\n",
       "      <td>53.0</td>\n",
       "      <td>...</td>\n",
       "      <td>7.072000e+09</td>\n",
       "      <td>9011000000</td>\n",
       "      <td>-7.987000e+09</td>\n",
       "      <td>2.489100e+10</td>\n",
       "      <td>1.690400e+10</td>\n",
       "      <td>2.485500e+10</td>\n",
       "      <td>-367000000.0</td>\n",
       "      <td>2012.0</td>\n",
       "      <td>-5.60</td>\n",
       "      <td>3.350000e+08</td>\n",
       "    </tr>\n",
       "    <tr>\n",
       "      <th>1</th>\n",
       "      <td>1</td>\n",
       "      <td>AAL</td>\n",
       "      <td>2013-12-31</td>\n",
       "      <td>4.975000e+09</td>\n",
       "      <td>-93000000</td>\n",
       "      <td>-2723000000</td>\n",
       "      <td>67</td>\n",
       "      <td>-3114000000</td>\n",
       "      <td>1.059200e+10</td>\n",
       "      <td>75.0</td>\n",
       "      <td>...</td>\n",
       "      <td>1.432300e+10</td>\n",
       "      <td>13806000000</td>\n",
       "      <td>-2.731000e+09</td>\n",
       "      <td>4.500900e+10</td>\n",
       "      <td>4.227800e+10</td>\n",
       "      <td>2.674300e+10</td>\n",
       "      <td>0.0</td>\n",
       "      <td>2013.0</td>\n",
       "      <td>-11.25</td>\n",
       "      <td>1.630222e+08</td>\n",
       "    </tr>\n",
       "    <tr>\n",
       "      <th>2</th>\n",
       "      <td>2</td>\n",
       "      <td>AAL</td>\n",
       "      <td>2014-12-31</td>\n",
       "      <td>4.668000e+09</td>\n",
       "      <td>-160000000</td>\n",
       "      <td>-150000000</td>\n",
       "      <td>143</td>\n",
       "      <td>-5311000000</td>\n",
       "      <td>1.513500e+10</td>\n",
       "      <td>60.0</td>\n",
       "      <td>...</td>\n",
       "      <td>1.175000e+10</td>\n",
       "      <td>13404000000</td>\n",
       "      <td>2.021000e+09</td>\n",
       "      <td>4.120400e+10</td>\n",
       "      <td>4.322500e+10</td>\n",
       "      <td>4.265000e+10</td>\n",
       "      <td>0.0</td>\n",
       "      <td>2014.0</td>\n",
       "      <td>4.02</td>\n",
       "      <td>7.169154e+08</td>\n",
       "    </tr>\n",
       "    <tr>\n",
       "      <th>3</th>\n",
       "      <td>3</td>\n",
       "      <td>AAL</td>\n",
       "      <td>2015-12-31</td>\n",
       "      <td>5.102000e+09</td>\n",
       "      <td>352000000</td>\n",
       "      <td>-708000000</td>\n",
       "      <td>135</td>\n",
       "      <td>-6151000000</td>\n",
       "      <td>1.159100e+10</td>\n",
       "      <td>51.0</td>\n",
       "      <td>...</td>\n",
       "      <td>9.985000e+09</td>\n",
       "      <td>13605000000</td>\n",
       "      <td>5.635000e+09</td>\n",
       "      <td>4.278000e+10</td>\n",
       "      <td>4.841500e+10</td>\n",
       "      <td>4.099000e+10</td>\n",
       "      <td>0.0</td>\n",
       "      <td>2015.0</td>\n",
       "      <td>11.39</td>\n",
       "      <td>6.681299e+08</td>\n",
       "    </tr>\n",
       "    <tr>\n",
       "      <th>4</th>\n",
       "      <td>4</td>\n",
       "      <td>AAP</td>\n",
       "      <td>2012-12-29</td>\n",
       "      <td>2.409453e+09</td>\n",
       "      <td>-89482000</td>\n",
       "      <td>600000</td>\n",
       "      <td>32</td>\n",
       "      <td>-271182000</td>\n",
       "      <td>5.202150e+08</td>\n",
       "      <td>23.0</td>\n",
       "      <td>...</td>\n",
       "      <td>3.184200e+09</td>\n",
       "      <td>2559638000</td>\n",
       "      <td>1.210694e+09</td>\n",
       "      <td>3.403120e+09</td>\n",
       "      <td>4.613814e+09</td>\n",
       "      <td>6.205003e+09</td>\n",
       "      <td>-27095000.0</td>\n",
       "      <td>2012.0</td>\n",
       "      <td>5.29</td>\n",
       "      <td>7.328355e+07</td>\n",
       "    </tr>\n",
       "  </tbody>\n",
       "</table>\n",
       "<p>5 rows × 79 columns</p>\n",
       "</div>"
      ],
      "text/plain": [
       "   Si.No Ticker Symbol Period Ending  Accounts Payable  Accounts Receivable  \\\n",
       "0      0           AAL    2012-12-31      3.068000e+09           -222000000   \n",
       "1      1           AAL    2013-12-31      4.975000e+09            -93000000   \n",
       "2      2           AAL    2014-12-31      4.668000e+09           -160000000   \n",
       "3      3           AAL    2015-12-31      5.102000e+09            352000000   \n",
       "4      4           AAP    2012-12-29      2.409453e+09            -89482000   \n",
       "\n",
       "   Add'l income/expense items  After Tax ROE  Capital Expenditures  \\\n",
       "0                 -1961000000             23           -1888000000   \n",
       "1                 -2723000000             67           -3114000000   \n",
       "2                  -150000000            143           -5311000000   \n",
       "3                  -708000000            135           -6151000000   \n",
       "4                      600000             32            -271182000   \n",
       "\n",
       "   Capital Surplus  Cash Ratio  ...  Total Current Assets  \\\n",
       "0     4.695000e+09        53.0  ...          7.072000e+09   \n",
       "1     1.059200e+10        75.0  ...          1.432300e+10   \n",
       "2     1.513500e+10        60.0  ...          1.175000e+10   \n",
       "3     1.159100e+10        51.0  ...          9.985000e+09   \n",
       "4     5.202150e+08        23.0  ...          3.184200e+09   \n",
       "\n",
       "   Total Current Liabilities  Total Equity  Total Liabilities  \\\n",
       "0                 9011000000 -7.987000e+09       2.489100e+10   \n",
       "1                13806000000 -2.731000e+09       4.500900e+10   \n",
       "2                13404000000  2.021000e+09       4.120400e+10   \n",
       "3                13605000000  5.635000e+09       4.278000e+10   \n",
       "4                 2559638000  1.210694e+09       3.403120e+09   \n",
       "\n",
       "   Total Liabilities & Equity  Total Revenue  Treasury Stock  For Year  \\\n",
       "0                1.690400e+10   2.485500e+10    -367000000.0    2012.0   \n",
       "1                4.227800e+10   2.674300e+10             0.0    2013.0   \n",
       "2                4.322500e+10   4.265000e+10             0.0    2014.0   \n",
       "3                4.841500e+10   4.099000e+10             0.0    2015.0   \n",
       "4                4.613814e+09   6.205003e+09     -27095000.0    2012.0   \n",
       "\n",
       "   Earnings Per Share  Estimated Shares Outstanding  \n",
       "0               -5.60                  3.350000e+08  \n",
       "1              -11.25                  1.630222e+08  \n",
       "2                4.02                  7.169154e+08  \n",
       "3               11.39                  6.681299e+08  \n",
       "4                5.29                  7.328355e+07  \n",
       "\n",
       "[5 rows x 79 columns]"
      ]
     },
     "execution_count": 8,
     "metadata": {},
     "output_type": "execute_result"
    }
   ],
   "source": [
    "df.rename(columns={df.columns[0]:'Si.No'}, inplace=True)\n",
    "df.head(5)"
   ]
  },
  {
   "cell_type": "markdown",
   "id": "9b0be1ec",
   "metadata": {},
   "source": [
    "##### Dropping unrelated columns"
   ]
  },
  {
   "cell_type": "code",
   "execution_count": 9,
   "id": "bde8f4f3",
   "metadata": {},
   "outputs": [],
   "source": [
    "df=df.drop([\"Si.No\",\"Period Ending\"], axis = 1)"
   ]
  },
  {
   "cell_type": "code",
   "execution_count": 10,
   "id": "eea712b9",
   "metadata": {},
   "outputs": [
    {
     "data": {
      "text/plain": [
       "(1781, 77)"
      ]
     },
     "execution_count": 10,
     "metadata": {},
     "output_type": "execute_result"
    }
   ],
   "source": [
    "df.shape"
   ]
  },
  {
   "cell_type": "markdown",
   "id": "1ab0e0e4",
   "metadata": {},
   "source": [
    "### Replacing null values with mean for the below columns \n",
    "##### Cash Ratio ,Current Ratio  ,Quick Ratio , For Year ,Earnings Per Share , Estimated Shares Outstanding                              "
   ]
  },
  {
   "cell_type": "code",
   "execution_count": 11,
   "id": "9a50329b",
   "metadata": {},
   "outputs": [
    {
     "name": "stdout",
     "output_type": "stream",
     "text": [
      "74.4574898785425\n"
     ]
    }
   ],
   "source": [
    "CR_avg = df[\"Cash Ratio\"].mean()\n",
    "print(CR_avg)\n",
    "df[\"Cash Ratio\"].replace(np.nan, CR_avg, inplace = True)"
   ]
  },
  {
   "cell_type": "code",
   "execution_count": 12,
   "id": "ccdadfa5",
   "metadata": {},
   "outputs": [
    {
     "name": "stdout",
     "output_type": "stream",
     "text": [
      "186.77125506072875\n"
     ]
    }
   ],
   "source": [
    "Cr_avg = df[\"Current Ratio\"].mean()\n",
    "print(Cr_avg)\n",
    "df[\"Current Ratio\"].replace(np.nan, Cr_avg, inplace = True)"
   ]
  },
  {
   "cell_type": "code",
   "execution_count": 13,
   "id": "f5781492",
   "metadata": {},
   "outputs": [
    {
     "name": "stdout",
     "output_type": "stream",
     "text": [
      "146.9527665317139\n"
     ]
    }
   ],
   "source": [
    "QR_avg = df[\"Quick Ratio\"].mean()\n",
    "print(QR_avg)\n",
    "df[\"Quick Ratio\"].replace(np.nan, QR_avg, inplace = True)"
   ]
  },
  {
   "cell_type": "code",
   "execution_count": 14,
   "id": "c4072b27",
   "metadata": {},
   "outputs": [
    {
     "name": "stdout",
     "output_type": "stream",
     "text": [
      "2013\n"
     ]
    }
   ],
   "source": [
    "FR_avg = df[\"For Year\"].mean()\n",
    "print(round(FR_avg))\n",
    "df[\"For Year\"].replace(np.nan, FR_avg, inplace = True)"
   ]
  },
  {
   "cell_type": "code",
   "execution_count": 15,
   "id": "537a850a",
   "metadata": {},
   "outputs": [
    {
     "name": "stdout",
     "output_type": "stream",
     "text": [
      "3.353706786171575\n"
     ]
    }
   ],
   "source": [
    "ERS_avg = df[\"Earnings Per Share\"].mean()\n",
    "print(ERS_avg)\n",
    "df[\"Earnings Per Share\"].replace(np.nan,ERS_avg, inplace = True)"
   ]
  },
  {
   "cell_type": "code",
   "execution_count": 16,
   "id": "ff54aad9",
   "metadata": {},
   "outputs": [
    {
     "name": "stdout",
     "output_type": "stream",
     "text": [
      "602424367.6541101\n"
     ]
    }
   ],
   "source": [
    "ESO_avg = df[\"Estimated Shares Outstanding\"].mean()\n",
    "print(ESO_avg)\n",
    "df[\"Estimated Shares Outstanding\"].replace(np.nan,ESO_avg, inplace = True)"
   ]
  },
  {
   "cell_type": "markdown",
   "id": "838ee131",
   "metadata": {},
   "source": [
    "#### Counting number of zero values in dataset"
   ]
  },
  {
   "cell_type": "code",
   "execution_count": 17,
   "id": "82d6882f",
   "metadata": {},
   "outputs": [
    {
     "name": "stdout",
     "output_type": "stream",
     "text": [
      "Ticker Symbol : 0\n",
      "Accounts Payable : 46\n",
      "Accounts Receivable : 193\n",
      "Add'l income/expense items : 305\n",
      "After Tax ROE : 7\n",
      "Capital Expenditures : 67\n",
      "Capital Surplus : 257\n",
      "Cash Ratio : 13\n",
      "Cash and Cash Equivalents : 0\n",
      "Changes in Inventories : 640\n",
      "Common Stocks : 101\n",
      "Cost of Revenue : 107\n",
      "Current Ratio : 0\n",
      "Deferred Asset Charges : 1032\n",
      "Deferred Liability Charges : 577\n",
      "Depreciation : 13\n",
      "Earnings Before Interest and Tax : 0\n",
      "Earnings Before Tax : 0\n",
      "Effect of Exchange Rate : 589\n",
      "Equity Earnings/Loss Unconsolidated Subsidiary : 1239\n",
      "Fixed Assets : 51\n",
      "Goodwill : 371\n",
      "Gross Margin : 71\n",
      "Gross Profit : 71\n",
      "Income Tax : 29\n",
      "Intangible Assets : 524\n",
      "Interest Expense : 269\n",
      "Inventory : 550\n",
      "Investments : 363\n",
      "Liabilities : 45\n",
      "Long-Term Debt : 156\n",
      "Long-Term Investments : 746\n",
      "Minority Interest : 839\n",
      "Misc. Stocks : 1510\n",
      "Net Borrowings : 109\n",
      "Net Cash Flow : 2\n",
      "Net Cash Flow-Operating : 0\n",
      "Net Cash Flows-Financing : 1\n",
      "Net Cash Flows-Investing : 0\n",
      "Net Income : 0\n",
      "Net Income Adjustments : 8\n",
      "Net Income Applicable to Common Shareholders : 0\n",
      "Net Income-Cont. Operations : 0\n",
      "Net Receivables : 99\n",
      "Non-Recurring Items : 1002\n",
      "Operating Income : 71\n",
      "Operating Margin : 80\n",
      "Other Assets : 125\n",
      "Other Current Assets : 330\n",
      "Other Current Liabilities : 686\n",
      "Other Equity : 59\n",
      "Other Financing Activities : 543\n",
      "Other Investing Activities : 79\n",
      "Other Liabilities : 137\n",
      "Other Operating Activities : 69\n",
      "Other Operating Items : 747\n",
      "Pre-Tax Margin : 12\n",
      "Pre-Tax ROE : 12\n",
      "Profit Margin : 14\n",
      "Quick Ratio : 0\n",
      "Research and Development : 1317\n",
      "Retained Earnings : 39\n",
      "Sale and Purchase of Stock : 79\n",
      "Sales, General and Admin. : 71\n",
      "Short-Term Debt / Current Portion of Long-Term Debt : 360\n",
      "Short-Term Investments : 1111\n",
      "Total Assets : 0\n",
      "Total Current Assets : 299\n",
      "Total Current Liabilities : 299\n",
      "Total Equity : 0\n",
      "Total Liabilities : 0\n",
      "Total Liabilities & Equity : 0\n",
      "Total Revenue : 0\n",
      "Treasury Stock : 699\n",
      "For Year : 0\n",
      "Earnings Per Share : 0\n",
      "Estimated Shares Outstanding : 0\n"
     ]
    }
   ],
   "source": [
    "for column_name in df.columns:\n",
    "    column = df[column_name]\n",
    "    count = (column == 0).sum()\n",
    "    print(column_name, \":\" ,count)"
   ]
  },
  {
   "cell_type": "code",
   "execution_count": 18,
   "id": "997f3201",
   "metadata": {},
   "outputs": [
    {
     "data": {
      "text/plain": [
       "array(['AAL', 'AAP', 'AAPL', 'ABBV', 'ABC', 'ABT', 'ADBE', 'ADI', 'ADM',\n",
       "       'ADS', 'ADSK', 'AEE', 'AEP', 'AFL', 'AIG', 'AIV', 'AIZ', 'AJG',\n",
       "       'AKAM', 'ALB', 'ALK', 'ALL', 'ALLE', 'ALXN', 'AMAT', 'AME', 'AMG',\n",
       "       'AMGN', 'AMP', 'AMT', 'AMZN', 'AN', 'ANTM', 'AON', 'APA', 'APC',\n",
       "       'APD', 'APH', 'ARNC', 'ATVI', 'AVB', 'AVGO', 'AVY', 'AWK', 'AXP',\n",
       "       'AYI', 'AZO', 'BA', 'BAC', 'BAX', 'BBBY', 'BBT', 'BBY', 'BCR',\n",
       "       'BDX', 'BHI', 'BIIB', 'BK', 'BLL', 'BMY', 'BSX', 'BWA', 'BXP', 'C',\n",
       "       'CAG', 'CAH', 'CAT', 'CB', 'CBG', 'CCI', 'CCL', 'CELG', 'CERN',\n",
       "       'CF', 'CFG', 'CHD', 'CHK', 'CHRW', 'CHTR', 'CI', 'CINF', 'CL',\n",
       "       'CLX', 'CMA', 'CME', 'CMG', 'CMI', 'CMS', 'CNC', 'CNP', 'COF',\n",
       "       'COG', 'COL', 'COO', 'COST', 'COTY', 'CPB', 'CRM', 'CSCO', 'CSRA',\n",
       "       'CSX', 'CTAS', 'CTL', 'CTSH', 'CTXS', 'CVS', 'CVX', 'CXO', 'D',\n",
       "       'DAL', 'DD', 'DE', 'DFS', 'DG', 'DGX', 'DHI', 'DHR', 'DIS',\n",
       "       'DISCA', 'DISCK', 'DLPH', 'DLR', 'DLTR', 'DNB', 'DOV', 'DPS',\n",
       "       'DRI', 'DUK', 'DVA', 'DVN', 'EA', 'EBAY', 'ECL', 'ED', 'EFX',\n",
       "       'EIX', 'EL', 'EMN', 'EMR', 'EOG', 'EQIX', 'EQR', 'EQT', 'ES',\n",
       "       'ESS', 'ETFC', 'ETN', 'ETR', 'EW', 'EXC', 'EXPD', 'EXPE', 'EXR',\n",
       "       'F', 'FAST', 'FB', 'FBHS', 'FCX', 'FDX', 'FE', 'FFIV', 'FIS',\n",
       "       'FISV', 'FL', 'FLIR', 'FLR', 'FLS', 'FMC', 'FRT', 'FSLR', 'FTR',\n",
       "       'GD', 'GGP', 'GILD', 'GIS', 'GLW', 'GM', 'GPC', 'GPN', 'GPS',\n",
       "       'GRMN', 'GT', 'GWW', 'HAL', 'HAR', 'HAS', 'HBAN', 'HBI', 'HCA',\n",
       "       'HCN', 'HCP', 'HD', 'HES', 'HIG', 'HOG', 'HOLX', 'HON', 'HP',\n",
       "       'HPE', 'HPQ', 'HRB', 'HRL', 'HRS', 'HSIC', 'HST', 'HSY', 'HUM',\n",
       "       'IBM', 'IDXX', 'IFF', 'ILMN', 'INTC', 'INTU', 'IP', 'IPG', 'IRM',\n",
       "       'ISRG', 'ITW', 'IVZ', 'JBHT', 'JEC', 'JNPR', 'JPM', 'JWN', 'K',\n",
       "       'KEY', 'KIM', 'KLAC', 'KMB', 'KMI', 'KMX', 'KO', 'KORS', 'KR',\n",
       "       'KSS', 'KSU', 'LB', 'LEG', 'LEN', 'LH', 'LKQ', 'LLL', 'LLTC',\n",
       "       'LLY', 'LMT', 'LNT', 'LOW', 'LRCX', 'LUK', 'LUV', 'LVLT', 'LYB',\n",
       "       'M', 'MA', 'MAA', 'MAC', 'MAR', 'MAS', 'MAT', 'MCD', 'MCHP', 'MCK',\n",
       "       'MCO', 'MDLZ', 'MET', 'MHK', 'MJN', 'MKC', 'MLM', 'MMC', 'MMM',\n",
       "       'MNST', 'MO', 'MON', 'MOS', 'MPC', 'MRK', 'MRO', 'MSFT', 'MTB',\n",
       "       'MTD', 'MU', 'MUR', 'MYL', 'NAVI', 'NBL', 'NDAQ', 'NEE', 'NEM',\n",
       "       'NFLX', 'NFX', 'NKE', 'NLSN', 'NOV', 'NSC', 'NTAP', 'NTRS', 'NUE',\n",
       "       'NVDA', 'NWL', 'NWS', 'NWSA', 'O', 'OKE', 'OMC', 'ORLY', 'OXY',\n",
       "       'PAYX', 'PBCT', 'PBI', 'PCAR', 'PCG', 'PCLN', 'PDCO', 'PEG', 'PEP',\n",
       "       'PFE', 'PFG', 'PG', 'PGR', 'PH', 'PHM', 'PKI', 'PM', 'PNC', 'PNR',\n",
       "       'PNW', 'PPG', 'PPL', 'PRU', 'PSX', 'PVH', 'PWR', 'PX', 'PYPL',\n",
       "       'QCOM', 'QRVO', 'R', 'RCL', 'REGN', 'RHI', 'RHT', 'RL', 'ROK',\n",
       "       'ROP', 'ROST', 'RRC', 'RSG', 'SBUX', 'SCG', 'SCHW', 'SE', 'SEE',\n",
       "       'SHW', 'SIG', 'SJM', 'SLG', 'SNA', 'SNI', 'SO', 'SPG', 'SPGI',\n",
       "       'SPLS', 'SRCL', 'SRE', 'STI', 'STT', 'STX', 'STZ', 'SWK', 'SWKS',\n",
       "       'SWN', 'SYF', 'SYK', 'SYMC', 'SYY', 'T', 'TAP', 'TDC', 'TDG',\n",
       "       'TEL', 'TGNA', 'TGT', 'TIF', 'TJX', 'TMK', 'TMO', 'TRIP', 'TRV',\n",
       "       'TSCO', 'TSN', 'TSO', 'TSS', 'TXN', 'TXT', 'UA', 'UAA', 'UAL',\n",
       "       'UDR', 'UHS', 'ULTA', 'UNH', 'UNM', 'UNP', 'UPS', 'URBN', 'USB',\n",
       "       'UTX', 'V', 'VAR', 'VFC', 'VIAB', 'VLO', 'VMC', 'VNO', 'VRSK',\n",
       "       'VRSN', 'VRTX', 'VTR', 'VZ', 'WAT', 'WDC', 'WEC', 'WFC', 'WFM',\n",
       "       'WHR', 'WLTW', 'WM', 'WMB', 'WMT', 'WRK', 'WU', 'WY', 'WYN',\n",
       "       'WYNN', 'XEC', 'XEL', 'XL', 'XLNX', 'XOM', 'XRAY', 'XRX', 'XYL',\n",
       "       'YHOO', 'YUM', 'ZBH', 'ZION', 'ZTS'], dtype=object)"
      ]
     },
     "execution_count": 18,
     "metadata": {},
     "output_type": "execute_result"
    }
   ],
   "source": [
    "df[\"Ticker Symbol\"].unique()"
   ]
  },
  {
   "cell_type": "markdown",
   "id": "80b2cd61",
   "metadata": {},
   "source": [
    "### VISUALISATION"
   ]
  },
  {
   "cell_type": "code",
   "execution_count": 19,
   "id": "b03e6e22",
   "metadata": {},
   "outputs": [
    {
     "data": {
      "text/plain": [
       "<AxesSubplot:xlabel='Sale and Purchase of Stock', ylabel='Total Revenue'>"
      ]
     },
     "execution_count": 19,
     "metadata": {},
     "output_type": "execute_result"
    },
    {
     "data": {
      "image/png": "[encoded data removed]",
      "text/plain": [
       "<Figure size 432x288 with 1 Axes>"
      ]
     },
     "metadata": {
      "needs_background": "light"
     },
     "output_type": "display_data"
    }
   ],
   "source": [
    "plt.scatter(x='Sale and Purchase of Stock',y='Total Revenue',color=\"red\",data=df)\n",
    "sns.lineplot(x='Sale and Purchase of Stock',y='Total Revenue',data=df)\n"
   ]
  },
  {
   "cell_type": "code",
   "execution_count": 20,
   "id": "03bdf38c",
   "metadata": {},
   "outputs": [
    {
     "data": {
      "text/plain": [
       "<AxesSubplot:xlabel='Sales, General and Admin.', ylabel='Total Revenue'>"
      ]
     },
     "execution_count": 20,
     "metadata": {},
     "output_type": "execute_result"
    },
    {
     "data": {
      "image/png": "[encoded data removed]",
      "text/plain": [
       "<Figure size 432x288 with 1 Axes>"
      ]
     },
     "metadata": {
      "needs_background": "light"
     },
     "output_type": "display_data"
    }
   ],
   "source": [
    "plt.scatter(x='Sales, General and Admin.',y='Total Revenue',color=\"red\",data=df)\n",
    "sns.lineplot(x='Sales, General and Admin.',y='Total Revenue',data=df)"
   ]
  },
  {
   "cell_type": "code",
   "execution_count": 21,
   "id": "1b6a1e9e",
   "metadata": {},
   "outputs": [
    {
     "data": {
      "text/plain": [
       "<AxesSubplot:xlabel=\"Add'l income/expense items\", ylabel='Total Revenue'>"
      ]
     },
     "execution_count": 21,
     "metadata": {},
     "output_type": "execute_result"
    },
    {
     "data": {
      "image/png": "[encoded data removed]",
      "text/plain": [
       "<Figure size 432x288 with 1 Axes>"
      ]
     },
     "metadata": {
      "needs_background": "light"
     },
     "output_type": "display_data"
    }
   ],
   "source": [
    "plt.scatter(x=\"Add'l income/expense items\",y='Total Revenue',color=\"red\",data=df)\n",
    "sns.lineplot(x=\"Add'l income/expense items\",y='Total Revenue',data=df)"
   ]
  },
  {
   "cell_type": "code",
   "execution_count": 22,
   "id": "11fe3da7",
   "metadata": {},
   "outputs": [
    {
     "data": {
      "text/plain": [
       "<AxesSubplot:xlabel='Sale and Purchase of Stock', ylabel='Estimated Shares Outstanding'>"
      ]
     },
     "execution_count": 22,
     "metadata": {},
     "output_type": "execute_result"
    },
    {
     "data": {
      "image/png": "[encoded data removed]",
      "text/plain": [
       "<Figure size 432x288 with 1 Axes>"
      ]
     },
     "metadata": {
      "needs_background": "light"
     },
     "output_type": "display_data"
    }
   ],
   "source": [
    "plt.scatter(x='Sale and Purchase of Stock',y='Estimated Shares Outstanding',color=\"red\",data=df)\n",
    "sns.lineplot(x='Sale and Purchase of Stock',y='Estimated Shares Outstanding',data=df)"
   ]
  },
  {
   "cell_type": "code",
   "execution_count": 23,
   "id": "4e3ad46d",
   "metadata": {},
   "outputs": [
    {
     "data": {
      "text/plain": [
       "<AxesSubplot:xlabel='Sales, General and Admin.', ylabel='Estimated Shares Outstanding'>"
      ]
     },
     "execution_count": 23,
     "metadata": {},
     "output_type": "execute_result"
    },
    {
     "data": {
      "image/png": "[encoded data removed]",
      "text/plain": [
       "<Figure size 432x288 with 1 Axes>"
      ]
     },
     "metadata": {
      "needs_background": "light"
     },
     "output_type": "display_data"
    }
   ],
   "source": [
    "plt.scatter(x='Sales, General and Admin.',y='Estimated Shares Outstanding',color=\"red\",data=df)\n",
    "sns.lineplot(x='Sales, General and Admin.',y='Estimated Shares Outstanding',data=df)"
   ]
  },
  {
   "cell_type": "code",
   "execution_count": 24,
   "id": "b76853f7",
   "metadata": {},
   "outputs": [
    {
     "data": {
      "text/plain": [
       "<AxesSubplot:xlabel=\"Add'l income/expense items\", ylabel='Estimated Shares Outstanding'>"
      ]
     },
     "execution_count": 24,
     "metadata": {},
     "output_type": "execute_result"
    },
    {
     "data": {
      "image/png": "[encoded data removed]",
      "text/plain": [
       "<Figure size 432x288 with 1 Axes>"
      ]
     },
     "metadata": {
      "needs_background": "light"
     },
     "output_type": "display_data"
    }
   ],
   "source": [
    "plt.scatter(x=\"Add'l income/expense items\",y='Estimated Shares Outstanding',color=\"red\",data=df)\n",
    "sns.lineplot(x=\"Add'l income/expense items\",y='Estimated Shares Outstanding',data=df)"
   ]
  },
  {
   "cell_type": "code",
   "execution_count": 25,
   "id": "c86f5514",
   "metadata": {},
   "outputs": [
    {
     "data": {
      "text/html": [
       "<div>\n",
       "<style scoped>\n",
       "    .dataframe tbody tr th:only-of-type {\n",
       "        vertical-align: middle;\n",
       "    }\n",
       "\n",
       "    .dataframe tbody tr th {\n",
       "        vertical-align: top;\n",
       "    }\n",
       "\n",
       "    .dataframe thead th {\n",
       "        text-align: right;\n",
       "    }\n",
       "</style>\n",
       "<table border=\"1\" class=\"dataframe\">\n",
       "  <thead>\n",
       "    <tr style=\"text-align: right;\">\n",
       "      <th></th>\n",
       "      <th>Accounts Payable</th>\n",
       "      <th>Accounts Receivable</th>\n",
       "      <th>Add'l income/expense items</th>\n",
       "      <th>After Tax ROE</th>\n",
       "      <th>Capital Expenditures</th>\n",
       "      <th>Capital Surplus</th>\n",
       "      <th>Cash Ratio</th>\n",
       "      <th>Cash and Cash Equivalents</th>\n",
       "      <th>Changes in Inventories</th>\n",
       "      <th>Common Stocks</th>\n",
       "      <th>...</th>\n",
       "      <th>Total Current Assets</th>\n",
       "      <th>Total Current Liabilities</th>\n",
       "      <th>Total Equity</th>\n",
       "      <th>Total Liabilities</th>\n",
       "      <th>Total Liabilities &amp; Equity</th>\n",
       "      <th>Total Revenue</th>\n",
       "      <th>Treasury Stock</th>\n",
       "      <th>For Year</th>\n",
       "      <th>Earnings Per Share</th>\n",
       "      <th>Estimated Shares Outstanding</th>\n",
       "    </tr>\n",
       "  </thead>\n",
       "  <tbody>\n",
       "    <tr>\n",
       "      <th>Accounts Payable</th>\n",
       "      <td>1.000000</td>\n",
       "      <td>0.081888</td>\n",
       "      <td>0.147349</td>\n",
       "      <td>-0.017929</td>\n",
       "      <td>-0.270014</td>\n",
       "      <td>0.449122</td>\n",
       "      <td>-0.059948</td>\n",
       "      <td>0.802662</td>\n",
       "      <td>-0.128715</td>\n",
       "      <td>0.466341</td>\n",
       "      <td>...</td>\n",
       "      <td>0.319780</td>\n",
       "      <td>0.396188</td>\n",
       "      <td>0.790729</td>\n",
       "      <td>0.817137</td>\n",
       "      <td>0.830755</td>\n",
       "      <td>0.542153</td>\n",
       "      <td>-0.233924</td>\n",
       "      <td>-0.005210</td>\n",
       "      <td>0.065572</td>\n",
       "      <td>0.579223</td>\n",
       "    </tr>\n",
       "    <tr>\n",
       "      <th>Accounts Receivable</th>\n",
       "      <td>0.081888</td>\n",
       "      <td>1.000000</td>\n",
       "      <td>-0.038108</td>\n",
       "      <td>0.007046</td>\n",
       "      <td>0.044149</td>\n",
       "      <td>0.124598</td>\n",
       "      <td>-0.018360</td>\n",
       "      <td>0.123222</td>\n",
       "      <td>0.116394</td>\n",
       "      <td>-0.029331</td>\n",
       "      <td>...</td>\n",
       "      <td>-0.164333</td>\n",
       "      <td>-0.146215</td>\n",
       "      <td>0.134171</td>\n",
       "      <td>0.153344</td>\n",
       "      <td>0.154151</td>\n",
       "      <td>-0.069595</td>\n",
       "      <td>-0.089944</td>\n",
       "      <td>0.014502</td>\n",
       "      <td>-0.044104</td>\n",
       "      <td>-0.035918</td>\n",
       "    </tr>\n",
       "    <tr>\n",
       "      <th>Add'l income/expense items</th>\n",
       "      <td>0.147349</td>\n",
       "      <td>-0.038108</td>\n",
       "      <td>1.000000</td>\n",
       "      <td>-0.009108</td>\n",
       "      <td>-0.380987</td>\n",
       "      <td>0.015707</td>\n",
       "      <td>0.017896</td>\n",
       "      <td>0.030089</td>\n",
       "      <td>-0.077841</td>\n",
       "      <td>0.061892</td>\n",
       "      <td>...</td>\n",
       "      <td>0.225894</td>\n",
       "      <td>0.260731</td>\n",
       "      <td>0.241839</td>\n",
       "      <td>0.037087</td>\n",
       "      <td>0.063763</td>\n",
       "      <td>0.283222</td>\n",
       "      <td>-0.329723</td>\n",
       "      <td>0.003641</td>\n",
       "      <td>0.092169</td>\n",
       "      <td>0.143569</td>\n",
       "    </tr>\n",
       "    <tr>\n",
       "      <th>After Tax ROE</th>\n",
       "      <td>-0.017929</td>\n",
       "      <td>0.007046</td>\n",
       "      <td>-0.009108</td>\n",
       "      <td>1.000000</td>\n",
       "      <td>0.020522</td>\n",
       "      <td>-0.033664</td>\n",
       "      <td>0.015090</td>\n",
       "      <td>-0.019266</td>\n",
       "      <td>0.025754</td>\n",
       "      <td>-0.015461</td>\n",
       "      <td>...</td>\n",
       "      <td>-0.012883</td>\n",
       "      <td>-0.010520</td>\n",
       "      <td>-0.055656</td>\n",
       "      <td>-0.025989</td>\n",
       "      <td>-0.030297</td>\n",
       "      <td>-0.022997</td>\n",
       "      <td>0.001135</td>\n",
       "      <td>0.002264</td>\n",
       "      <td>-0.038091</td>\n",
       "      <td>-0.025126</td>\n",
       "    </tr>\n",
       "    <tr>\n",
       "      <th>Capital Expenditures</th>\n",
       "      <td>-0.270014</td>\n",
       "      <td>0.044149</td>\n",
       "      <td>-0.380987</td>\n",
       "      <td>0.020522</td>\n",
       "      <td>1.000000</td>\n",
       "      <td>-0.216391</td>\n",
       "      <td>0.104984</td>\n",
       "      <td>0.005775</td>\n",
       "      <td>0.116332</td>\n",
       "      <td>-0.114543</td>\n",
       "      <td>...</td>\n",
       "      <td>-0.481808</td>\n",
       "      <td>-0.601546</td>\n",
       "      <td>-0.477256</td>\n",
       "      <td>-0.068129</td>\n",
       "      <td>-0.121560</td>\n",
       "      <td>-0.630035</td>\n",
       "      <td>0.477219</td>\n",
       "      <td>-0.007883</td>\n",
       "      <td>-0.017888</td>\n",
       "      <td>-0.371190</td>\n",
       "    </tr>\n",
       "    <tr>\n",
       "      <th>...</th>\n",
       "      <td>...</td>\n",
       "      <td>...</td>\n",
       "      <td>...</td>\n",
       "      <td>...</td>\n",
       "      <td>...</td>\n",
       "      <td>...</td>\n",
       "      <td>...</td>\n",
       "      <td>...</td>\n",
       "      <td>...</td>\n",
       "      <td>...</td>\n",
       "      <td>...</td>\n",
       "      <td>...</td>\n",
       "      <td>...</td>\n",
       "      <td>...</td>\n",
       "      <td>...</td>\n",
       "      <td>...</td>\n",
       "      <td>...</td>\n",
       "      <td>...</td>\n",
       "      <td>...</td>\n",
       "      <td>...</td>\n",
       "      <td>...</td>\n",
       "    </tr>\n",
       "    <tr>\n",
       "      <th>Total Revenue</th>\n",
       "      <td>0.542153</td>\n",
       "      <td>-0.069595</td>\n",
       "      <td>0.283222</td>\n",
       "      <td>-0.022997</td>\n",
       "      <td>-0.630035</td>\n",
       "      <td>0.243625</td>\n",
       "      <td>-0.113932</td>\n",
       "      <td>0.173220</td>\n",
       "      <td>-0.273393</td>\n",
       "      <td>0.210819</td>\n",
       "      <td>...</td>\n",
       "      <td>0.631283</td>\n",
       "      <td>0.768625</td>\n",
       "      <td>0.555411</td>\n",
       "      <td>0.264011</td>\n",
       "      <td>0.306571</td>\n",
       "      <td>1.000000</td>\n",
       "      <td>-0.467167</td>\n",
       "      <td>0.008929</td>\n",
       "      <td>0.131975</td>\n",
       "      <td>0.459212</td>\n",
       "    </tr>\n",
       "    <tr>\n",
       "      <th>Treasury Stock</th>\n",
       "      <td>-0.233924</td>\n",
       "      <td>-0.089944</td>\n",
       "      <td>-0.329723</td>\n",
       "      <td>0.001135</td>\n",
       "      <td>0.477219</td>\n",
       "      <td>-0.162355</td>\n",
       "      <td>0.062152</td>\n",
       "      <td>-0.041174</td>\n",
       "      <td>0.143621</td>\n",
       "      <td>-0.189223</td>\n",
       "      <td>...</td>\n",
       "      <td>-0.331185</td>\n",
       "      <td>-0.438639</td>\n",
       "      <td>-0.353789</td>\n",
       "      <td>-0.099276</td>\n",
       "      <td>-0.133763</td>\n",
       "      <td>-0.467167</td>\n",
       "      <td>1.000000</td>\n",
       "      <td>-0.007345</td>\n",
       "      <td>-0.118430</td>\n",
       "      <td>-0.297403</td>\n",
       "    </tr>\n",
       "    <tr>\n",
       "      <th>For Year</th>\n",
       "      <td>-0.005210</td>\n",
       "      <td>0.014502</td>\n",
       "      <td>0.003641</td>\n",
       "      <td>0.002264</td>\n",
       "      <td>-0.007883</td>\n",
       "      <td>0.006402</td>\n",
       "      <td>0.017058</td>\n",
       "      <td>0.001500</td>\n",
       "      <td>-0.005685</td>\n",
       "      <td>0.004293</td>\n",
       "      <td>...</td>\n",
       "      <td>0.001755</td>\n",
       "      <td>-0.003917</td>\n",
       "      <td>0.007815</td>\n",
       "      <td>0.002273</td>\n",
       "      <td>0.003030</td>\n",
       "      <td>0.008929</td>\n",
       "      <td>-0.007345</td>\n",
       "      <td>1.000000</td>\n",
       "      <td>0.012000</td>\n",
       "      <td>0.004065</td>\n",
       "    </tr>\n",
       "    <tr>\n",
       "      <th>Earnings Per Share</th>\n",
       "      <td>0.065572</td>\n",
       "      <td>-0.044104</td>\n",
       "      <td>0.092169</td>\n",
       "      <td>-0.038091</td>\n",
       "      <td>-0.017888</td>\n",
       "      <td>-0.038183</td>\n",
       "      <td>0.022940</td>\n",
       "      <td>0.012250</td>\n",
       "      <td>-0.066183</td>\n",
       "      <td>0.036984</td>\n",
       "      <td>...</td>\n",
       "      <td>0.087122</td>\n",
       "      <td>0.093968</td>\n",
       "      <td>0.072344</td>\n",
       "      <td>0.017898</td>\n",
       "      <td>0.025189</td>\n",
       "      <td>0.131975</td>\n",
       "      <td>-0.118430</td>\n",
       "      <td>0.012000</td>\n",
       "      <td>1.000000</td>\n",
       "      <td>-0.050840</td>\n",
       "    </tr>\n",
       "    <tr>\n",
       "      <th>Estimated Shares Outstanding</th>\n",
       "      <td>0.579223</td>\n",
       "      <td>-0.035918</td>\n",
       "      <td>0.143569</td>\n",
       "      <td>-0.025126</td>\n",
       "      <td>-0.371190</td>\n",
       "      <td>0.421120</td>\n",
       "      <td>0.063944</td>\n",
       "      <td>0.484769</td>\n",
       "      <td>-0.071349</td>\n",
       "      <td>0.610324</td>\n",
       "      <td>...</td>\n",
       "      <td>0.531183</td>\n",
       "      <td>0.462672</td>\n",
       "      <td>0.707904</td>\n",
       "      <td>0.509471</td>\n",
       "      <td>0.545296</td>\n",
       "      <td>0.459212</td>\n",
       "      <td>-0.297403</td>\n",
       "      <td>0.004065</td>\n",
       "      <td>-0.050840</td>\n",
       "      <td>1.000000</td>\n",
       "    </tr>\n",
       "  </tbody>\n",
       "</table>\n",
       "<p>76 rows × 76 columns</p>\n",
       "</div>"
      ],
      "text/plain": [
       "                              Accounts Payable  Accounts Receivable  \\\n",
       "Accounts Payable                      1.000000             0.081888   \n",
       "Accounts Receivable                   0.081888             1.000000   \n",
       "Add'l income/expense items            0.147349            -0.038108   \n",
       "After Tax ROE                        -0.017929             0.007046   \n",
       "Capital Expenditures                 -0.270014             0.044149   \n",
       "...                                        ...                  ...   \n",
       "Total Revenue                         0.542153            -0.069595   \n",
       "Treasury Stock                       -0.233924            -0.089944   \n",
       "For Year                             -0.005210             0.014502   \n",
       "Earnings Per Share                    0.065572            -0.044104   \n",
       "Estimated Shares Outstanding          0.579223            -0.035918   \n",
       "\n",
       "                              Add'l income/expense items  After Tax ROE  \\\n",
       "Accounts Payable                                0.147349      -0.017929   \n",
       "Accounts Receivable                            -0.038108       0.007046   \n",
       "Add'l income/expense items                      1.000000      -0.009108   \n",
       "After Tax ROE                                  -0.009108       1.000000   \n",
       "Capital Expenditures                           -0.380987       0.020522   \n",
       "...                                                  ...            ...   \n",
       "Total Revenue                                   0.283222      -0.022997   \n",
       "Treasury Stock                                 -0.329723       0.001135   \n",
       "For Year                                        0.003641       0.002264   \n",
       "Earnings Per Share                              0.092169      -0.038091   \n",
       "Estimated Shares Outstanding                    0.143569      -0.025126   \n",
       "\n",
       "                              Capital Expenditures  Capital Surplus  \\\n",
       "Accounts Payable                         -0.270014         0.449122   \n",
       "Accounts Receivable                       0.044149         0.124598   \n",
       "Add'l income/expense items               -0.380987         0.015707   \n",
       "After Tax ROE                             0.020522        -0.033664   \n",
       "Capital Expenditures                      1.000000        -0.216391   \n",
       "...                                            ...              ...   \n",
       "Total Revenue                            -0.630035         0.243625   \n",
       "Treasury Stock                            0.477219        -0.162355   \n",
       "For Year                                 -0.007883         0.006402   \n",
       "Earnings Per Share                       -0.017888        -0.038183   \n",
       "Estimated Shares Outstanding             -0.371190         0.421120   \n",
       "\n",
       "                              Cash Ratio  Cash and Cash Equivalents  \\\n",
       "Accounts Payable               -0.059948                   0.802662   \n",
       "Accounts Receivable            -0.018360                   0.123222   \n",
       "Add'l income/expense items      0.017896                   0.030089   \n",
       "After Tax ROE                   0.015090                  -0.019266   \n",
       "Capital Expenditures            0.104984                   0.005775   \n",
       "...                                  ...                        ...   \n",
       "Total Revenue                  -0.113932                   0.173220   \n",
       "Treasury Stock                  0.062152                  -0.041174   \n",
       "For Year                        0.017058                   0.001500   \n",
       "Earnings Per Share              0.022940                   0.012250   \n",
       "Estimated Shares Outstanding    0.063944                   0.484769   \n",
       "\n",
       "                              Changes in Inventories  Common Stocks  ...  \\\n",
       "Accounts Payable                           -0.128715       0.466341  ...   \n",
       "Accounts Receivable                         0.116394      -0.029331  ...   \n",
       "Add'l income/expense items                 -0.077841       0.061892  ...   \n",
       "After Tax ROE                               0.025754      -0.015461  ...   \n",
       "Capital Expenditures                        0.116332      -0.114543  ...   \n",
       "...                                              ...            ...  ...   \n",
       "Total Revenue                              -0.273393       0.210819  ...   \n",
       "Treasury Stock                              0.143621      -0.189223  ...   \n",
       "For Year                                   -0.005685       0.004293  ...   \n",
       "Earnings Per Share                         -0.066183       0.036984  ...   \n",
       "Estimated Shares Outstanding               -0.071349       0.610324  ...   \n",
       "\n",
       "                              Total Current Assets  Total Current Liabilities  \\\n",
       "Accounts Payable                          0.319780                   0.396188   \n",
       "Accounts Receivable                      -0.164333                  -0.146215   \n",
       "Add'l income/expense items                0.225894                   0.260731   \n",
       "After Tax ROE                            -0.012883                  -0.010520   \n",
       "Capital Expenditures                     -0.481808                  -0.601546   \n",
       "...                                            ...                        ...   \n",
       "Total Revenue                             0.631283                   0.768625   \n",
       "Treasury Stock                           -0.331185                  -0.438639   \n",
       "For Year                                  0.001755                  -0.003917   \n",
       "Earnings Per Share                        0.087122                   0.093968   \n",
       "Estimated Shares Outstanding              0.531183                   0.462672   \n",
       "\n",
       "                              Total Equity  Total Liabilities  \\\n",
       "Accounts Payable                  0.790729           0.817137   \n",
       "Accounts Receivable               0.134171           0.153344   \n",
       "Add'l income/expense items        0.241839           0.037087   \n",
       "After Tax ROE                    -0.055656          -0.025989   \n",
       "Capital Expenditures             -0.477256          -0.068129   \n",
       "...                                    ...                ...   \n",
       "Total Revenue                     0.555411           0.264011   \n",
       "Treasury Stock                   -0.353789          -0.099276   \n",
       "For Year                          0.007815           0.002273   \n",
       "Earnings Per Share                0.072344           0.017898   \n",
       "Estimated Shares Outstanding      0.707904           0.509471   \n",
       "\n",
       "                              Total Liabilities & Equity  Total Revenue  \\\n",
       "Accounts Payable                                0.830755       0.542153   \n",
       "Accounts Receivable                             0.154151      -0.069595   \n",
       "Add'l income/expense items                      0.063763       0.283222   \n",
       "After Tax ROE                                  -0.030297      -0.022997   \n",
       "Capital Expenditures                           -0.121560      -0.630035   \n",
       "...                                                  ...            ...   \n",
       "Total Revenue                                   0.306571       1.000000   \n",
       "Treasury Stock                                 -0.133763      -0.467167   \n",
       "For Year                                        0.003030       0.008929   \n",
       "Earnings Per Share                              0.025189       0.131975   \n",
       "Estimated Shares Outstanding                    0.545296       0.459212   \n",
       "\n",
       "                              Treasury Stock  For Year  Earnings Per Share  \\\n",
       "Accounts Payable                   -0.233924 -0.005210            0.065572   \n",
       "Accounts Receivable                -0.089944  0.014502           -0.044104   \n",
       "Add'l income/expense items         -0.329723  0.003641            0.092169   \n",
       "After Tax ROE                       0.001135  0.002264           -0.038091   \n",
       "Capital Expenditures                0.477219 -0.007883           -0.017888   \n",
       "...                                      ...       ...                 ...   \n",
       "Total Revenue                      -0.467167  0.008929            0.131975   \n",
       "Treasury Stock                      1.000000 -0.007345           -0.118430   \n",
       "For Year                           -0.007345  1.000000            0.012000   \n",
       "Earnings Per Share                 -0.118430  0.012000            1.000000   \n",
       "Estimated Shares Outstanding       -0.297403  0.004065           -0.050840   \n",
       "\n",
       "                              Estimated Shares Outstanding  \n",
       "Accounts Payable                                  0.579223  \n",
       "Accounts Receivable                              -0.035918  \n",
       "Add'l income/expense items                        0.143569  \n",
       "After Tax ROE                                    -0.025126  \n",
       "Capital Expenditures                             -0.371190  \n",
       "...                                                    ...  \n",
       "Total Revenue                                     0.459212  \n",
       "Treasury Stock                                   -0.297403  \n",
       "For Year                                          0.004065  \n",
       "Earnings Per Share                               -0.050840  \n",
       "Estimated Shares Outstanding                      1.000000  \n",
       "\n",
       "[76 rows x 76 columns]"
      ]
     },
     "execution_count": 25,
     "metadata": {},
     "output_type": "execute_result"
    }
   ],
   "source": [
    "df.corr()"
   ]
  },
  {
   "cell_type": "markdown",
   "id": "353a9d87",
   "metadata": {},
   "source": [
    "### Modelling"
   ]
  },
  {
   "cell_type": "markdown",
   "id": "6e385f63",
   "metadata": {},
   "source": [
    "#### 1. Taking “Estimated Shares Outstanding” as the dependent variable, perform multiple linear regression on every other variable except - Period Ending, Total Revenue."
   ]
  },
  {
   "cell_type": "code",
   "execution_count": 26,
   "id": "e9a20868",
   "metadata": {},
   "outputs": [
    {
     "name": "stdout",
     "output_type": "stream",
     "text": [
      "[[ 3.06800000e+09 -2.22000000e+08 -1.96100000e+09 ...  2.01200000e+03\n",
      "  -5.60000000e+00  3.35000000e+08]\n",
      " [ 4.97500000e+09 -9.30000000e+07 -2.72300000e+09 ...  2.01300000e+03\n",
      "  -1.12500000e+01  1.63022222e+08]\n",
      " [ 4.66800000e+09 -1.60000000e+08 -1.50000000e+08 ...  2.01400000e+03\n",
      "   4.02000000e+00  7.16915423e+08]\n",
      " ...\n",
      " [ 1.07100000e+09  6.90000000e+07 -7.00000000e+06 ...  2.01400000e+03\n",
      "   1.16000000e+00  5.02586207e+08]\n",
      " [ 1.31300000e+09 -5.80000000e+07 -8.10000000e+07 ...  2.01500000e+03\n",
      "   6.80000000e-01  4.98529412e+08]\n",
      " [ 1.07600000e+09  1.50000000e+07  2.00000000e+06 ...  2.01330535e+03\n",
      "   3.35370679e+00  6.02424368e+08]]\n",
      "[ 3.0680e+09 -2.2200e+08 -1.9610e+09  2.3000e+01 -1.8880e+09  4.6950e+09\n",
      "  5.3000e+01  1.3300e+09  0.0000e+00  1.2700e+08  1.0499e+10  7.8000e+01\n",
      "  0.0000e+00  2.2300e+08  1.0010e+09 -1.8130e+09 -2.4450e+09  0.0000e+00\n",
      "  0.0000e+00  1.3402e+10  0.0000e+00  5.8000e+01  1.4356e+10 -5.6900e+08\n",
      "  8.6900e+08  6.3200e+08  5.8000e+08  3.0600e+08  4.7300e+08  7.1160e+09\n",
      "  0.0000e+00  0.0000e+00  0.0000e+00 -1.0200e+09  1.9700e+08  1.2850e+09\n",
      "  4.8300e+08 -1.5710e+09 -1.8760e+09  2.0500e+09 -1.8760e+09 -4.0840e+09\n",
      "  1.1240e+09  3.8600e+08  1.4800e+08  1.0000e+00  2.1670e+09  6.2600e+08\n",
      "  4.5240e+09 -2.9800e+09  1.5090e+09  1.1000e+07  1.5147e+10 -1.4100e+08\n",
      "  8.4500e+08  1.0000e+01  3.1000e+01  8.0000e+00  7.2000e+01  0.0000e+00\n",
      " -9.4620e+09  0.0000e+00  1.2977e+10  1.4190e+09  3.4120e+09  2.3510e+10\n",
      "  7.0720e+09  9.0110e+09 -7.9870e+09  2.4891e+10  1.6904e+10 -3.6700e+08\n",
      "  2.0120e+03 -5.6000e+00  3.3500e+08]\n"
     ]
    }
   ],
   "source": [
    "X=df\n",
    "X=X.drop([\"Total Revenue\"], axis = 1)\n",
    "X=X.drop([\"Ticker Symbol\"], axis = 1) # dropping Ticket symbol...converting using one hotencoding but the side of array is too large \n",
    "X=X.values\n",
    "print(X)\n",
    "print(X[0])"
   ]
  },
  {
   "cell_type": "code",
   "execution_count": 28,
   "id": "493e65fb",
   "metadata": {},
   "outputs": [
    {
     "data": {
      "text/plain": [
       "array([2.4855e+10, 2.6743e+10, 4.2650e+10, ..., 4.7850e+09, 4.7650e+09,\n",
       "       4.8880e+09])"
      ]
     },
     "execution_count": 28,
     "metadata": {},
     "output_type": "execute_result"
    }
   ],
   "source": [
    "Y=df[\"Total Revenue\"]\n",
    "Y.values"
   ]
  },
  {
   "cell_type": "code",
   "execution_count": 29,
   "id": "d371df9a",
   "metadata": {},
   "outputs": [],
   "source": [
    "from sklearn.model_selection import train_test_split\n",
    "X_train, X_test, Y_train, Y_test = train_test_split(X, Y, test_size = 0.3,random_state=3)"
   ]
  },
  {
   "cell_type": "code",
   "execution_count": 30,
   "id": "c857796a",
   "metadata": {},
   "outputs": [
    {
     "name": "stdout",
     "output_type": "stream",
     "text": [
      "(1246, 75)\n",
      "(535, 75)\n",
      "(1246,)\n",
      "(535,)\n"
     ]
    }
   ],
   "source": [
    "print(X_train.shape)\n",
    "print(X_test.shape)\n",
    "print(Y_train.shape)\n",
    "print(Y_test.shape)"
   ]
  },
  {
   "cell_type": "code",
   "execution_count": 31,
   "id": "2058a31b",
   "metadata": {},
   "outputs": [
    {
     "data": {
      "text/plain": [
       "LinearRegression()"
      ]
     },
     "execution_count": 31,
     "metadata": {},
     "output_type": "execute_result"
    }
   ],
   "source": [
    "from sklearn.linear_model import LinearRegression\n",
    "regressor = LinearRegression()\n",
    "regressor.fit(X_train, Y_train)"
   ]
  },
  {
   "cell_type": "code",
   "execution_count": 32,
   "id": "bd843d4f",
   "metadata": {},
   "outputs": [
    {
     "data": {
      "text/plain": [
       "array([ 1.49057427e+11,  4.73731856e+09,  7.19509608e+09,  2.78752395e+09,\n",
       "        8.81031898e+09,  1.44902447e+10,  9.95831433e+09,  1.21330739e+10,\n",
       "        4.76410991e+11,  5.76325091e+09,  1.88412991e+10,  1.03131799e+10,\n",
       "        6.83477887e+09,  1.02428313e+10,  5.57259787e+09,  4.44230246e+10,\n",
       "        9.89780461e+10,  3.58865084e+09,  6.15529514e+09,  4.50378600e+09,\n",
       "        9.88365635e+09,  5.52282245e+09,  1.70656147e+10,  6.11385949e+09,\n",
       "        1.24051862e+10,  2.38268892e+09,  3.74744018e+09,  6.27086895e+09,\n",
       "        2.09235876e+09,  1.37764102e+10,  1.16496113e+10,  2.38076767e+10,\n",
       "        1.05620137e+11,  5.56754490e+10,  2.51129252e+09,  3.55764962e+09,\n",
       "        5.41320996e+10,  1.76895785e+09,  1.79197177e+10,  9.61723290e+09,\n",
       "        1.11877666e+10,  7.70004578e+09,  8.21016579e+09,  1.67855401e+09,\n",
       "        2.39341210e+09,  4.12444917e+10,  8.55738852e+09,  1.52529486e+11,\n",
       "        4.01913022e+10,  1.01352722e+10,  1.71366797e+09,  6.11890022e+09,\n",
       "        1.61110657e+11,  3.95885537e+10,  5.89947191e+09,  4.46887424e+09,\n",
       "        2.53537717e+09,  1.34521354e+10,  2.34048486e+09,  1.64895563e+09,\n",
       "        6.35099919e+10,  5.09086852e+09,  2.40301991e+10,  5.69294053e+09,\n",
       "        4.04622036e+10,  6.70698171e+10,  7.12448522e+09,  1.51634162e+10,\n",
       "        7.35945719e+09,  6.06104767e+09,  2.21607502e+10,  3.02152490e+09,\n",
       "        1.64109769e+09,  2.10985474e+09,  2.11251494e+10,  4.39068353e+09,\n",
       "        1.91082776e+09,  1.79175126e+09,  4.57861623e+09,  2.03779858e+09,\n",
       "        5.20245275e+09,  2.36370105e+09,  1.09180999e+10,  2.18093734e+09,\n",
       "        6.34298214e+09,  9.70995817e+09,  6.81251184e+10,  6.08520774e+09,\n",
       "        1.79921846e+10,  3.58932284e+09,  2.87147083e+09,  6.53720408e+09,\n",
       "        4.77808967e+09,  2.47338925e+09,  1.49702321e+10,  3.58843609e+09,\n",
       "        4.21154473e+09,  3.94877763e+10,  3.06781235e+09,  1.59703095e+09,\n",
       "        3.31353944e+09,  1.31226763e+10,  5.79372042e+09,  2.06190107e+10,\n",
       "        1.37692227e+10,  2.71951957e+09,  1.79163424e+10,  8.82423494e+10,\n",
       "        2.38965976e+09,  1.40763835e+10,  1.70841381e+09,  3.46489123e+10,\n",
       "        1.25139273e+10,  3.80638068e+09,  1.88251766e+09,  1.03383758e+10,\n",
       "        7.61347415e+09,  6.14232503e+09,  8.98996308e+09,  1.20927447e+10,\n",
       "        1.14693889e+10,  5.26235166e+10,  5.79100647e+09,  3.48781151e+10,\n",
       "        2.31079858e+10,  1.68827925e+10,  3.56845427e+09,  2.13511842e+09,\n",
       "        1.66779116e+10,  5.85961122e+09,  2.74956178e+10,  1.66557586e+11,\n",
       "        2.21440127e+09,  6.58399738e+09,  9.80659263e+10,  4.74480947e+10,\n",
       "        4.13985904e+09,  2.47569860e+09,  1.30166333e+11,  2.84412954e+09,\n",
       "        8.85337976e+09,  4.84579957e+09,  6.37619644e+09,  4.87305383e+08,\n",
       "        1.02423050e+11,  2.98945481e+09,  2.61694231e+09,  9.97222399e+09,\n",
       "        4.26155489e+09,  8.08828282e+09,  4.78031887e+09,  1.14003092e+10,\n",
       "        3.28625373e+09,  3.33306966e+09,  1.18002619e+10,  2.73377984e+10,\n",
       "        4.38525629e+09,  1.81145790e+10,  7.64459859e+09,  8.78379230e+09,\n",
       "        5.50714911e+09,  5.57395756e+09,  1.48014527e+09,  3.91616878e+09,\n",
       "        4.62987558e+09,  1.48098617e+10,  8.54390475e+09,  7.92032889e+09,\n",
       "        8.15272150e+09,  8.49448149e+09,  5.13302629e+09,  1.41631676e+10,\n",
       "        2.62376877e+09,  2.90425738e+09,  9.79143220e+09,  5.64333748e+10,\n",
       "        6.34216555e+09,  7.81233841e+10,  3.51058791e+09,  5.02127253e+10,\n",
       "        8.87670983e+09,  1.89830491e+10,  1.80282333e+10,  6.71544253e+09,\n",
       "        1.06823844e+10,  1.52052019e+10,  1.23143861e+09,  2.00163453e+11,\n",
       "        1.12574270e+10,  6.54622618e+08,  1.13968657e+10,  7.42167796e+09,\n",
       "        4.08523884e+09,  1.84833055e+09,  3.58962545e+09,  1.89650971e+10,\n",
       "        5.83817423e+09,  4.73184076e+10,  1.14941530e+10,  5.95654377e+09,\n",
       "        1.05781299e+10,  1.00189757e+09,  2.84903122e+09,  3.31830752e+09,\n",
       "        2.73642145e+10,  1.80456334e+10,  1.43820841e+10,  2.79402163e+10,\n",
       "        3.85508075e+09,  5.68642533e+08,  2.92904177e+09,  3.48088848e+10,\n",
       "        3.12628943e+10,  8.22889783e+09,  5.07433047e+09,  4.43014213e+09,\n",
       "        2.00546440e+09,  5.98145307e+09, -4.05259826e+08,  2.32085985e+10,\n",
       "        2.74532669e+10,  2.40906404e+09,  6.41030258e+09,  2.26009133e+10,\n",
       "        1.83852659e+10,  3.84860078e+10,  2.40680287e+09,  7.91022439e+09,\n",
       "        1.52292402e+10,  1.01758049e+10,  1.07370313e+09,  1.02219120e+09,\n",
       "        1.72831038e+10,  5.09360394e+09,  1.28742539e+10,  7.48037925e+09,\n",
       "        2.27323619e+09,  2.34873682e+10,  1.73141816e+10,  1.62645824e+10,\n",
       "        4.86941800e+10,  1.51194900e+10,  1.81256601e+10,  3.38122142e+09,\n",
       "        6.18752801e+09,  5.54298607e+10,  1.32867790e+10,  4.82673038e+09,\n",
       "        5.62696590e+09,  1.17328627e+09,  1.17675401e+10,  9.44384994e+09,\n",
       "        5.01013957e+09,  7.51212630e+09,  4.22107196e+09,  1.38415263e+11,\n",
       "        6.49953845e+09,  2.07320196e+09,  4.44161402e+09,  6.72507020e+09,\n",
       "        3.49313229e+09,  4.80444141e+09,  2.13806211e+10,  8.03529295e+09,\n",
       "        2.82713782e+10,  4.58420743e+09,  1.01212482e+10,  1.33963743e+10,\n",
       "        3.11998452e+10,  7.50623325e+10,  6.48615916e+09,  1.30236312e+09,\n",
       "        7.82973475e+09,  1.72423100e+09,  1.16625491e+10,  6.00861556e+09,\n",
       "        3.60577339e+10,  1.22120548e+10,  2.33080468e+10,  3.25577021e+10,\n",
       "        6.33301578e+10,  1.02110391e+10,  4.34211245e+09,  3.03982248e+09,\n",
       "        4.71027087e+09,  3.73643552e+09,  2.44957274e+09,  4.05486686e+10,\n",
       "        2.74603959e+10,  3.71645989e+09,  7.32032363e+09,  3.19597796e+09,\n",
       "        3.68737483e+10,  2.94751220e+09,  1.67163758e+09,  3.28764999e+09,\n",
       "        1.86186000e+09,  2.35480064e+09,  1.76280827e+10,  4.75212866e+10,\n",
       "        8.01770186e+10,  7.13369091e+08,  2.63881131e+09,  3.98350325e+09,\n",
       "        1.10487708e+10,  2.43368990e+09,  2.30793445e+10,  4.19112839e+09,\n",
       "        2.70511520e+10,  3.30079276e+09,  2.38800534e+10,  1.06529541e+10,\n",
       "        8.65540180e+08,  5.57954290e+09,  1.46777947e+10,  1.10163404e+10,\n",
       "        2.35359870e+09,  1.60239165e+09,  7.16545469e+09,  5.72632634e+10,\n",
       "        9.69651582e+09,  1.20463756e+10,  1.45844649e+09,  6.05811086e+09,\n",
       "        8.83894811e+09,  6.01385747e+09,  1.90858915e+10,  2.99387945e+10,\n",
       "        1.43864706e+09,  3.03970945e+09,  5.39874730e+09,  1.20569824e+10,\n",
       "        5.02432923e+09,  1.73740809e+09,  6.88897951e+09,  2.28875914e+10,\n",
       "        1.74495349e+10,  1.06555175e+10,  1.93242954e+09,  3.31899338e+09,\n",
       "        4.08698812e+10,  2.77186354e+09,  9.69321767e+10,  4.54166056e+10,\n",
       "        3.30856968e+09,  9.87791277e+08,  1.53024686e+10,  2.34911257e+09,\n",
       "        8.88512401e+10,  6.75574937e+08,  1.92286356e+10,  1.20196666e+10,\n",
       "        1.15862450e+10,  4.81732240e+09,  4.03970048e+10,  5.29822610e+09,\n",
       "        2.24750556e+10,  2.94947803e+09,  3.10929494e+09,  6.65889821e+08,\n",
       "        1.53107045e+10,  7.86736994e+08,  1.24767134e+10,  7.91751241e+10,\n",
       "        7.20089577e+09,  8.66965048e+09,  2.50877800e+10,  7.23209507e+09,\n",
       "        1.02043614e+10,  1.62915967e+09,  1.12757576e+11,  4.30670381e+08,\n",
       "        1.41465158e+10,  2.68741592e+10,  1.45069324e+10,  6.74632072e+09,\n",
       "        2.35402897e+09,  2.29256196e+10,  2.33002181e+09,  6.34243448e+09,\n",
       "        1.18989199e+10,  1.48779171e+10,  3.83112569e+09,  1.30517663e+10,\n",
       "        4.63692818e+09,  6.49909705e+09,  7.20522059e+09,  6.35959588e+09,\n",
       "        7.97716636e+10,  7.83208752e+09,  1.62216251e+09,  4.66881501e+09,\n",
       "        2.09984281e+10,  3.74811644e+10,  6.37529492e+10,  7.72687282e+09,\n",
       "        1.17441919e+10,  5.65842882e+09,  3.75209938e+09,  2.84049844e+09,\n",
       "        4.23663515e+09,  1.18940420e+11,  1.11790446e+10,  5.18530296e+09,\n",
       "        2.29731694e+11,  2.90056134e+09,  1.09991230e+10,  5.81386855e+10,\n",
       "        8.11381939e+09,  5.19503951e+09,  4.70623610e+09,  1.89586824e+10,\n",
       "        6.47971686e+09,  1.38030400e+11,  2.74162479e+09,  3.35555941e+09,\n",
       "        4.51995201e+10,  1.49056637e+11,  8.68331020e+09,  9.44404313e+09,\n",
       "        9.83024609e+09,  4.59953281e+09,  5.79170941e+10,  5.27649135e+10,\n",
       "        2.71472468e+09,  1.26781711e+10,  9.91138822e+09,  6.39825846e+09,\n",
       "        7.62666331e+09,  9.67751059e+10,  3.45426012e+09,  3.85302951e+10,\n",
       "        7.23327747e+09,  6.04924892e+09,  2.89399828e+09,  3.95327259e+10,\n",
       "        1.26335368e+10,  5.17924860e+09,  1.86401126e+09,  7.42201941e+09,\n",
       "        1.62610454e+10,  1.54261926e+10,  2.78816437e+09,  4.13618488e+09,\n",
       "        4.01069027e+09,  5.17433484e+09,  7.14276931e+10,  1.00384272e+10,\n",
       "        1.75176817e+09,  6.13024262e+09,  1.21623364e+11,  6.84571035e+09,\n",
       "        1.04252051e+10,  5.62726078e+09,  3.60279091e+09,  3.74759541e+09,\n",
       "        3.71527592e+09,  5.34152811e+09,  2.05079498e+09,  5.27858936e+09,\n",
       "        2.38221333e+09,  1.02196248e+10,  7.23590958e+09,  9.73144036e+09,\n",
       "        3.82751211e+10,  2.72519864e+09,  1.37073439e+10,  4.81919674e+09,\n",
       "        1.58795263e+10,  4.90515246e+10,  8.82094024e+09,  1.90444174e+09,\n",
       "        1.96360528e+10,  4.99278247e+09,  1.59216093e+10,  6.44449846e+09,\n",
       "        2.60385899e+10,  9.32854590e+08,  2.48105179e+10,  3.14696276e+09,\n",
       "        4.68971134e+09,  1.14822745e+10,  1.25407040e+10,  1.04791799e+10,\n",
       "        5.11720862e+09,  6.16597729e+09,  3.58777270e+09,  3.54045775e+09,\n",
       "        9.12590375e+10,  1.90415504e+10,  6.07017320e+09,  8.57355531e+09,\n",
       "        1.16663080e+10,  6.17816906e+09,  8.76681584e+08,  1.49633184e+09,\n",
       "        2.23124957e+09,  6.49909705e+09,  3.44734791e+09,  1.10886475e+10,\n",
       "        5.85034830e+09,  3.26810342e+09,  2.74900556e+09,  1.08659378e+10,\n",
       "        9.36844916e+08,  1.90244865e+10,  3.98661732e+09,  2.31693721e+09,\n",
       "        4.70275952e+09,  7.83244314e+09,  2.01350848e+09,  4.78250555e+09,\n",
       "        8.62862591e+10,  3.07168162e+09,  1.49922207e+10,  4.21523714e+10,\n",
       "        9.75949745e+08,  8.65536563e+09,  8.58869644e+10,  1.50130080e+11,\n",
       "        3.54446242e+10,  2.02071522e+09,  2.75466418e+09,  1.36835740e+11,\n",
       "        1.81336299e+10,  1.45714237e+10,  1.44159149e+10,  5.00713252e+09,\n",
       "        3.68311634e+09,  1.28044935e+10,  8.31340271e+09,  4.87587261e+09,\n",
       "        1.62052661e+10,  1.70360771e+09,  8.40343159e+09])"
      ]
     },
     "execution_count": 32,
     "metadata": {},
     "output_type": "execute_result"
    }
   ],
   "source": [
    "regressor.predict(X_test)"
   ]
  },
  {
   "cell_type": "code",
   "execution_count": 33,
   "id": "ff5b95e4",
   "metadata": {},
   "outputs": [
    {
     "data": {
      "text/plain": [
       "array([-1.67583029e-01,  2.13718602e-01, -8.81309585e-01, -4.69111042e+05,\n",
       "        3.84939680e-02,  4.46003695e-02,  1.73531565e+06, -1.51130270e-02,\n",
       "        2.49282969e-01,  3.53093798e-02,  1.00473889e+00, -4.98324354e+05,\n",
       "        4.70512319e-02, -1.80228816e-01,  6.21825877e-02,  7.95395104e+00,\n",
       "       -7.04460846e+00, -1.69743521e-01, -1.01321679e+00,  5.36918959e-02,\n",
       "        6.81814746e-02,  1.06792403e+06,  5.86235443e-01,  4.49786515e-02,\n",
       "        5.04174803e-02, -7.66702036e+00,  9.93854799e-02, -1.82289433e-02,\n",
       "        1.66903696e-01, -1.78896599e-01,  1.19729915e-02, -1.67571231e-01,\n",
       "       -2.64871063e-01,  8.92179979e-02,  1.15694957e-02,  2.44637771e-02,\n",
       "       -5.56609163e-02,  4.89313403e-02, -1.53413466e-01,  1.58531499e-01,\n",
       "        3.09494922e-01,  3.98363750e-02,  1.10067664e-01,  3.63079793e-01,\n",
       "       -5.84241651e-01, -8.22383627e+06,  3.01624925e-02,  4.63768337e-02,\n",
       "       -1.23288954e-01,  4.96516622e-02,  7.30540355e-02, -5.94874949e-03,\n",
       "       -1.53373804e-01, -1.28031889e-02,  3.96107744e-01,  8.74916540e+06,\n",
       "        3.04479393e+05,  5.78294713e+05, -1.15017505e+06,  3.32312098e-01,\n",
       "        3.47588983e-02,  6.97045580e-02,  3.95557403e-01, -1.33235018e-01,\n",
       "        3.31588364e-02,  1.32216011e-01, -7.63097545e-03, -5.13009017e-02,\n",
       "       -9.36381858e-01, -7.19516827e-01,  7.18658002e-01,  4.74579748e-02,\n",
       "        5.37051572e+03, -7.49846618e+06, -4.27768325e-02])"
      ]
     },
     "execution_count": 33,
     "metadata": {},
     "output_type": "execute_result"
    }
   ],
   "source": [
    "regressor.coef_"
   ]
  },
  {
   "cell_type": "code",
   "execution_count": 34,
   "id": "7585cde4",
   "metadata": {},
   "outputs": [
    {
     "data": {
      "text/plain": [
       "199363549.14995956"
      ]
     },
     "execution_count": 34,
     "metadata": {},
     "output_type": "execute_result"
    }
   ],
   "source": [
    "regressor.intercept_"
   ]
  },
  {
   "cell_type": "code",
   "execution_count": 35,
   "id": "be266975",
   "metadata": {},
   "outputs": [
    {
     "data": {
      "text/plain": [
       "0.9998016448011009"
      ]
     },
     "execution_count": 35,
     "metadata": {},
     "output_type": "execute_result"
    }
   ],
   "source": [
    "regressor.score(X_train,Y_train)"
   ]
  },
  {
   "cell_type": "code",
   "execution_count": 36,
   "id": "9e059f98",
   "metadata": {},
   "outputs": [
    {
     "data": {
      "text/plain": [
       "0.9931356949152622"
      ]
     },
     "execution_count": 36,
     "metadata": {},
     "output_type": "execute_result"
    }
   ],
   "source": [
    "regressor.score(X_test,Y_test)"
   ]
  },
  {
   "cell_type": "code",
   "execution_count": 37,
   "id": "9713f4c0",
   "metadata": {},
   "outputs": [
    {
     "data": {
      "text/plain": [
       "0.9931467540648682"
      ]
     },
     "execution_count": 37,
     "metadata": {},
     "output_type": "execute_result"
    }
   ],
   "source": [
    "from sklearn.metrics import r2_score\n",
    "r2_score(regressor.predict(X_test),Y_test)"
   ]
  },
  {
   "cell_type": "code",
   "execution_count": 38,
   "id": "a77baff2",
   "metadata": {},
   "outputs": [],
   "source": [
    "df2=pd.DataFrame()\n",
    "df2[\"Actual_value\"]=Y_test\n",
    "df2[\"Predicted_value\"]=regressor.predict(X_test)"
   ]
  },
  {
   "cell_type": "code",
   "execution_count": 39,
   "id": "cf93c2ce",
   "metadata": {},
   "outputs": [
    {
     "data": {
      "text/html": [
       "<div>\n",
       "<style scoped>\n",
       "    .dataframe tbody tr th:only-of-type {\n",
       "        vertical-align: middle;\n",
       "    }\n",
       "\n",
       "    .dataframe tbody tr th {\n",
       "        vertical-align: top;\n",
       "    }\n",
       "\n",
       "    .dataframe thead th {\n",
       "        text-align: right;\n",
       "    }\n",
       "</style>\n",
       "<table border=\"1\" class=\"dataframe\">\n",
       "  <thead>\n",
       "    <tr style=\"text-align: right;\">\n",
       "      <th></th>\n",
       "      <th>Actual_value</th>\n",
       "      <th>Predicted_value</th>\n",
       "    </tr>\n",
       "  </thead>\n",
       "  <tbody>\n",
       "    <tr>\n",
       "      <th>608</th>\n",
       "      <td>1.470000e+11</td>\n",
       "      <td>1.490574e+11</td>\n",
       "    </tr>\n",
       "    <tr>\n",
       "      <th>1433</th>\n",
       "      <td>5.266103e+09</td>\n",
       "      <td>4.737319e+09</td>\n",
       "    </tr>\n",
       "    <tr>\n",
       "      <th>1737</th>\n",
       "      <td>7.232397e+09</td>\n",
       "      <td>7.195096e+09</td>\n",
       "    </tr>\n",
       "    <tr>\n",
       "      <th>1502</th>\n",
       "      <td>2.665000e+09</td>\n",
       "      <td>2.787524e+09</td>\n",
       "    </tr>\n",
       "    <tr>\n",
       "      <th>603</th>\n",
       "      <td>8.773564e+09</td>\n",
       "      <td>8.810319e+09</td>\n",
       "    </tr>\n",
       "    <tr>\n",
       "      <th>...</th>\n",
       "      <td>...</td>\n",
       "      <td>...</td>\n",
       "    </tr>\n",
       "    <tr>\n",
       "      <th>243</th>\n",
       "      <td>8.305100e+09</td>\n",
       "      <td>8.313403e+09</td>\n",
       "    </tr>\n",
       "    <tr>\n",
       "      <th>1123</th>\n",
       "      <td>4.608563e+09</td>\n",
       "      <td>4.875873e+09</td>\n",
       "    </tr>\n",
       "    <tr>\n",
       "      <th>448</th>\n",
       "      <td>1.602213e+10</td>\n",
       "      <td>1.620527e+10</td>\n",
       "    </tr>\n",
       "    <tr>\n",
       "      <th>1541</th>\n",
       "      <td>1.492000e+09</td>\n",
       "      <td>1.703608e+09</td>\n",
       "    </tr>\n",
       "    <tr>\n",
       "      <th>1199</th>\n",
       "      <td>8.292000e+09</td>\n",
       "      <td>8.403432e+09</td>\n",
       "    </tr>\n",
       "  </tbody>\n",
       "</table>\n",
       "<p>535 rows × 2 columns</p>\n",
       "</div>"
      ],
      "text/plain": [
       "      Actual_value  Predicted_value\n",
       "608   1.470000e+11     1.490574e+11\n",
       "1433  5.266103e+09     4.737319e+09\n",
       "1737  7.232397e+09     7.195096e+09\n",
       "1502  2.665000e+09     2.787524e+09\n",
       "603   8.773564e+09     8.810319e+09\n",
       "...            ...              ...\n",
       "243   8.305100e+09     8.313403e+09\n",
       "1123  4.608563e+09     4.875873e+09\n",
       "448   1.602213e+10     1.620527e+10\n",
       "1541  1.492000e+09     1.703608e+09\n",
       "1199  8.292000e+09     8.403432e+09\n",
       "\n",
       "[535 rows x 2 columns]"
      ]
     },
     "execution_count": 39,
     "metadata": {},
     "output_type": "execute_result"
    }
   ],
   "source": [
    "df2"
   ]
  },
  {
   "cell_type": "markdown",
   "id": "e9ba6885",
   "metadata": {},
   "source": [
    "#### 2. Taking “Total Revenue” as the dependent variable, perform multiple linear regression on every other variable except - Period Ending, Estimated Shares Outstanding."
   ]
  },
  {
   "cell_type": "code",
   "execution_count": 40,
   "id": "ab7bd651",
   "metadata": {},
   "outputs": [
    {
     "name": "stdout",
     "output_type": "stream",
     "text": [
      "[[ 3.06800000e+09 -2.22000000e+08 -1.96100000e+09 ... -3.67000000e+08\n",
      "   2.01200000e+03 -5.60000000e+00]\n",
      " [ 4.97500000e+09 -9.30000000e+07 -2.72300000e+09 ...  0.00000000e+00\n",
      "   2.01300000e+03 -1.12500000e+01]\n",
      " [ 4.66800000e+09 -1.60000000e+08 -1.50000000e+08 ...  0.00000000e+00\n",
      "   2.01400000e+03  4.02000000e+00]\n",
      " ...\n",
      " [ 1.07100000e+09  6.90000000e+07 -7.00000000e+06 ...  0.00000000e+00\n",
      "   2.01400000e+03  1.16000000e+00]\n",
      " [ 1.31300000e+09 -5.80000000e+07 -8.10000000e+07 ... -2.03000000e+08\n",
      "   2.01500000e+03  6.80000000e-01]\n",
      " [ 1.07600000e+09  1.50000000e+07  2.00000000e+06 ... -4.21000000e+08\n",
      "   2.01330535e+03  3.35370679e+00]]\n",
      "[3.35000000e+08 1.63022222e+08 7.16915423e+08 ... 5.02586207e+08\n",
      " 4.98529412e+08 6.02424368e+08]\n",
      "[ 3.0680e+09 -2.2200e+08 -1.9610e+09  2.3000e+01 -1.8880e+09  4.6950e+09\n",
      "  5.3000e+01  1.3300e+09  0.0000e+00  1.2700e+08  1.0499e+10  7.8000e+01\n",
      "  0.0000e+00  2.2300e+08  1.0010e+09 -1.8130e+09 -2.4450e+09  0.0000e+00\n",
      "  0.0000e+00  1.3402e+10  0.0000e+00  5.8000e+01  1.4356e+10 -5.6900e+08\n",
      "  8.6900e+08  6.3200e+08  5.8000e+08  3.0600e+08  4.7300e+08  7.1160e+09\n",
      "  0.0000e+00  0.0000e+00  0.0000e+00 -1.0200e+09  1.9700e+08  1.2850e+09\n",
      "  4.8300e+08 -1.5710e+09 -1.8760e+09  2.0500e+09 -1.8760e+09 -4.0840e+09\n",
      "  1.1240e+09  3.8600e+08  1.4800e+08  1.0000e+00  2.1670e+09  6.2600e+08\n",
      "  4.5240e+09 -2.9800e+09  1.5090e+09  1.1000e+07  1.5147e+10 -1.4100e+08\n",
      "  8.4500e+08  1.0000e+01  3.1000e+01  8.0000e+00  7.2000e+01  0.0000e+00\n",
      " -9.4620e+09  0.0000e+00  1.2977e+10  1.4190e+09  3.4120e+09  2.3510e+10\n",
      "  7.0720e+09  9.0110e+09 -7.9870e+09  2.4891e+10  1.6904e+10  2.4855e+10\n",
      " -3.6700e+08  2.0120e+03 -5.6000e+00]\n"
     ]
    }
   ],
   "source": [
    "X=df.iloc[:,1:-1].values\n",
    "Y=df.iloc[:,-1].values\n",
    "print(X)\n",
    "print(Y)\n",
    "print(X[0])"
   ]
  },
  {
   "cell_type": "code",
   "execution_count": 41,
   "id": "302cd7f5",
   "metadata": {},
   "outputs": [],
   "source": [
    "from sklearn.model_selection import train_test_split\n",
    "X_train, X_test, Y_train, Y_test = train_test_split(X, Y, test_size = 0.25,random_state=5)"
   ]
  },
  {
   "cell_type": "code",
   "execution_count": 42,
   "id": "f06754cb",
   "metadata": {},
   "outputs": [
    {
     "name": "stdout",
     "output_type": "stream",
     "text": [
      "(1335, 75)\n",
      "(446, 75)\n",
      "(1335,)\n",
      "(446,)\n"
     ]
    }
   ],
   "source": [
    "print(X_train.shape)\n",
    "print(X_test.shape)\n",
    "print(Y_train.shape)\n",
    "print(Y_test.shape)"
   ]
  },
  {
   "cell_type": "code",
   "execution_count": 43,
   "id": "2e5937db",
   "metadata": {},
   "outputs": [
    {
     "data": {
      "text/plain": [
       "LinearRegression()"
      ]
     },
     "execution_count": 43,
     "metadata": {},
     "output_type": "execute_result"
    }
   ],
   "source": [
    "from sklearn.linear_model import LinearRegression\n",
    "regression = LinearRegression()\n",
    "regression.fit(X_train, Y_train)"
   ]
  },
  {
   "cell_type": "code",
   "execution_count": 44,
   "id": "4c2eee58",
   "metadata": {},
   "outputs": [
    {
     "data": {
      "text/plain": [
       "array([-1.99821210e-02, -7.96467629e-02,  2.34034661e-01,  2.88068819e+05,\n",
       "        2.09640321e-03,  8.47529385e-03,  3.22645180e+05, -2.49537280e-03,\n",
       "       -3.22889543e-02, -1.51145582e-02, -4.23340644e-02,  3.60010965e+04,\n",
       "       -7.32756938e-03, -9.30904507e-03, -1.68628233e-02, -9.45738950e-01,\n",
       "        3.79565270e-01, -5.49618719e-01,  2.34745536e-01,  1.80502152e-03,\n",
       "        1.25729732e-03, -6.59210229e+05, -4.52085454e-02,  1.95587789e-01,\n",
       "        4.45364407e-03,  7.12503072e-01, -5.15244258e-03, -3.31186017e-02,\n",
       "       -5.97328196e-02, -3.95605805e-02, -7.18993401e-03, -2.32895413e-03,\n",
       "        1.76707958e-02,  7.83492759e-02, -6.98011954e-03,  2.37620834e-02,\n",
       "       -1.09568807e-01,  5.04620426e-03, -7.39363768e-02, -5.94266257e-02,\n",
       "        1.76566862e-01,  1.21386459e-01, -1.43057317e-04,  4.32184652e-02,\n",
       "        3.86605292e-01, -2.32144746e+06, -1.03229767e-02, -4.91959391e-03,\n",
       "       -1.58097698e-02,  9.06578056e-03,  8.67492807e-02, -2.96643814e-02,\n",
       "       -1.62228806e-02, -4.19904190e-02,  1.86549144e-02,  3.45003901e+06,\n",
       "       -1.88125083e+05, -1.29408428e+06, -2.66034461e+05,  4.64987542e-02,\n",
       "       -1.04718039e-02,  7.77510172e-02,  2.14220885e-02,  1.43725905e-02,\n",
       "        2.95445466e-02,  2.97543559e-02,  2.98347989e-02, -3.45448702e-02,\n",
       "       -1.34815045e-01, -1.20545729e-01,  1.15157426e-01,  4.07601518e-02,\n",
       "       -1.16622439e-02,  3.08796041e+04, -3.81039896e+07])"
      ]
     },
     "execution_count": 44,
     "metadata": {},
     "output_type": "execute_result"
    }
   ],
   "source": [
    "regression.coef_"
   ]
  },
  {
   "cell_type": "code",
   "execution_count": 45,
   "id": "c45dc29a",
   "metadata": {},
   "outputs": [
    {
     "data": {
      "text/plain": [
       "222824399.851583"
      ]
     },
     "execution_count": 45,
     "metadata": {},
     "output_type": "execute_result"
    }
   ],
   "source": [
    "regression.intercept_"
   ]
  },
  {
   "cell_type": "code",
   "execution_count": 46,
   "id": "9cf70f8f",
   "metadata": {},
   "outputs": [
    {
     "data": {
      "text/plain": [
       "array([ 7.23243827e+08,  3.90528001e+08,  2.91951494e+08,  8.06264115e+08,\n",
       "        4.26908247e+08,  2.84415000e+08, -1.11775770e+09,  5.16238963e+08,\n",
       "       -8.54893425e+06,  1.49635984e+08,  4.00212988e+08,  4.65937193e+08,\n",
       "        8.86138258e+08,  6.74789324e+08,  1.74215787e+08,  3.48509036e+08,\n",
       "        4.67975255e+08,  3.20437634e+08,  4.82304565e+08,  1.43324678e+08,\n",
       "        9.72081441e+08,  5.37008614e+08,  8.86104526e+08,  2.44107442e+08,\n",
       "        2.24176784e+08,  6.44681585e+08,  8.16770631e+08,  5.70528655e+08,\n",
       "        3.49479953e+08,  1.29509229e+09,  8.93207146e+08,  1.00177891e+09,\n",
       "        1.98836699e+08,  1.57625406e+09,  9.62418442e+09,  5.62257309e+08,\n",
       "        7.36026817e+08,  6.15993177e+08,  1.69686807e+08,  4.62581272e+08,\n",
       "        2.04474835e+08,  4.19046555e+08,  5.00862178e+08,  1.76172359e+08,\n",
       "        3.17157624e+08,  2.62724424e+08,  6.49126219e+08,  2.78392374e+08,\n",
       "        2.32013854e+08,  2.45173713e+08,  2.13350417e+08,  3.39524589e+08,\n",
       "        6.45145038e+08,  6.39770495e+08,  8.54223115e+08,  4.01347306e+08,\n",
       "        4.72966512e+08,  2.14812848e+09,  2.32868544e+08,  3.07442294e+08,\n",
       "        5.64068352e+08,  1.76415844e+08,  1.67651078e+08,  3.89702907e+08,\n",
       "        3.61286550e+08,  2.81277069e+08,  1.91646918e+08,  3.40644348e+08,\n",
       "        3.67801951e+08,  4.20991057e+08,  3.28020876e+08,  4.16238996e+08,\n",
       "        6.59072995e+08,  6.47329210e+08,  4.42147626e+08,  4.12739881e+08,\n",
       "        9.04928003e+07,  7.24655292e+08,  1.83155351e+08,  2.13324620e+08,\n",
       "        5.54905525e+08,  2.58092147e+08,  1.96131905e+08,  2.21346508e+08,\n",
       "        4.81638415e+08,  5.22781831e+08,  3.62287745e+08,  4.85762452e+08,\n",
       "        2.35240068e+08,  2.31677731e+08,  5.41306489e+08,  1.06419915e+09,\n",
       "        3.51367833e+09,  5.93673396e+08, -2.86964789e+07,  3.51969239e+08,\n",
       "       -2.13597831e+08,  8.95979617e+08,  5.73392715e+08,  2.65465741e+08,\n",
       "        5.53191461e+08,  5.84974860e+07,  8.05649228e+08,  8.44114418e+08,\n",
       "        2.43615218e+08,  4.23261553e+08,  1.91948353e+08,  2.43160831e+08,\n",
       "        3.05751199e+08,  5.78604440e+08,  1.97228867e+08,  3.20202940e+08,\n",
       "        2.40159613e+08,  2.91985304e+08,  9.94951892e+08,  6.14621841e+08,\n",
       "        2.32784163e+08,  4.03411275e+08,  1.37489157e+09,  1.14770106e+09,\n",
       "        5.33259101e+08,  1.10959433e+08,  5.86463426e+08,  9.05865900e+07,\n",
       "        1.73875449e+08,  3.38784741e+08,  7.21644821e+08,  3.39357530e+08,\n",
       "        5.62687395e+08,  4.55833672e+08,  9.15210948e+08,  1.29923055e+09,\n",
       "        7.76216713e+07,  2.25644743e+08,  6.42125470e+08,  3.79921380e+08,\n",
       "        2.71904826e+08,  2.14484385e+08,  2.44879622e+08,  4.01013478e+08,\n",
       "        3.25472727e+08,  6.57773132e+08,  1.22636287e+08,  3.93082328e+08,\n",
       "        3.45603285e+09,  5.70289857e+08,  2.87559872e+08,  8.32108603e+08,\n",
       "        2.59753660e+08,  4.84366511e+08,  8.85380405e+08,  7.65109295e+08,\n",
       "        2.21425699e+08,  5.06740119e+08,  2.92863438e+08,  4.64667834e+08,\n",
       "        4.30903030e+08,  1.26536053e+09,  1.85407220e+09,  4.62766072e+08,\n",
       "        5.50803916e+08,  1.04143679e+08,  2.26952387e+08,  2.86516333e+08,\n",
       "        8.51249510e+08,  1.39690755e+08,  3.78863803e+08,  7.98477222e+08,\n",
       "        1.01633726e+08,  7.26101075e+08,  5.82381090e+08,  2.54154470e+08,\n",
       "        2.87457051e+08,  3.20884398e+08,  1.68469177e+09,  6.01174328e+08,\n",
       "        1.81998309e+08,  3.15511187e+08,  2.84612175e+08,  1.55710172e+08,\n",
       "        5.04823211e+08,  4.29911782e+08,  4.22395917e+08,  5.17624491e+08,\n",
       "        1.03899706e+09,  3.84166503e+08,  3.68858508e+08,  5.11306355e+08,\n",
       "        3.43323703e+08,  4.74342733e+08,  4.95170910e+08,  4.51836966e+08,\n",
       "        8.94426524e+07,  1.61515656e+08,  2.35109661e+09,  5.33976931e+08,\n",
       "        4.98938320e+08,  1.86628172e+07,  1.20767250e+09,  2.00408621e+08,\n",
       "        2.14669520e+08,  1.07437929e+09,  5.84492629e+08,  1.00195606e+09,\n",
       "        3.22531174e+08,  8.21544349e+08,  2.36728001e+08,  1.38796353e+09,\n",
       "        2.47476984e+08, -7.54937822e+08,  1.66302817e+08,  4.40628483e+08,\n",
       "        1.76962285e+08,  4.88411271e+08,  2.30058725e+08,  1.47582234e+09,\n",
       "        1.76319673e+08,  6.89728272e+08,  2.71539858e+08,  1.35186423e+07,\n",
       "        1.31198910e+09,  1.55195188e+09,  6.80516708e+08,  1.32249668e+09,\n",
       "        1.19577304e+09,  3.63004333e+08,  5.45922585e+08,  1.45888479e+09,\n",
       "        5.07241921e+08,  5.56950134e+08,  7.43708846e+08,  4.72828534e+08,\n",
       "        1.80447722e+08,  4.47022476e+08,  7.18405569e+08,  6.23801959e+08,\n",
       "        3.50698709e+08,  2.97953094e+08,  1.02262344e+09, -1.06066622e+09,\n",
       "        2.63664787e+08,  3.89086359e+08,  1.68802666e+08,  2.38519753e+09,\n",
       "        5.08614623e+08,  5.00947240e+08,  1.72606466e+08,  3.17989207e+08,\n",
       "        1.20555819e+09,  2.42857426e+08,  2.00547128e+08,  3.94532510e+08,\n",
       "        4.09350065e+08,  4.08100134e+08,  1.57982444e+08,  4.37648749e+08,\n",
       "        1.21942404e+09,  3.05140929e+08,  3.00983358e+08,  2.93952518e+08,\n",
       "        1.60873103e+08,  2.16916221e+08,  1.80053053e+08,  5.97192776e+08,\n",
       "        9.02958777e+08,  8.58502186e+08,  4.14721231e+08,  3.93082328e+08,\n",
       "        2.83413149e+08,  1.97483772e+08,  5.83101502e+07,  1.47631702e+08,\n",
       "        4.92598461e+08,  5.79951611e+08,  2.61606964e+08,  2.46298056e+09,\n",
       "        2.65163635e+08,  4.85142600e+08,  3.31006428e+08,  3.44961757e+08,\n",
       "        3.64685642e+08,  1.32163439e+08,  1.93998496e+08,  2.90415257e+08,\n",
       "        1.53695876e+09,  3.74310017e+08,  1.77624878e+08,  1.96471254e+08,\n",
       "        2.51144099e+08,  4.08513017e+08,  3.22228297e+08,  2.72244719e+08,\n",
       "        7.41783480e+08,  1.16508294e+09,  3.67487608e+08,  2.81817106e+08,\n",
       "        2.29062969e+08,  2.74466846e+08,  3.79320785e+08,  7.25120156e+08,\n",
       "        3.52765078e+08,  1.30550154e+09,  2.73300545e+08,  7.24565675e+07,\n",
       "        3.00947800e+08,  1.23699328e+09,  1.30716514e+09,  2.79894088e+09,\n",
       "        2.69033547e+08,  9.19241392e+08,  4.10902041e+09,  8.67655517e+08,\n",
       "        5.14214926e+08,  1.75363914e+08,  3.05104742e+08,  1.03426708e+08,\n",
       "        2.94801361e+08,  3.31850630e+08,  3.31520196e+08,  5.09294674e+08,\n",
       "        7.20432429e+08,  6.86854065e+08,  3.52837116e+08,  3.44218015e+08,\n",
       "        2.09179488e+08,  2.25394217e+08,  8.92396781e+08,  3.86308126e+08,\n",
       "       -1.40406455e+08,  3.58295449e+08,  5.96171008e+08,  1.91942673e+09,\n",
       "        3.39043628e+08,  2.80571896e+08,  3.36384277e+08,  1.21770803e+08,\n",
       "        2.97706715e+08,  1.61588481e+08,  9.36007350e+08,  1.01738970e+09,\n",
       "        1.45251126e+08,  2.01061647e+08,  4.93144091e+08,  6.42031898e+08,\n",
       "        5.09799646e+08,  1.43008836e+08,  3.74287317e+08,  3.82783193e+08,\n",
       "        1.24930332e+08,  1.02950963e+09,  2.27387844e+08,  3.25257292e+08,\n",
       "        8.16185689e+08,  1.64888963e+08,  1.73796924e+08,  2.39163205e+08,\n",
       "        1.40181755e+09,  5.24150315e+08,  1.19673613e+08,  6.25036072e+08,\n",
       "        2.79195754e+09,  4.31268945e+08,  3.11307233e+09,  2.24757246e+08,\n",
       "        5.21110471e+08,  3.17633939e+08,  5.12656750e+08,  3.18878509e+08,\n",
       "        2.56774991e+08,  3.34975620e+08,  3.69568803e+08,  3.71610601e+08,\n",
       "        3.11432209e+08,  1.34539729e+09,  3.38206941e+08,  3.92419351e+08,\n",
       "        3.27021656e+08,  4.24161860e+08,  9.02690860e+08,  5.75977412e+08,\n",
       "        2.38248369e+08,  7.62267332e+08,  1.07140311e+09,  2.41775181e+08,\n",
       "        3.99670876e+08,  3.76780430e+08,  6.63246958e+08,  2.85355057e+08,\n",
       "        4.73298078e+08,  3.75524891e+08,  7.44174843e+08,  1.52310082e+09,\n",
       "        4.21982428e+08,  5.06909357e+08,  4.50215841e+08,  5.38208022e+08,\n",
       "        4.05743216e+08,  4.28783984e+08,  4.49275390e+08,  1.42325002e+08,\n",
       "        2.98907432e+08,  5.57407223e+07,  4.00174691e+08,  8.00960785e+09,\n",
       "        1.38439021e+08,  2.43459494e+08,  2.36752550e+08,  7.11592138e+07,\n",
       "        3.45594449e+08,  3.14187979e+08,  3.75278769e+08,  1.42939450e+08,\n",
       "        1.66928801e+08,  4.54754732e+07, -3.91351327e+08,  2.21026140e+08,\n",
       "        6.48929538e+08, -1.47789518e+06,  2.84977374e+08,  3.69991947e+08,\n",
       "        1.27309081e+08,  1.73716882e+08,  2.49260909e+08,  1.43971792e+08,\n",
       "        1.10757004e+10,  2.58238138e+08,  2.09031381e+08,  3.12130853e+09,\n",
       "        8.10822576e+07,  7.41485324e+08,  9.60539324e+08,  8.99314332e+08,\n",
       "        2.72771813e+08,  1.37751707e+09,  4.49490269e+08,  2.03333187e+08,\n",
       "        1.87028077e+09, -1.00288192e+07,  2.86498747e+08,  4.92993502e+09,\n",
       "        3.25774249e+08,  5.63402712e+08,  5.89728721e+08,  8.77752101e+08,\n",
       "        4.52767576e+08,  2.31374131e+08])"
      ]
     },
     "execution_count": 46,
     "metadata": {},
     "output_type": "execute_result"
    }
   ],
   "source": [
    "regression.predict(X_test)"
   ]
  },
  {
   "cell_type": "code",
   "execution_count": 47,
   "id": "c586685b",
   "metadata": {},
   "outputs": [
    {
     "data": {
      "text/plain": [
       "0.8708525054776913"
      ]
     },
     "execution_count": 47,
     "metadata": {},
     "output_type": "execute_result"
    }
   ],
   "source": [
    "regression.score(X_train,Y_train)"
   ]
  },
  {
   "cell_type": "code",
   "execution_count": 48,
   "id": "16584c91",
   "metadata": {},
   "outputs": [
    {
     "data": {
      "text/plain": [
       "0.5981266863734804"
      ]
     },
     "execution_count": 48,
     "metadata": {},
     "output_type": "execute_result"
    }
   ],
   "source": [
    "regression.score(X_test,Y_test)"
   ]
  },
  {
   "cell_type": "code",
   "execution_count": 49,
   "id": "cc837d06",
   "metadata": {},
   "outputs": [
    {
     "data": {
      "text/plain": [
       "0.5560906436378237"
      ]
     },
     "execution_count": 49,
     "metadata": {},
     "output_type": "execute_result"
    }
   ],
   "source": [
    "from sklearn.metrics import r2_score\n",
    "r2_score(regression.predict(X_test),Y_test)"
   ]
  },
  {
   "cell_type": "code",
   "execution_count": 50,
   "id": "65e54099",
   "metadata": {},
   "outputs": [],
   "source": [
    "df2=pd.DataFrame()\n",
    "df2[\"Actual_value\"]=Y_test\n",
    "df2[\"Predicted_value\"]=regression.predict(X_test)"
   ]
  },
  {
   "cell_type": "code",
   "execution_count": 51,
   "id": "a40a18c7",
   "metadata": {},
   "outputs": [
    {
     "data": {
      "text/html": [
       "<div>\n",
       "<style scoped>\n",
       "    .dataframe tbody tr th:only-of-type {\n",
       "        vertical-align: middle;\n",
       "    }\n",
       "\n",
       "    .dataframe tbody tr th {\n",
       "        vertical-align: top;\n",
       "    }\n",
       "\n",
       "    .dataframe thead th {\n",
       "        text-align: right;\n",
       "    }\n",
       "</style>\n",
       "<table border=\"1\" class=\"dataframe\">\n",
       "  <thead>\n",
       "    <tr style=\"text-align: right;\">\n",
       "      <th></th>\n",
       "      <th>Actual_value</th>\n",
       "      <th>Predicted_value</th>\n",
       "    </tr>\n",
       "  </thead>\n",
       "  <tbody>\n",
       "    <tr>\n",
       "      <th>0</th>\n",
       "      <td>4.566667e+08</td>\n",
       "      <td>7.232438e+08</td>\n",
       "    </tr>\n",
       "    <tr>\n",
       "      <th>1</th>\n",
       "      <td>1.486392e+08</td>\n",
       "      <td>3.905280e+08</td>\n",
       "    </tr>\n",
       "    <tr>\n",
       "      <th>2</th>\n",
       "      <td>6.024244e+08</td>\n",
       "      <td>2.919515e+08</td>\n",
       "    </tr>\n",
       "    <tr>\n",
       "      <th>3</th>\n",
       "      <td>5.486869e+08</td>\n",
       "      <td>8.062641e+08</td>\n",
       "    </tr>\n",
       "    <tr>\n",
       "      <th>4</th>\n",
       "      <td>6.527778e+08</td>\n",
       "      <td>4.269082e+08</td>\n",
       "    </tr>\n",
       "    <tr>\n",
       "      <th>...</th>\n",
       "      <td>...</td>\n",
       "      <td>...</td>\n",
       "    </tr>\n",
       "    <tr>\n",
       "      <th>441</th>\n",
       "      <td>3.140541e+08</td>\n",
       "      <td>5.634027e+08</td>\n",
       "    </tr>\n",
       "    <tr>\n",
       "      <th>442</th>\n",
       "      <td>2.881667e+09</td>\n",
       "      <td>5.897287e+08</td>\n",
       "    </tr>\n",
       "    <tr>\n",
       "      <th>443</th>\n",
       "      <td>1.163023e+09</td>\n",
       "      <td>8.777521e+08</td>\n",
       "    </tr>\n",
       "    <tr>\n",
       "      <th>444</th>\n",
       "      <td>1.480643e+08</td>\n",
       "      <td>4.527676e+08</td>\n",
       "    </tr>\n",
       "    <tr>\n",
       "      <th>445</th>\n",
       "      <td>1.491473e+08</td>\n",
       "      <td>2.313741e+08</td>\n",
       "    </tr>\n",
       "  </tbody>\n",
       "</table>\n",
       "<p>446 rows × 2 columns</p>\n",
       "</div>"
      ],
      "text/plain": [
       "     Actual_value  Predicted_value\n",
       "0    4.566667e+08     7.232438e+08\n",
       "1    1.486392e+08     3.905280e+08\n",
       "2    6.024244e+08     2.919515e+08\n",
       "3    5.486869e+08     8.062641e+08\n",
       "4    6.527778e+08     4.269082e+08\n",
       "..            ...              ...\n",
       "441  3.140541e+08     5.634027e+08\n",
       "442  2.881667e+09     5.897287e+08\n",
       "443  1.163023e+09     8.777521e+08\n",
       "444  1.480643e+08     4.527676e+08\n",
       "445  1.491473e+08     2.313741e+08\n",
       "\n",
       "[446 rows x 2 columns]"
      ]
     },
     "execution_count": 51,
     "metadata": {},
     "output_type": "execute_result"
    }
   ],
   "source": [
    "df2"
   ]
  },
  {
   "cell_type": "code",
   "execution_count": null,
   "id": "cd0d34b3",
   "metadata": {},
   "outputs": [],
   "source": []
  },
  {
   "cell_type": "code",
   "execution_count": null,
   "id": "b2a81c4b",
   "metadata": {},
   "outputs": [],
   "source": []
  }
 ],
 "metadata": {
  "kernelspec": {
   "display_name": "Python 3 (ipykernel)",
   "language": "python",
   "name": "python3"
  },
  "language_info": {
   "codemirror_mode": {
    "name": "ipython",
    "version": 3
   },
   "file_extension": ".py",
   "mimetype": "text/x-python",
   "name": "python",
   "nbconvert_exporter": "python",
   "pygments_lexer": "ipython3",
   "version": "3.8.10"
  }
 },
 "nbformat": 4,
 "nbformat_minor": 5
}
